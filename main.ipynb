{
  "nbformat": 4,
  "nbformat_minor": 0,
  "metadata": {
    "colab": {
      "provenance": [],
      "gpuType": "T4"
    },
    "kernelspec": {
      "name": "python3",
      "display_name": "Python 3"
    },
    "language_info": {
      "name": "python"
    },
    "accelerator": "GPU",
    "widgets": {
      "application/vnd.jupyter.widget-state+json": {
        "029b22407a2e452198e9994b6dad4191": {
          "model_module": "@jupyter-widgets/controls",
          "model_name": "HBoxModel",
          "model_module_version": "1.5.0",
          "state": {
            "_dom_classes": [],
            "_model_module": "@jupyter-widgets/controls",
            "_model_module_version": "1.5.0",
            "_model_name": "HBoxModel",
            "_view_count": null,
            "_view_module": "@jupyter-widgets/controls",
            "_view_module_version": "1.5.0",
            "_view_name": "HBoxView",
            "box_style": "",
            "children": [
              "IPY_MODEL_7d466fd04f894bf1ac1d798142c18a5f",
              "IPY_MODEL_837d7d665a984f7a80e81934f34c9df0",
              "IPY_MODEL_b02f0dd9d4174c0a93e6b0d5f786fdf1"
            ],
            "layout": "IPY_MODEL_379e6b1b2343408ca8951b66d5b3c51b"
          }
        },
        "7d466fd04f894bf1ac1d798142c18a5f": {
          "model_module": "@jupyter-widgets/controls",
          "model_name": "HTMLModel",
          "model_module_version": "1.5.0",
          "state": {
            "_dom_classes": [],
            "_model_module": "@jupyter-widgets/controls",
            "_model_module_version": "1.5.0",
            "_model_name": "HTMLModel",
            "_view_count": null,
            "_view_module": "@jupyter-widgets/controls",
            "_view_module_version": "1.5.0",
            "_view_name": "HTMLView",
            "description": "",
            "description_tooltip": null,
            "layout": "IPY_MODEL_a1a0ce06f51348e3b16193c3eb168ea5",
            "placeholder": "​",
            "style": "IPY_MODEL_e4de4ed88fe94c2485afe3984bf9f230",
            "value": "tokenizer_config.json: 100%"
          }
        },
        "837d7d665a984f7a80e81934f34c9df0": {
          "model_module": "@jupyter-widgets/controls",
          "model_name": "FloatProgressModel",
          "model_module_version": "1.5.0",
          "state": {
            "_dom_classes": [],
            "_model_module": "@jupyter-widgets/controls",
            "_model_module_version": "1.5.0",
            "_model_name": "FloatProgressModel",
            "_view_count": null,
            "_view_module": "@jupyter-widgets/controls",
            "_view_module_version": "1.5.0",
            "_view_name": "ProgressView",
            "bar_style": "success",
            "description": "",
            "description_tooltip": null,
            "layout": "IPY_MODEL_d5101a2d958c4c60b939178bb629142c",
            "max": 49,
            "min": 0,
            "orientation": "horizontal",
            "style": "IPY_MODEL_04e2b65474b04f38b8d470a5300b4501",
            "value": 49
          }
        },
        "b02f0dd9d4174c0a93e6b0d5f786fdf1": {
          "model_module": "@jupyter-widgets/controls",
          "model_name": "HTMLModel",
          "model_module_version": "1.5.0",
          "state": {
            "_dom_classes": [],
            "_model_module": "@jupyter-widgets/controls",
            "_model_module_version": "1.5.0",
            "_model_name": "HTMLModel",
            "_view_count": null,
            "_view_module": "@jupyter-widgets/controls",
            "_view_module_version": "1.5.0",
            "_view_name": "HTMLView",
            "description": "",
            "description_tooltip": null,
            "layout": "IPY_MODEL_0b1d7228fb504eb2809cda5a5f6a137c",
            "placeholder": "​",
            "style": "IPY_MODEL_ee67736917594d26a0882cba55f6e900",
            "value": " 49.0/49.0 [00:00&lt;00:00, 1.30kB/s]"
          }
        },
        "379e6b1b2343408ca8951b66d5b3c51b": {
          "model_module": "@jupyter-widgets/base",
          "model_name": "LayoutModel",
          "model_module_version": "1.2.0",
          "state": {
            "_model_module": "@jupyter-widgets/base",
            "_model_module_version": "1.2.0",
            "_model_name": "LayoutModel",
            "_view_count": null,
            "_view_module": "@jupyter-widgets/base",
            "_view_module_version": "1.2.0",
            "_view_name": "LayoutView",
            "align_content": null,
            "align_items": null,
            "align_self": null,
            "border": null,
            "bottom": null,
            "display": null,
            "flex": null,
            "flex_flow": null,
            "grid_area": null,
            "grid_auto_columns": null,
            "grid_auto_flow": null,
            "grid_auto_rows": null,
            "grid_column": null,
            "grid_gap": null,
            "grid_row": null,
            "grid_template_areas": null,
            "grid_template_columns": null,
            "grid_template_rows": null,
            "height": null,
            "justify_content": null,
            "justify_items": null,
            "left": null,
            "margin": null,
            "max_height": null,
            "max_width": null,
            "min_height": null,
            "min_width": null,
            "object_fit": null,
            "object_position": null,
            "order": null,
            "overflow": null,
            "overflow_x": null,
            "overflow_y": null,
            "padding": null,
            "right": null,
            "top": null,
            "visibility": null,
            "width": null
          }
        },
        "a1a0ce06f51348e3b16193c3eb168ea5": {
          "model_module": "@jupyter-widgets/base",
          "model_name": "LayoutModel",
          "model_module_version": "1.2.0",
          "state": {
            "_model_module": "@jupyter-widgets/base",
            "_model_module_version": "1.2.0",
            "_model_name": "LayoutModel",
            "_view_count": null,
            "_view_module": "@jupyter-widgets/base",
            "_view_module_version": "1.2.0",
            "_view_name": "LayoutView",
            "align_content": null,
            "align_items": null,
            "align_self": null,
            "border": null,
            "bottom": null,
            "display": null,
            "flex": null,
            "flex_flow": null,
            "grid_area": null,
            "grid_auto_columns": null,
            "grid_auto_flow": null,
            "grid_auto_rows": null,
            "grid_column": null,
            "grid_gap": null,
            "grid_row": null,
            "grid_template_areas": null,
            "grid_template_columns": null,
            "grid_template_rows": null,
            "height": null,
            "justify_content": null,
            "justify_items": null,
            "left": null,
            "margin": null,
            "max_height": null,
            "max_width": null,
            "min_height": null,
            "min_width": null,
            "object_fit": null,
            "object_position": null,
            "order": null,
            "overflow": null,
            "overflow_x": null,
            "overflow_y": null,
            "padding": null,
            "right": null,
            "top": null,
            "visibility": null,
            "width": null
          }
        },
        "e4de4ed88fe94c2485afe3984bf9f230": {
          "model_module": "@jupyter-widgets/controls",
          "model_name": "DescriptionStyleModel",
          "model_module_version": "1.5.0",
          "state": {
            "_model_module": "@jupyter-widgets/controls",
            "_model_module_version": "1.5.0",
            "_model_name": "DescriptionStyleModel",
            "_view_count": null,
            "_view_module": "@jupyter-widgets/base",
            "_view_module_version": "1.2.0",
            "_view_name": "StyleView",
            "description_width": ""
          }
        },
        "d5101a2d958c4c60b939178bb629142c": {
          "model_module": "@jupyter-widgets/base",
          "model_name": "LayoutModel",
          "model_module_version": "1.2.0",
          "state": {
            "_model_module": "@jupyter-widgets/base",
            "_model_module_version": "1.2.0",
            "_model_name": "LayoutModel",
            "_view_count": null,
            "_view_module": "@jupyter-widgets/base",
            "_view_module_version": "1.2.0",
            "_view_name": "LayoutView",
            "align_content": null,
            "align_items": null,
            "align_self": null,
            "border": null,
            "bottom": null,
            "display": null,
            "flex": null,
            "flex_flow": null,
            "grid_area": null,
            "grid_auto_columns": null,
            "grid_auto_flow": null,
            "grid_auto_rows": null,
            "grid_column": null,
            "grid_gap": null,
            "grid_row": null,
            "grid_template_areas": null,
            "grid_template_columns": null,
            "grid_template_rows": null,
            "height": null,
            "justify_content": null,
            "justify_items": null,
            "left": null,
            "margin": null,
            "max_height": null,
            "max_width": null,
            "min_height": null,
            "min_width": null,
            "object_fit": null,
            "object_position": null,
            "order": null,
            "overflow": null,
            "overflow_x": null,
            "overflow_y": null,
            "padding": null,
            "right": null,
            "top": null,
            "visibility": null,
            "width": null
          }
        },
        "04e2b65474b04f38b8d470a5300b4501": {
          "model_module": "@jupyter-widgets/controls",
          "model_name": "ProgressStyleModel",
          "model_module_version": "1.5.0",
          "state": {
            "_model_module": "@jupyter-widgets/controls",
            "_model_module_version": "1.5.0",
            "_model_name": "ProgressStyleModel",
            "_view_count": null,
            "_view_module": "@jupyter-widgets/base",
            "_view_module_version": "1.2.0",
            "_view_name": "StyleView",
            "bar_color": null,
            "description_width": ""
          }
        },
        "0b1d7228fb504eb2809cda5a5f6a137c": {
          "model_module": "@jupyter-widgets/base",
          "model_name": "LayoutModel",
          "model_module_version": "1.2.0",
          "state": {
            "_model_module": "@jupyter-widgets/base",
            "_model_module_version": "1.2.0",
            "_model_name": "LayoutModel",
            "_view_count": null,
            "_view_module": "@jupyter-widgets/base",
            "_view_module_version": "1.2.0",
            "_view_name": "LayoutView",
            "align_content": null,
            "align_items": null,
            "align_self": null,
            "border": null,
            "bottom": null,
            "display": null,
            "flex": null,
            "flex_flow": null,
            "grid_area": null,
            "grid_auto_columns": null,
            "grid_auto_flow": null,
            "grid_auto_rows": null,
            "grid_column": null,
            "grid_gap": null,
            "grid_row": null,
            "grid_template_areas": null,
            "grid_template_columns": null,
            "grid_template_rows": null,
            "height": null,
            "justify_content": null,
            "justify_items": null,
            "left": null,
            "margin": null,
            "max_height": null,
            "max_width": null,
            "min_height": null,
            "min_width": null,
            "object_fit": null,
            "object_position": null,
            "order": null,
            "overflow": null,
            "overflow_x": null,
            "overflow_y": null,
            "padding": null,
            "right": null,
            "top": null,
            "visibility": null,
            "width": null
          }
        },
        "ee67736917594d26a0882cba55f6e900": {
          "model_module": "@jupyter-widgets/controls",
          "model_name": "DescriptionStyleModel",
          "model_module_version": "1.5.0",
          "state": {
            "_model_module": "@jupyter-widgets/controls",
            "_model_module_version": "1.5.0",
            "_model_name": "DescriptionStyleModel",
            "_view_count": null,
            "_view_module": "@jupyter-widgets/base",
            "_view_module_version": "1.2.0",
            "_view_name": "StyleView",
            "description_width": ""
          }
        },
        "ebb32fbcda8e4261b80b9ae9c0641021": {
          "model_module": "@jupyter-widgets/controls",
          "model_name": "HBoxModel",
          "model_module_version": "1.5.0",
          "state": {
            "_dom_classes": [],
            "_model_module": "@jupyter-widgets/controls",
            "_model_module_version": "1.5.0",
            "_model_name": "HBoxModel",
            "_view_count": null,
            "_view_module": "@jupyter-widgets/controls",
            "_view_module_version": "1.5.0",
            "_view_name": "HBoxView",
            "box_style": "",
            "children": [
              "IPY_MODEL_73ed8ee922414b889f789356c6e1dfab",
              "IPY_MODEL_53cd97efdf6146219fbc5ebe103089d4",
              "IPY_MODEL_ed578e394d264ad28e6b24a5b8c1ee1d"
            ],
            "layout": "IPY_MODEL_4aaea284fe344215bc4a922c15dcf104"
          }
        },
        "73ed8ee922414b889f789356c6e1dfab": {
          "model_module": "@jupyter-widgets/controls",
          "model_name": "HTMLModel",
          "model_module_version": "1.5.0",
          "state": {
            "_dom_classes": [],
            "_model_module": "@jupyter-widgets/controls",
            "_model_module_version": "1.5.0",
            "_model_name": "HTMLModel",
            "_view_count": null,
            "_view_module": "@jupyter-widgets/controls",
            "_view_module_version": "1.5.0",
            "_view_name": "HTMLView",
            "description": "",
            "description_tooltip": null,
            "layout": "IPY_MODEL_5d278f68b8b946b090277a0c82cda271",
            "placeholder": "​",
            "style": "IPY_MODEL_69e97d1a029d4c759a744230e5020ef2",
            "value": "config.json: 100%"
          }
        },
        "53cd97efdf6146219fbc5ebe103089d4": {
          "model_module": "@jupyter-widgets/controls",
          "model_name": "FloatProgressModel",
          "model_module_version": "1.5.0",
          "state": {
            "_dom_classes": [],
            "_model_module": "@jupyter-widgets/controls",
            "_model_module_version": "1.5.0",
            "_model_name": "FloatProgressModel",
            "_view_count": null,
            "_view_module": "@jupyter-widgets/controls",
            "_view_module_version": "1.5.0",
            "_view_name": "ProgressView",
            "bar_style": "success",
            "description": "",
            "description_tooltip": null,
            "layout": "IPY_MODEL_85d72605f23d42f491d1285138e717c9",
            "max": 625,
            "min": 0,
            "orientation": "horizontal",
            "style": "IPY_MODEL_85c394483da341a18f64505a8de3c48a",
            "value": 625
          }
        },
        "ed578e394d264ad28e6b24a5b8c1ee1d": {
          "model_module": "@jupyter-widgets/controls",
          "model_name": "HTMLModel",
          "model_module_version": "1.5.0",
          "state": {
            "_dom_classes": [],
            "_model_module": "@jupyter-widgets/controls",
            "_model_module_version": "1.5.0",
            "_model_name": "HTMLModel",
            "_view_count": null,
            "_view_module": "@jupyter-widgets/controls",
            "_view_module_version": "1.5.0",
            "_view_name": "HTMLView",
            "description": "",
            "description_tooltip": null,
            "layout": "IPY_MODEL_823def0cf74e4eadb7067903049cb410",
            "placeholder": "​",
            "style": "IPY_MODEL_3f6f6e77003142a68f38dc1b995791ce",
            "value": " 625/625 [00:00&lt;00:00, 17.7kB/s]"
          }
        },
        "4aaea284fe344215bc4a922c15dcf104": {
          "model_module": "@jupyter-widgets/base",
          "model_name": "LayoutModel",
          "model_module_version": "1.2.0",
          "state": {
            "_model_module": "@jupyter-widgets/base",
            "_model_module_version": "1.2.0",
            "_model_name": "LayoutModel",
            "_view_count": null,
            "_view_module": "@jupyter-widgets/base",
            "_view_module_version": "1.2.0",
            "_view_name": "LayoutView",
            "align_content": null,
            "align_items": null,
            "align_self": null,
            "border": null,
            "bottom": null,
            "display": null,
            "flex": null,
            "flex_flow": null,
            "grid_area": null,
            "grid_auto_columns": null,
            "grid_auto_flow": null,
            "grid_auto_rows": null,
            "grid_column": null,
            "grid_gap": null,
            "grid_row": null,
            "grid_template_areas": null,
            "grid_template_columns": null,
            "grid_template_rows": null,
            "height": null,
            "justify_content": null,
            "justify_items": null,
            "left": null,
            "margin": null,
            "max_height": null,
            "max_width": null,
            "min_height": null,
            "min_width": null,
            "object_fit": null,
            "object_position": null,
            "order": null,
            "overflow": null,
            "overflow_x": null,
            "overflow_y": null,
            "padding": null,
            "right": null,
            "top": null,
            "visibility": null,
            "width": null
          }
        },
        "5d278f68b8b946b090277a0c82cda271": {
          "model_module": "@jupyter-widgets/base",
          "model_name": "LayoutModel",
          "model_module_version": "1.2.0",
          "state": {
            "_model_module": "@jupyter-widgets/base",
            "_model_module_version": "1.2.0",
            "_model_name": "LayoutModel",
            "_view_count": null,
            "_view_module": "@jupyter-widgets/base",
            "_view_module_version": "1.2.0",
            "_view_name": "LayoutView",
            "align_content": null,
            "align_items": null,
            "align_self": null,
            "border": null,
            "bottom": null,
            "display": null,
            "flex": null,
            "flex_flow": null,
            "grid_area": null,
            "grid_auto_columns": null,
            "grid_auto_flow": null,
            "grid_auto_rows": null,
            "grid_column": null,
            "grid_gap": null,
            "grid_row": null,
            "grid_template_areas": null,
            "grid_template_columns": null,
            "grid_template_rows": null,
            "height": null,
            "justify_content": null,
            "justify_items": null,
            "left": null,
            "margin": null,
            "max_height": null,
            "max_width": null,
            "min_height": null,
            "min_width": null,
            "object_fit": null,
            "object_position": null,
            "order": null,
            "overflow": null,
            "overflow_x": null,
            "overflow_y": null,
            "padding": null,
            "right": null,
            "top": null,
            "visibility": null,
            "width": null
          }
        },
        "69e97d1a029d4c759a744230e5020ef2": {
          "model_module": "@jupyter-widgets/controls",
          "model_name": "DescriptionStyleModel",
          "model_module_version": "1.5.0",
          "state": {
            "_model_module": "@jupyter-widgets/controls",
            "_model_module_version": "1.5.0",
            "_model_name": "DescriptionStyleModel",
            "_view_count": null,
            "_view_module": "@jupyter-widgets/base",
            "_view_module_version": "1.2.0",
            "_view_name": "StyleView",
            "description_width": ""
          }
        },
        "85d72605f23d42f491d1285138e717c9": {
          "model_module": "@jupyter-widgets/base",
          "model_name": "LayoutModel",
          "model_module_version": "1.2.0",
          "state": {
            "_model_module": "@jupyter-widgets/base",
            "_model_module_version": "1.2.0",
            "_model_name": "LayoutModel",
            "_view_count": null,
            "_view_module": "@jupyter-widgets/base",
            "_view_module_version": "1.2.0",
            "_view_name": "LayoutView",
            "align_content": null,
            "align_items": null,
            "align_self": null,
            "border": null,
            "bottom": null,
            "display": null,
            "flex": null,
            "flex_flow": null,
            "grid_area": null,
            "grid_auto_columns": null,
            "grid_auto_flow": null,
            "grid_auto_rows": null,
            "grid_column": null,
            "grid_gap": null,
            "grid_row": null,
            "grid_template_areas": null,
            "grid_template_columns": null,
            "grid_template_rows": null,
            "height": null,
            "justify_content": null,
            "justify_items": null,
            "left": null,
            "margin": null,
            "max_height": null,
            "max_width": null,
            "min_height": null,
            "min_width": null,
            "object_fit": null,
            "object_position": null,
            "order": null,
            "overflow": null,
            "overflow_x": null,
            "overflow_y": null,
            "padding": null,
            "right": null,
            "top": null,
            "visibility": null,
            "width": null
          }
        },
        "85c394483da341a18f64505a8de3c48a": {
          "model_module": "@jupyter-widgets/controls",
          "model_name": "ProgressStyleModel",
          "model_module_version": "1.5.0",
          "state": {
            "_model_module": "@jupyter-widgets/controls",
            "_model_module_version": "1.5.0",
            "_model_name": "ProgressStyleModel",
            "_view_count": null,
            "_view_module": "@jupyter-widgets/base",
            "_view_module_version": "1.2.0",
            "_view_name": "StyleView",
            "bar_color": null,
            "description_width": ""
          }
        },
        "823def0cf74e4eadb7067903049cb410": {
          "model_module": "@jupyter-widgets/base",
          "model_name": "LayoutModel",
          "model_module_version": "1.2.0",
          "state": {
            "_model_module": "@jupyter-widgets/base",
            "_model_module_version": "1.2.0",
            "_model_name": "LayoutModel",
            "_view_count": null,
            "_view_module": "@jupyter-widgets/base",
            "_view_module_version": "1.2.0",
            "_view_name": "LayoutView",
            "align_content": null,
            "align_items": null,
            "align_self": null,
            "border": null,
            "bottom": null,
            "display": null,
            "flex": null,
            "flex_flow": null,
            "grid_area": null,
            "grid_auto_columns": null,
            "grid_auto_flow": null,
            "grid_auto_rows": null,
            "grid_column": null,
            "grid_gap": null,
            "grid_row": null,
            "grid_template_areas": null,
            "grid_template_columns": null,
            "grid_template_rows": null,
            "height": null,
            "justify_content": null,
            "justify_items": null,
            "left": null,
            "margin": null,
            "max_height": null,
            "max_width": null,
            "min_height": null,
            "min_width": null,
            "object_fit": null,
            "object_position": null,
            "order": null,
            "overflow": null,
            "overflow_x": null,
            "overflow_y": null,
            "padding": null,
            "right": null,
            "top": null,
            "visibility": null,
            "width": null
          }
        },
        "3f6f6e77003142a68f38dc1b995791ce": {
          "model_module": "@jupyter-widgets/controls",
          "model_name": "DescriptionStyleModel",
          "model_module_version": "1.5.0",
          "state": {
            "_model_module": "@jupyter-widgets/controls",
            "_model_module_version": "1.5.0",
            "_model_name": "DescriptionStyleModel",
            "_view_count": null,
            "_view_module": "@jupyter-widgets/base",
            "_view_module_version": "1.2.0",
            "_view_name": "StyleView",
            "description_width": ""
          }
        },
        "a63cdd6215354417b6d2f0ac63637ea1": {
          "model_module": "@jupyter-widgets/controls",
          "model_name": "HBoxModel",
          "model_module_version": "1.5.0",
          "state": {
            "_dom_classes": [],
            "_model_module": "@jupyter-widgets/controls",
            "_model_module_version": "1.5.0",
            "_model_name": "HBoxModel",
            "_view_count": null,
            "_view_module": "@jupyter-widgets/controls",
            "_view_module_version": "1.5.0",
            "_view_name": "HBoxView",
            "box_style": "",
            "children": [
              "IPY_MODEL_b868f03406b349b5bdba630d95aca3b5",
              "IPY_MODEL_b0df0b7d08c145ec89f563540eb0ffea",
              "IPY_MODEL_08fd81fb851943d2822ca62776318ef5"
            ],
            "layout": "IPY_MODEL_47b57c206898402d8d0743988edb0eb7"
          }
        },
        "b868f03406b349b5bdba630d95aca3b5": {
          "model_module": "@jupyter-widgets/controls",
          "model_name": "HTMLModel",
          "model_module_version": "1.5.0",
          "state": {
            "_dom_classes": [],
            "_model_module": "@jupyter-widgets/controls",
            "_model_module_version": "1.5.0",
            "_model_name": "HTMLModel",
            "_view_count": null,
            "_view_module": "@jupyter-widgets/controls",
            "_view_module_version": "1.5.0",
            "_view_name": "HTMLView",
            "description": "",
            "description_tooltip": null,
            "layout": "IPY_MODEL_23a47279cdbe461189887d490e672830",
            "placeholder": "​",
            "style": "IPY_MODEL_25a4ee7c1b384da69b03a98be08b6a22",
            "value": "vocab.txt: 100%"
          }
        },
        "b0df0b7d08c145ec89f563540eb0ffea": {
          "model_module": "@jupyter-widgets/controls",
          "model_name": "FloatProgressModel",
          "model_module_version": "1.5.0",
          "state": {
            "_dom_classes": [],
            "_model_module": "@jupyter-widgets/controls",
            "_model_module_version": "1.5.0",
            "_model_name": "FloatProgressModel",
            "_view_count": null,
            "_view_module": "@jupyter-widgets/controls",
            "_view_module_version": "1.5.0",
            "_view_name": "ProgressView",
            "bar_style": "success",
            "description": "",
            "description_tooltip": null,
            "layout": "IPY_MODEL_43f00e77e8304485980450e6a01aa949",
            "max": 995526,
            "min": 0,
            "orientation": "horizontal",
            "style": "IPY_MODEL_3883c7915d92406fa067d93adc961564",
            "value": 995526
          }
        },
        "08fd81fb851943d2822ca62776318ef5": {
          "model_module": "@jupyter-widgets/controls",
          "model_name": "HTMLModel",
          "model_module_version": "1.5.0",
          "state": {
            "_dom_classes": [],
            "_model_module": "@jupyter-widgets/controls",
            "_model_module_version": "1.5.0",
            "_model_name": "HTMLModel",
            "_view_count": null,
            "_view_module": "@jupyter-widgets/controls",
            "_view_module_version": "1.5.0",
            "_view_name": "HTMLView",
            "description": "",
            "description_tooltip": null,
            "layout": "IPY_MODEL_75556e7b2c20460b86a645fe87935135",
            "placeholder": "​",
            "style": "IPY_MODEL_2df2e34d76c842df94947bfd9198f687",
            "value": " 996k/996k [00:00&lt;00:00, 4.57MB/s]"
          }
        },
        "47b57c206898402d8d0743988edb0eb7": {
          "model_module": "@jupyter-widgets/base",
          "model_name": "LayoutModel",
          "model_module_version": "1.2.0",
          "state": {
            "_model_module": "@jupyter-widgets/base",
            "_model_module_version": "1.2.0",
            "_model_name": "LayoutModel",
            "_view_count": null,
            "_view_module": "@jupyter-widgets/base",
            "_view_module_version": "1.2.0",
            "_view_name": "LayoutView",
            "align_content": null,
            "align_items": null,
            "align_self": null,
            "border": null,
            "bottom": null,
            "display": null,
            "flex": null,
            "flex_flow": null,
            "grid_area": null,
            "grid_auto_columns": null,
            "grid_auto_flow": null,
            "grid_auto_rows": null,
            "grid_column": null,
            "grid_gap": null,
            "grid_row": null,
            "grid_template_areas": null,
            "grid_template_columns": null,
            "grid_template_rows": null,
            "height": null,
            "justify_content": null,
            "justify_items": null,
            "left": null,
            "margin": null,
            "max_height": null,
            "max_width": null,
            "min_height": null,
            "min_width": null,
            "object_fit": null,
            "object_position": null,
            "order": null,
            "overflow": null,
            "overflow_x": null,
            "overflow_y": null,
            "padding": null,
            "right": null,
            "top": null,
            "visibility": null,
            "width": null
          }
        },
        "23a47279cdbe461189887d490e672830": {
          "model_module": "@jupyter-widgets/base",
          "model_name": "LayoutModel",
          "model_module_version": "1.2.0",
          "state": {
            "_model_module": "@jupyter-widgets/base",
            "_model_module_version": "1.2.0",
            "_model_name": "LayoutModel",
            "_view_count": null,
            "_view_module": "@jupyter-widgets/base",
            "_view_module_version": "1.2.0",
            "_view_name": "LayoutView",
            "align_content": null,
            "align_items": null,
            "align_self": null,
            "border": null,
            "bottom": null,
            "display": null,
            "flex": null,
            "flex_flow": null,
            "grid_area": null,
            "grid_auto_columns": null,
            "grid_auto_flow": null,
            "grid_auto_rows": null,
            "grid_column": null,
            "grid_gap": null,
            "grid_row": null,
            "grid_template_areas": null,
            "grid_template_columns": null,
            "grid_template_rows": null,
            "height": null,
            "justify_content": null,
            "justify_items": null,
            "left": null,
            "margin": null,
            "max_height": null,
            "max_width": null,
            "min_height": null,
            "min_width": null,
            "object_fit": null,
            "object_position": null,
            "order": null,
            "overflow": null,
            "overflow_x": null,
            "overflow_y": null,
            "padding": null,
            "right": null,
            "top": null,
            "visibility": null,
            "width": null
          }
        },
        "25a4ee7c1b384da69b03a98be08b6a22": {
          "model_module": "@jupyter-widgets/controls",
          "model_name": "DescriptionStyleModel",
          "model_module_version": "1.5.0",
          "state": {
            "_model_module": "@jupyter-widgets/controls",
            "_model_module_version": "1.5.0",
            "_model_name": "DescriptionStyleModel",
            "_view_count": null,
            "_view_module": "@jupyter-widgets/base",
            "_view_module_version": "1.2.0",
            "_view_name": "StyleView",
            "description_width": ""
          }
        },
        "43f00e77e8304485980450e6a01aa949": {
          "model_module": "@jupyter-widgets/base",
          "model_name": "LayoutModel",
          "model_module_version": "1.2.0",
          "state": {
            "_model_module": "@jupyter-widgets/base",
            "_model_module_version": "1.2.0",
            "_model_name": "LayoutModel",
            "_view_count": null,
            "_view_module": "@jupyter-widgets/base",
            "_view_module_version": "1.2.0",
            "_view_name": "LayoutView",
            "align_content": null,
            "align_items": null,
            "align_self": null,
            "border": null,
            "bottom": null,
            "display": null,
            "flex": null,
            "flex_flow": null,
            "grid_area": null,
            "grid_auto_columns": null,
            "grid_auto_flow": null,
            "grid_auto_rows": null,
            "grid_column": null,
            "grid_gap": null,
            "grid_row": null,
            "grid_template_areas": null,
            "grid_template_columns": null,
            "grid_template_rows": null,
            "height": null,
            "justify_content": null,
            "justify_items": null,
            "left": null,
            "margin": null,
            "max_height": null,
            "max_width": null,
            "min_height": null,
            "min_width": null,
            "object_fit": null,
            "object_position": null,
            "order": null,
            "overflow": null,
            "overflow_x": null,
            "overflow_y": null,
            "padding": null,
            "right": null,
            "top": null,
            "visibility": null,
            "width": null
          }
        },
        "3883c7915d92406fa067d93adc961564": {
          "model_module": "@jupyter-widgets/controls",
          "model_name": "ProgressStyleModel",
          "model_module_version": "1.5.0",
          "state": {
            "_model_module": "@jupyter-widgets/controls",
            "_model_module_version": "1.5.0",
            "_model_name": "ProgressStyleModel",
            "_view_count": null,
            "_view_module": "@jupyter-widgets/base",
            "_view_module_version": "1.2.0",
            "_view_name": "StyleView",
            "bar_color": null,
            "description_width": ""
          }
        },
        "75556e7b2c20460b86a645fe87935135": {
          "model_module": "@jupyter-widgets/base",
          "model_name": "LayoutModel",
          "model_module_version": "1.2.0",
          "state": {
            "_model_module": "@jupyter-widgets/base",
            "_model_module_version": "1.2.0",
            "_model_name": "LayoutModel",
            "_view_count": null,
            "_view_module": "@jupyter-widgets/base",
            "_view_module_version": "1.2.0",
            "_view_name": "LayoutView",
            "align_content": null,
            "align_items": null,
            "align_self": null,
            "border": null,
            "bottom": null,
            "display": null,
            "flex": null,
            "flex_flow": null,
            "grid_area": null,
            "grid_auto_columns": null,
            "grid_auto_flow": null,
            "grid_auto_rows": null,
            "grid_column": null,
            "grid_gap": null,
            "grid_row": null,
            "grid_template_areas": null,
            "grid_template_columns": null,
            "grid_template_rows": null,
            "height": null,
            "justify_content": null,
            "justify_items": null,
            "left": null,
            "margin": null,
            "max_height": null,
            "max_width": null,
            "min_height": null,
            "min_width": null,
            "object_fit": null,
            "object_position": null,
            "order": null,
            "overflow": null,
            "overflow_x": null,
            "overflow_y": null,
            "padding": null,
            "right": null,
            "top": null,
            "visibility": null,
            "width": null
          }
        },
        "2df2e34d76c842df94947bfd9198f687": {
          "model_module": "@jupyter-widgets/controls",
          "model_name": "DescriptionStyleModel",
          "model_module_version": "1.5.0",
          "state": {
            "_model_module": "@jupyter-widgets/controls",
            "_model_module_version": "1.5.0",
            "_model_name": "DescriptionStyleModel",
            "_view_count": null,
            "_view_module": "@jupyter-widgets/base",
            "_view_module_version": "1.2.0",
            "_view_name": "StyleView",
            "description_width": ""
          }
        },
        "5cf5b2a45f0d413aaadc9660365f766c": {
          "model_module": "@jupyter-widgets/controls",
          "model_name": "HBoxModel",
          "model_module_version": "1.5.0",
          "state": {
            "_dom_classes": [],
            "_model_module": "@jupyter-widgets/controls",
            "_model_module_version": "1.5.0",
            "_model_name": "HBoxModel",
            "_view_count": null,
            "_view_module": "@jupyter-widgets/controls",
            "_view_module_version": "1.5.0",
            "_view_name": "HBoxView",
            "box_style": "",
            "children": [
              "IPY_MODEL_41e9025a866c4a41a21497e3a0ef5320",
              "IPY_MODEL_0d47c00b566d454bb24fc3de3a4d9134",
              "IPY_MODEL_6ffe008fc7ba4654baffdf546b3272ac"
            ],
            "layout": "IPY_MODEL_aa89e5c965fe49eeadddacf0a6432731"
          }
        },
        "41e9025a866c4a41a21497e3a0ef5320": {
          "model_module": "@jupyter-widgets/controls",
          "model_name": "HTMLModel",
          "model_module_version": "1.5.0",
          "state": {
            "_dom_classes": [],
            "_model_module": "@jupyter-widgets/controls",
            "_model_module_version": "1.5.0",
            "_model_name": "HTMLModel",
            "_view_count": null,
            "_view_module": "@jupyter-widgets/controls",
            "_view_module_version": "1.5.0",
            "_view_name": "HTMLView",
            "description": "",
            "description_tooltip": null,
            "layout": "IPY_MODEL_7071f57ab0b743fa92f44e8607615c3b",
            "placeholder": "​",
            "style": "IPY_MODEL_74c579cee8f3438ca86b025efbe9c442",
            "value": "tokenizer.json: 100%"
          }
        },
        "0d47c00b566d454bb24fc3de3a4d9134": {
          "model_module": "@jupyter-widgets/controls",
          "model_name": "FloatProgressModel",
          "model_module_version": "1.5.0",
          "state": {
            "_dom_classes": [],
            "_model_module": "@jupyter-widgets/controls",
            "_model_module_version": "1.5.0",
            "_model_name": "FloatProgressModel",
            "_view_count": null,
            "_view_module": "@jupyter-widgets/controls",
            "_view_module_version": "1.5.0",
            "_view_name": "ProgressView",
            "bar_style": "success",
            "description": "",
            "description_tooltip": null,
            "layout": "IPY_MODEL_698b8304976448f983f848d5c49499dd",
            "max": 1961828,
            "min": 0,
            "orientation": "horizontal",
            "style": "IPY_MODEL_ca6e74be8487478abc09bb348ed5b67f",
            "value": 1961828
          }
        },
        "6ffe008fc7ba4654baffdf546b3272ac": {
          "model_module": "@jupyter-widgets/controls",
          "model_name": "HTMLModel",
          "model_module_version": "1.5.0",
          "state": {
            "_dom_classes": [],
            "_model_module": "@jupyter-widgets/controls",
            "_model_module_version": "1.5.0",
            "_model_name": "HTMLModel",
            "_view_count": null,
            "_view_module": "@jupyter-widgets/controls",
            "_view_module_version": "1.5.0",
            "_view_name": "HTMLView",
            "description": "",
            "description_tooltip": null,
            "layout": "IPY_MODEL_ddd01789e7b84e4ab6aa1976859205b1",
            "placeholder": "​",
            "style": "IPY_MODEL_999c72a375a4498f93358c681fc754d9",
            "value": " 1.96M/1.96M [00:00&lt;00:00, 15.7MB/s]"
          }
        },
        "aa89e5c965fe49eeadddacf0a6432731": {
          "model_module": "@jupyter-widgets/base",
          "model_name": "LayoutModel",
          "model_module_version": "1.2.0",
          "state": {
            "_model_module": "@jupyter-widgets/base",
            "_model_module_version": "1.2.0",
            "_model_name": "LayoutModel",
            "_view_count": null,
            "_view_module": "@jupyter-widgets/base",
            "_view_module_version": "1.2.0",
            "_view_name": "LayoutView",
            "align_content": null,
            "align_items": null,
            "align_self": null,
            "border": null,
            "bottom": null,
            "display": null,
            "flex": null,
            "flex_flow": null,
            "grid_area": null,
            "grid_auto_columns": null,
            "grid_auto_flow": null,
            "grid_auto_rows": null,
            "grid_column": null,
            "grid_gap": null,
            "grid_row": null,
            "grid_template_areas": null,
            "grid_template_columns": null,
            "grid_template_rows": null,
            "height": null,
            "justify_content": null,
            "justify_items": null,
            "left": null,
            "margin": null,
            "max_height": null,
            "max_width": null,
            "min_height": null,
            "min_width": null,
            "object_fit": null,
            "object_position": null,
            "order": null,
            "overflow": null,
            "overflow_x": null,
            "overflow_y": null,
            "padding": null,
            "right": null,
            "top": null,
            "visibility": null,
            "width": null
          }
        },
        "7071f57ab0b743fa92f44e8607615c3b": {
          "model_module": "@jupyter-widgets/base",
          "model_name": "LayoutModel",
          "model_module_version": "1.2.0",
          "state": {
            "_model_module": "@jupyter-widgets/base",
            "_model_module_version": "1.2.0",
            "_model_name": "LayoutModel",
            "_view_count": null,
            "_view_module": "@jupyter-widgets/base",
            "_view_module_version": "1.2.0",
            "_view_name": "LayoutView",
            "align_content": null,
            "align_items": null,
            "align_self": null,
            "border": null,
            "bottom": null,
            "display": null,
            "flex": null,
            "flex_flow": null,
            "grid_area": null,
            "grid_auto_columns": null,
            "grid_auto_flow": null,
            "grid_auto_rows": null,
            "grid_column": null,
            "grid_gap": null,
            "grid_row": null,
            "grid_template_areas": null,
            "grid_template_columns": null,
            "grid_template_rows": null,
            "height": null,
            "justify_content": null,
            "justify_items": null,
            "left": null,
            "margin": null,
            "max_height": null,
            "max_width": null,
            "min_height": null,
            "min_width": null,
            "object_fit": null,
            "object_position": null,
            "order": null,
            "overflow": null,
            "overflow_x": null,
            "overflow_y": null,
            "padding": null,
            "right": null,
            "top": null,
            "visibility": null,
            "width": null
          }
        },
        "74c579cee8f3438ca86b025efbe9c442": {
          "model_module": "@jupyter-widgets/controls",
          "model_name": "DescriptionStyleModel",
          "model_module_version": "1.5.0",
          "state": {
            "_model_module": "@jupyter-widgets/controls",
            "_model_module_version": "1.5.0",
            "_model_name": "DescriptionStyleModel",
            "_view_count": null,
            "_view_module": "@jupyter-widgets/base",
            "_view_module_version": "1.2.0",
            "_view_name": "StyleView",
            "description_width": ""
          }
        },
        "698b8304976448f983f848d5c49499dd": {
          "model_module": "@jupyter-widgets/base",
          "model_name": "LayoutModel",
          "model_module_version": "1.2.0",
          "state": {
            "_model_module": "@jupyter-widgets/base",
            "_model_module_version": "1.2.0",
            "_model_name": "LayoutModel",
            "_view_count": null,
            "_view_module": "@jupyter-widgets/base",
            "_view_module_version": "1.2.0",
            "_view_name": "LayoutView",
            "align_content": null,
            "align_items": null,
            "align_self": null,
            "border": null,
            "bottom": null,
            "display": null,
            "flex": null,
            "flex_flow": null,
            "grid_area": null,
            "grid_auto_columns": null,
            "grid_auto_flow": null,
            "grid_auto_rows": null,
            "grid_column": null,
            "grid_gap": null,
            "grid_row": null,
            "grid_template_areas": null,
            "grid_template_columns": null,
            "grid_template_rows": null,
            "height": null,
            "justify_content": null,
            "justify_items": null,
            "left": null,
            "margin": null,
            "max_height": null,
            "max_width": null,
            "min_height": null,
            "min_width": null,
            "object_fit": null,
            "object_position": null,
            "order": null,
            "overflow": null,
            "overflow_x": null,
            "overflow_y": null,
            "padding": null,
            "right": null,
            "top": null,
            "visibility": null,
            "width": null
          }
        },
        "ca6e74be8487478abc09bb348ed5b67f": {
          "model_module": "@jupyter-widgets/controls",
          "model_name": "ProgressStyleModel",
          "model_module_version": "1.5.0",
          "state": {
            "_model_module": "@jupyter-widgets/controls",
            "_model_module_version": "1.5.0",
            "_model_name": "ProgressStyleModel",
            "_view_count": null,
            "_view_module": "@jupyter-widgets/base",
            "_view_module_version": "1.2.0",
            "_view_name": "StyleView",
            "bar_color": null,
            "description_width": ""
          }
        },
        "ddd01789e7b84e4ab6aa1976859205b1": {
          "model_module": "@jupyter-widgets/base",
          "model_name": "LayoutModel",
          "model_module_version": "1.2.0",
          "state": {
            "_model_module": "@jupyter-widgets/base",
            "_model_module_version": "1.2.0",
            "_model_name": "LayoutModel",
            "_view_count": null,
            "_view_module": "@jupyter-widgets/base",
            "_view_module_version": "1.2.0",
            "_view_name": "LayoutView",
            "align_content": null,
            "align_items": null,
            "align_self": null,
            "border": null,
            "bottom": null,
            "display": null,
            "flex": null,
            "flex_flow": null,
            "grid_area": null,
            "grid_auto_columns": null,
            "grid_auto_flow": null,
            "grid_auto_rows": null,
            "grid_column": null,
            "grid_gap": null,
            "grid_row": null,
            "grid_template_areas": null,
            "grid_template_columns": null,
            "grid_template_rows": null,
            "height": null,
            "justify_content": null,
            "justify_items": null,
            "left": null,
            "margin": null,
            "max_height": null,
            "max_width": null,
            "min_height": null,
            "min_width": null,
            "object_fit": null,
            "object_position": null,
            "order": null,
            "overflow": null,
            "overflow_x": null,
            "overflow_y": null,
            "padding": null,
            "right": null,
            "top": null,
            "visibility": null,
            "width": null
          }
        },
        "999c72a375a4498f93358c681fc754d9": {
          "model_module": "@jupyter-widgets/controls",
          "model_name": "DescriptionStyleModel",
          "model_module_version": "1.5.0",
          "state": {
            "_model_module": "@jupyter-widgets/controls",
            "_model_module_version": "1.5.0",
            "_model_name": "DescriptionStyleModel",
            "_view_count": null,
            "_view_module": "@jupyter-widgets/base",
            "_view_module_version": "1.2.0",
            "_view_name": "StyleView",
            "description_width": ""
          }
        }
      }
    }
  },
  "cells": [
    {
      "cell_type": "code",
      "execution_count": 1,
      "metadata": {
        "colab": {
          "base_uri": "https://localhost:8080/"
        },
        "id": "C2A5WTX23n1o",
        "outputId": "70c3602e-e1b0-4a44-e7a9-beadc1192880"
      },
      "outputs": [
        {
          "output_type": "stream",
          "name": "stdout",
          "text": [
            "Requirement already satisfied: transformers in /usr/local/lib/python3.10/dist-packages (4.47.0)\n",
            "Collecting datasets\n",
            "  Downloading datasets-3.2.0-py3-none-any.whl.metadata (20 kB)\n",
            "Requirement already satisfied: filelock in /usr/local/lib/python3.10/dist-packages (from transformers) (3.16.1)\n",
            "Requirement already satisfied: huggingface-hub<1.0,>=0.24.0 in /usr/local/lib/python3.10/dist-packages (from transformers) (0.27.0)\n",
            "Requirement already satisfied: numpy>=1.17 in /usr/local/lib/python3.10/dist-packages (from transformers) (1.26.4)\n",
            "Requirement already satisfied: packaging>=20.0 in /usr/local/lib/python3.10/dist-packages (from transformers) (24.2)\n",
            "Requirement already satisfied: pyyaml>=5.1 in /usr/local/lib/python3.10/dist-packages (from transformers) (6.0.2)\n",
            "Requirement already satisfied: regex!=2019.12.17 in /usr/local/lib/python3.10/dist-packages (from transformers) (2024.11.6)\n",
            "Requirement already satisfied: requests in /usr/local/lib/python3.10/dist-packages (from transformers) (2.32.3)\n",
            "Requirement already satisfied: tokenizers<0.22,>=0.21 in /usr/local/lib/python3.10/dist-packages (from transformers) (0.21.0)\n",
            "Requirement already satisfied: safetensors>=0.4.1 in /usr/local/lib/python3.10/dist-packages (from transformers) (0.4.5)\n",
            "Requirement already satisfied: tqdm>=4.27 in /usr/local/lib/python3.10/dist-packages (from transformers) (4.67.1)\n",
            "Requirement already satisfied: pyarrow>=15.0.0 in /usr/local/lib/python3.10/dist-packages (from datasets) (17.0.0)\n",
            "Collecting dill<0.3.9,>=0.3.0 (from datasets)\n",
            "  Downloading dill-0.3.8-py3-none-any.whl.metadata (10 kB)\n",
            "Requirement already satisfied: pandas in /usr/local/lib/python3.10/dist-packages (from datasets) (2.2.2)\n",
            "Collecting xxhash (from datasets)\n",
            "  Downloading xxhash-3.5.0-cp310-cp310-manylinux_2_17_x86_64.manylinux2014_x86_64.whl.metadata (12 kB)\n",
            "Collecting multiprocess<0.70.17 (from datasets)\n",
            "  Downloading multiprocess-0.70.16-py310-none-any.whl.metadata (7.2 kB)\n",
            "Collecting fsspec<=2024.9.0,>=2023.1.0 (from fsspec[http]<=2024.9.0,>=2023.1.0->datasets)\n",
            "  Downloading fsspec-2024.9.0-py3-none-any.whl.metadata (11 kB)\n",
            "Requirement already satisfied: aiohttp in /usr/local/lib/python3.10/dist-packages (from datasets) (3.11.10)\n",
            "Requirement already satisfied: aiohappyeyeballs>=2.3.0 in /usr/local/lib/python3.10/dist-packages (from aiohttp->datasets) (2.4.4)\n",
            "Requirement already satisfied: aiosignal>=1.1.2 in /usr/local/lib/python3.10/dist-packages (from aiohttp->datasets) (1.3.2)\n",
            "Requirement already satisfied: async-timeout<6.0,>=4.0 in /usr/local/lib/python3.10/dist-packages (from aiohttp->datasets) (4.0.3)\n",
            "Requirement already satisfied: attrs>=17.3.0 in /usr/local/lib/python3.10/dist-packages (from aiohttp->datasets) (24.3.0)\n",
            "Requirement already satisfied: frozenlist>=1.1.1 in /usr/local/lib/python3.10/dist-packages (from aiohttp->datasets) (1.5.0)\n",
            "Requirement already satisfied: multidict<7.0,>=4.5 in /usr/local/lib/python3.10/dist-packages (from aiohttp->datasets) (6.1.0)\n",
            "Requirement already satisfied: propcache>=0.2.0 in /usr/local/lib/python3.10/dist-packages (from aiohttp->datasets) (0.2.1)\n",
            "Requirement already satisfied: yarl<2.0,>=1.17.0 in /usr/local/lib/python3.10/dist-packages (from aiohttp->datasets) (1.18.3)\n",
            "Requirement already satisfied: typing-extensions>=3.7.4.3 in /usr/local/lib/python3.10/dist-packages (from huggingface-hub<1.0,>=0.24.0->transformers) (4.12.2)\n",
            "Requirement already satisfied: charset-normalizer<4,>=2 in /usr/local/lib/python3.10/dist-packages (from requests->transformers) (3.4.0)\n",
            "Requirement already satisfied: idna<4,>=2.5 in /usr/local/lib/python3.10/dist-packages (from requests->transformers) (3.10)\n",
            "Requirement already satisfied: urllib3<3,>=1.21.1 in /usr/local/lib/python3.10/dist-packages (from requests->transformers) (2.2.3)\n",
            "Requirement already satisfied: certifi>=2017.4.17 in /usr/local/lib/python3.10/dist-packages (from requests->transformers) (2024.12.14)\n",
            "Requirement already satisfied: python-dateutil>=2.8.2 in /usr/local/lib/python3.10/dist-packages (from pandas->datasets) (2.8.2)\n",
            "Requirement already satisfied: pytz>=2020.1 in /usr/local/lib/python3.10/dist-packages (from pandas->datasets) (2024.2)\n",
            "Requirement already satisfied: tzdata>=2022.7 in /usr/local/lib/python3.10/dist-packages (from pandas->datasets) (2024.2)\n",
            "Requirement already satisfied: six>=1.5 in /usr/local/lib/python3.10/dist-packages (from python-dateutil>=2.8.2->pandas->datasets) (1.17.0)\n",
            "Downloading datasets-3.2.0-py3-none-any.whl (480 kB)\n",
            "\u001b[2K   \u001b[90m━━━━━━━━━━━━━━━━━━━━━━━━━━━━━━━━━━━━━━━━\u001b[0m \u001b[32m480.6/480.6 kB\u001b[0m \u001b[31m7.7 MB/s\u001b[0m eta \u001b[36m0:00:00\u001b[0m\n",
            "\u001b[?25hDownloading dill-0.3.8-py3-none-any.whl (116 kB)\n",
            "\u001b[2K   \u001b[90m━━━━━━━━━━━━━━━━━━━━━━━━━━━━━━━━━━━━━━━━\u001b[0m \u001b[32m116.3/116.3 kB\u001b[0m \u001b[31m9.5 MB/s\u001b[0m eta \u001b[36m0:00:00\u001b[0m\n",
            "\u001b[?25hDownloading fsspec-2024.9.0-py3-none-any.whl (179 kB)\n",
            "\u001b[2K   \u001b[90m━━━━━━━━━━━━━━━━━━━━━━━━━━━━━━━━━━━━━━━━\u001b[0m \u001b[32m179.3/179.3 kB\u001b[0m \u001b[31m9.4 MB/s\u001b[0m eta \u001b[36m0:00:00\u001b[0m\n",
            "\u001b[?25hDownloading multiprocess-0.70.16-py310-none-any.whl (134 kB)\n",
            "\u001b[2K   \u001b[90m━━━━━━━━━━━━━━━━━━━━━━━━━━━━━━━━━━━━━━━━\u001b[0m \u001b[32m134.8/134.8 kB\u001b[0m \u001b[31m5.2 MB/s\u001b[0m eta \u001b[36m0:00:00\u001b[0m\n",
            "\u001b[?25hDownloading xxhash-3.5.0-cp310-cp310-manylinux_2_17_x86_64.manylinux2014_x86_64.whl (194 kB)\n",
            "\u001b[2K   \u001b[90m━━━━━━━━━━━━━━━━━━━━━━━━━━━━━━━━━━━━━━━━\u001b[0m \u001b[32m194.1/194.1 kB\u001b[0m \u001b[31m15.4 MB/s\u001b[0m eta \u001b[36m0:00:00\u001b[0m\n",
            "\u001b[?25hInstalling collected packages: xxhash, fsspec, dill, multiprocess, datasets\n",
            "  Attempting uninstall: fsspec\n",
            "    Found existing installation: fsspec 2024.10.0\n",
            "    Uninstalling fsspec-2024.10.0:\n",
            "      Successfully uninstalled fsspec-2024.10.0\n",
            "\u001b[31mERROR: pip's dependency resolver does not currently take into account all the packages that are installed. This behaviour is the source of the following dependency conflicts.\n",
            "gcsfs 2024.10.0 requires fsspec==2024.10.0, but you have fsspec 2024.9.0 which is incompatible.\u001b[0m\u001b[31m\n",
            "\u001b[0mSuccessfully installed datasets-3.2.0 dill-0.3.8 fsspec-2024.9.0 multiprocess-0.70.16 xxhash-3.5.0\n"
          ]
        }
      ],
      "source": [
        "!pip install transformers datasets\n",
        "!pip install evaluate\n",
        "import torch\n",
        "from transformers import BertTokenizer, BertModel\n",
        "from datasets import load_dataset\n",
        "from sklearn.linear_model import LogisticRegression\n",
        "from sklearn.metrics import classification_report"
      ]
    },
    {
      "cell_type": "code",
      "source": [
        "!pip install conllu"
      ],
      "metadata": {
        "colab": {
          "base_uri": "https://localhost:8080/"
        },
        "id": "phzMIZxo33JG",
        "outputId": "536bbb07-2f23-42ed-9b41-c00735cb2ebe"
      },
      "execution_count": 2,
      "outputs": [
        {
          "output_type": "stream",
          "name": "stdout",
          "text": [
            "Collecting conllu\n",
            "  Downloading conllu-6.0.0-py3-none-any.whl.metadata (21 kB)\n",
            "Downloading conllu-6.0.0-py3-none-any.whl (16 kB)\n",
            "Installing collected packages: conllu\n",
            "Successfully installed conllu-6.0.0\n"
          ]
        }
      ]
    },
    {
      "cell_type": "code",
      "source": [
        "import conllu"
      ],
      "metadata": {
        "id": "Z89W-uaI37BB"
      },
      "execution_count": 3,
      "outputs": []
    },
    {
      "cell_type": "code",
      "source": [
        "from google.colab import drive\n",
        "\n",
        "# Mount Google Drive\n",
        "drive.mount('/content/drive')"
      ],
      "metadata": {
        "colab": {
          "base_uri": "https://localhost:8080/"
        },
        "id": "L93Dje-i4E8A",
        "outputId": "d662ece6-fe40-4e3d-c609-1f82dd9e22df"
      },
      "execution_count": 4,
      "outputs": [
        {
          "output_type": "stream",
          "name": "stdout",
          "text": [
            "Mounted at /content/drive\n"
          ]
        }
      ]
    },
    {
      "cell_type": "code",
      "source": [
        "def load_conllu(filename):\n",
        "  for sentence in conllu.parse(open(filename, \"rt\", encoding=\"utf-8\").read()):\n",
        "    tokenized_words = [token[\"form\"] for token in sentence]\n",
        "    gold_tags = [token[\"upos\"] for token in sentence]\n",
        "    yield tokenized_words, gold_tags\n",
        "\n",
        "corpus = list(load_conllu(\"/content/drive/MyDrive/fr_sequoia-ud-test.conllu\"))"
      ],
      "metadata": {
        "id": "hKKD735m4K_j"
      },
      "execution_count": 5,
      "outputs": []
    },
    {
      "cell_type": "code",
      "source": [
        "print(corpus)"
      ],
      "metadata": {
        "colab": {
          "base_uri": "https://localhost:8080/"
        },
        "id": "TEX9O8f44Q23",
        "outputId": "cc4b9bcc-c2fe-4770-881b-3c5b47950842"
      },
      "execution_count": 6,
      "outputs": [
        {
          "output_type": "stream",
          "name": "stdout",
          "text": [
            "[(['cela', 'signifie', 'que', 'leur', 'consommation', 'énergétique', ',', 'qui', 'représente', 'actuellement', '10', '%', 'de', 'la', 'consommation', 'énergétique', 'moyenne', 'de', \"l'\", 'UE', ',', 'enregistrera', 'une', 'forte', 'augmentation', 'à', 'mesure', \"qu'\", 'ils', 'exigeront', 'des', 'commodités', 'élémentaires', 'comme', \"l'\", 'eau', 'chaude', 'et', ',', 'peut-être', 'même', ',', \"l'\", 'air', 'conditionné', ',', 'des', 'moyens', 'de', 'transport', 'et', 'la', 'modernisation', 'de', 'leurs', 'industries', '.'], ['PRON', 'VERB', 'SCONJ', 'DET', 'NOUN', 'ADJ', 'PUNCT', 'PRON', 'VERB', 'ADV', 'NUM', 'NOUN', 'ADP', 'DET', 'NOUN', 'ADJ', 'ADJ', 'ADP', 'DET', 'PROPN', 'PUNCT', 'VERB', 'DET', 'ADJ', 'NOUN', 'ADP', 'NOUN', 'SCONJ', 'PRON', 'VERB', 'DET', 'NOUN', 'ADJ', 'ADP', 'DET', 'NOUN', 'ADJ', 'CCONJ', 'PUNCT', 'ADV', 'ADV', 'PUNCT', 'DET', 'NOUN', 'ADJ', 'PUNCT', 'DET', 'NOUN', 'ADP', 'NOUN', 'CCONJ', 'DET', 'NOUN', 'ADP', 'DET', 'NOUN', 'PUNCT']), (['Nous', 'avons', 'noté', 'que', 'la', 'production', \"d'\", 'électricité', 'correspond', 'à', '30', '%', 'des', 'de', 'les', 'émissions', 'de', 'CO2', 'imputables', 'à', \"l'\", 'homme', '.'], ['PRON', 'AUX', 'VERB', 'SCONJ', 'DET', 'NOUN', 'ADP', 'NOUN', 'VERB', 'ADP', 'NUM', 'NOUN', '_', 'ADP', 'DET', 'NOUN', 'ADP', 'NOUN', 'ADJ', 'ADP', 'DET', 'NOUN', 'PUNCT']), (['Je', 'me', 'pose', 'également', 'des', 'questions', 'quant', 'à', 'la', 'sagesse', 'de', \"l'\", 'EU', 'et', 'sa', 'réaction', 'à', 'la', 'formation', 'du', 'de', 'le', 'gouvernement', 'en', 'Autriche', 'et', 'la', 'manière', 'dont', 'cela', 'affectera', \"l'\", 'opinion', 'publique', 'là-bas', '.'], ['PRON', 'PRON', 'VERB', 'ADV', 'DET', 'NOUN', 'ADV', 'ADP', 'DET', 'NOUN', 'ADP', 'DET', 'PROPN', 'CCONJ', 'DET', 'NOUN', 'ADP', 'DET', 'NOUN', '_', 'ADP', 'DET', 'NOUN', 'ADP', 'PROPN', 'CCONJ', 'DET', 'NOUN', 'PRON', 'PRON', 'VERB', 'DET', 'NOUN', 'ADJ', 'ADV', 'PUNCT']), (['Aux', 'À', 'les', 'États-Unis', ',', 'le', 'traité', 'de', \"l'\", 'OMPI', 'est', 'déjà', 'entré', 'en', 'vigueur', 'au', 'à', 'le', 'moyen', 'du', 'de', 'le', 'Digital', 'Millenium', 'Corporate', 'Act', 'et', 'cette', 'mesure', 'législative', 'a', 'permis', 'de', 'sauvegarder', \"l'\", 'équilibre', 'délicat', 'de', \"l'\", 'OMPI', '.'], ['_', 'ADP', 'DET', 'PROPN', 'PUNCT', 'DET', 'NOUN', 'ADP', 'DET', 'PROPN', 'AUX', 'ADV', 'VERB', 'ADP', 'NOUN', '_', 'ADP', 'DET', 'NOUN', '_', 'ADP', 'DET', 'X', 'X', 'X', 'X', 'CCONJ', 'DET', 'NOUN', 'ADJ', 'AUX', 'VERB', 'ADP', 'VERB', 'DET', 'NOUN', 'ADJ', 'ADP', 'DET', 'PROPN', 'PUNCT']), (['Les', 'recommandations', 'proposées', \"n'\", 'amélioreront', 'pas', 'la', 'position', 'de', 'la', 'culture', 'en', 'Europe', ',', 'bien', 'au', 'à', 'le', 'contraire', '.'], ['DET', 'NOUN', 'VERB', 'ADV', 'VERB', 'ADV', 'DET', 'NOUN', 'ADP', 'DET', 'NOUN', 'ADP', 'PROPN', 'PUNCT', 'ADV', '_', 'ADP', 'DET', 'NOUN', 'PUNCT']), (['En', 'tant', 'que', 'remarque', 'isolée', ',', 'je', 'voudrais', 'donc', 'remercier', 'Mme', 'Cederschiöld', 'du', 'de', 'le', 'fait', \"qu'\", 'elle', 'ait', 'clarifié', 'par', 'exemple', 'la', 'notion', 'desdites', 'de', 'lesdites', 'copies', 'temporaires', 'dans', 'son', 'avis', '.'], ['ADP', 'ADV', 'SCONJ', 'NOUN', 'ADJ', 'PUNCT', 'PRON', 'VERB', 'ADV', 'VERB', 'NOUN', 'PROPN', '_', 'ADP', 'DET', 'NOUN', 'SCONJ', 'PRON', 'AUX', 'VERB', 'ADP', 'NOUN', 'DET', 'NOUN', '_', 'ADP', 'DET', 'NOUN', 'ADJ', 'ADP', 'DET', 'NOUN', 'PUNCT']), (['Le', 'nouveau', 'cadre', \"d'\", 'action', 'constitue', 'surtout', 'une', 'énorme', 'possibilité', 'de', 'créer', 'et', 'de', 'diffuser', 'de', 'la', 'culture', 'selon', 'des', 'modalités', 'inédites', '.'], ['DET', 'ADJ', 'NOUN', 'ADP', 'NOUN', 'VERB', 'ADV', 'DET', 'ADJ', 'NOUN', 'ADP', 'VERB', 'CCONJ', 'ADP', 'VERB', 'ADP', 'DET', 'NOUN', 'ADP', 'DET', 'NOUN', 'ADJ', 'PUNCT']), (['Il', 'est', 'essentiel', 'de', 'considérer', 'les', 'intérêts', 'de', 'toutes', 'les', 'parties', '.'], ['PRON', 'AUX', 'ADJ', 'ADP', 'VERB', 'DET', 'NOUN', 'ADP', 'ADJ', 'DET', 'NOUN', 'PUNCT']), (['(', 'EN', ')', \"J'\", 'ai', 'voté', 'en', 'faveur', 'du', 'de', 'le', 'rapport', 'de', 'Mme', 'Stenzel', 'sur', \"l'\", 'initiative', 'EQUAL', 'car', 'je', 'pense', \"qu'\", 'il', 'est', 'essentiel', 'de', 'poursuivre', 'le', 'travail', 'qui', 'a', 'été', 'entamé', 'avec', 'les', 'précédentes', 'composantes', 'NOW', ',', 'Horizon', ',', 'Youthstart', 'et', 'Integra', 'des', 'de', 'les', 'initiatives', 'ADAPT', 'et', 'Employment', '.'], ['PUNCT', 'NOUN', 'PUNCT', 'PRON', 'AUX', 'VERB', 'ADP', 'NOUN', '_', 'ADP', 'DET', 'NOUN', 'ADP', 'NOUN', 'PROPN', 'ADP', 'DET', 'NOUN', 'PROPN', 'CCONJ', 'PRON', 'VERB', 'SCONJ', 'PRON', 'AUX', 'ADJ', 'ADP', 'VERB', 'DET', 'NOUN', 'PRON', 'AUX', 'AUX', 'VERB', 'ADP', 'DET', 'ADJ', 'NOUN', 'PROPN', 'PUNCT', 'PROPN', 'PUNCT', 'PROPN', 'CCONJ', 'PROPN', '_', 'ADP', 'DET', 'NOUN', 'PROPN', 'CCONJ', 'PROPN', 'PUNCT']), (['Au', 'À', 'le', 'cours', 'de', 'la', 'dernière', 'période', 'de', 'programmation', ',', '9', '%', 'des', 'de', 'les', 'fonds', 'structurels', 'ont', 'été', 'alloués', 'à', 'des', 'initiatives', 'communautaires', '.'], ['_', 'ADP', 'DET', 'NOUN', 'ADP', 'DET', 'ADJ', 'NOUN', 'ADP', 'NOUN', 'PUNCT', 'NUM', 'NOUN', '_', 'ADP', 'DET', 'NOUN', 'ADJ', 'AUX', 'AUX', 'VERB', 'ADP', 'DET', 'NOUN', 'ADJ', 'PUNCT']), (['Revenons', '-en', 'à', \"l'\", 'actualité', '.'], ['VERB', 'PRON', 'ADP', 'DET', 'NOUN', 'PUNCT']), (['Nous', 'ne', 'pouvons', 'nous', 'demander', 'ce', \"qu'\", 'il', 'adviendra', 'du', 'de', 'le', 'Kosovo', '.'], ['PRON', 'ADV', 'VERB', 'PRON', 'VERB', 'PRON', 'PRON', 'PRON', 'VERB', '_', 'ADP', 'DET', 'PROPN', 'PUNCT']), (['Je', \"n'\", 'ai', 'pas', 'encore', 'lu', 'ni', 'entendu', 'que', 'le', 'Conseil', \"s'\", 'y', 'soit', 'intéressé', '.'], ['PRON', 'ADV', 'AUX', 'ADV', 'ADV', 'VERB', 'CCONJ', 'VERB', 'SCONJ', 'DET', 'NOUN', 'PRON', 'PRON', 'AUX', 'VERB', 'PUNCT']), (['Je', 'me', 'demande', 'vraiment', 'si', 'le', 'Conseil', 'possède', 'encore', 'un', 'minimum', \"d'\", 'humanité', '!'], ['PRON', 'PRON', 'VERB', 'ADV', 'SCONJ', 'DET', 'NOUN', 'VERB', 'ADV', 'DET', 'NOUN', 'ADP', 'NOUN', 'PUNCT']), (['Si', 'les', 'représentants', 'du', 'de', 'le', 'Conseil', 'avaient', 'un', 'fils', ',', 'un', 'frère', 'ou', 'un', 'père', 'dans', 'les', 'prisons', 'serbes', ',', 'ils', 'réagiraient', 'plus', 'vite', ',', 'croyez', '-moi', '!'], ['SCONJ', 'DET', 'NOUN', '_', 'ADP', 'DET', 'NOUN', 'VERB', 'DET', 'NOUN', 'PUNCT', 'DET', 'NOUN', 'CCONJ', 'DET', 'NOUN', 'ADP', 'DET', 'NOUN', 'ADJ', 'PUNCT', 'PRON', 'VERB', 'ADV', 'ADV', 'PUNCT', 'VERB', 'PRON', 'PUNCT']), (['Comme', 'vous', 'tous', ',', \"j'\", 'entends', 'les', 'appels', 'à', \"l'\", 'aide', 'des', 'de', 'les', 'mères', ',', 'des', 'de', 'les', 'épouses', 'et', 'des', 'de', 'les', 'soeurs', 'des', 'de', 'les', 'Kosovars', 'albanais', 'qui', 'croupissent', 'dans', 'les', 'geôles', 'serbes', '.'], ['ADP', 'PRON', 'ADJ', 'PUNCT', 'PRON', 'VERB', 'DET', 'NOUN', 'ADP', 'DET', 'NOUN', '_', 'ADP', 'DET', 'NOUN', 'PUNCT', '_', 'ADP', 'DET', 'NOUN', 'CCONJ', '_', 'ADP', 'DET', 'NOUN', '_', 'ADP', 'DET', 'NOUN', 'ADJ', 'PRON', 'VERB', 'ADP', 'DET', 'NOUN', 'ADJ', 'PUNCT']), (['Il', \"n'\", 'y', 'a', 'aucun', 'motif', 'pour', \"qu'\", 'ils', 'y', 'soient', '.'], ['PRON', 'ADV', 'PRON', 'VERB', 'DET', 'NOUN', 'ADP', 'SCONJ', 'PRON', 'PRON', 'VERB', 'PUNCT']), (['Elle', 'a', 'été', 'condamnée', 'parce', \"qu'\", 'en', 'tant', 'que', 'médecin', ',', 'elle', 'a', 'porté', 'secours', 'à', 'des', 'blessés', 'des', 'de', 'les', 'deux', 'camps', '.'], ['PRON', 'AUX', 'AUX', 'VERB', 'SCONJ', 'SCONJ', 'ADP', 'ADV', 'SCONJ', 'NOUN', 'PUNCT', 'PRON', 'AUX', 'VERB', 'NOUN', 'ADP', 'DET', 'NOUN', '_', 'ADP', 'DET', 'NUM', 'NOUN', 'PUNCT']), (['Personne', \"n'\", 'aide', 'cette', 'femme', 'à', 'sortir', 'de', 'prison', '.'], ['PRON', 'ADV', 'VERB', 'DET', 'NOUN', 'ADP', 'VERB', 'ADP', 'NOUN', 'PUNCT']), (['Je', 'crois', 'également', 'que', 'le', 'Conseil', 'de', 'ministres', 'ne', \"s'\", 'intéresse', 'pas', 'le', 'moins', 'du', 'de', 'le', 'monde', 'à', 'ces', 'tragédies', '.'], ['PRON', 'VERB', 'ADV', 'SCONJ', 'DET', 'NOUN', 'ADP', 'NOUN', 'ADV', 'PRON', 'VERB', 'ADV', 'DET', 'ADV', '_', 'ADP', 'DET', 'NOUN', 'ADP', 'DET', 'NOUN', 'PUNCT']), (['Nous', 'ne', 'pouvons', 'pas', 'seulement', 'exiger', 'que', 'les', 'Serbes', 'se', 'comportent', 'correctement', ',', 'nous', 'devons', 'également', 'obliger', 'ceux', 'à', 'qui', 'nous', 'sommes', 'venus', 'en', 'aide', 'à', 'ne', 'pas', 'répondre', 'à', 'la', 'violence', 'par', 'la', 'violence', '.'], ['PRON', 'ADV', 'VERB', 'ADV', 'ADV', 'VERB', 'SCONJ', 'DET', 'NOUN', 'PRON', 'VERB', 'ADV', 'PUNCT', 'PRON', 'VERB', 'ADV', 'VERB', 'PRON', 'ADP', 'PRON', 'PRON', 'AUX', 'VERB', 'ADP', 'NOUN', 'ADP', 'ADV', 'ADV', 'VERB', 'ADP', 'DET', 'NOUN', 'ADP', 'DET', 'NOUN', 'PUNCT']), ([\"C'\", 'est', 'pourquoi', \"j'\", 'attends', 'de', 'tout', 'le', 'monde', ',', 'Albanais', 'et', 'Serbes', ',', \"qu'\", 'ils', 'laissent', 'les', 'troupes', 'de', 'la', 'KFOR', 'en', 'paix', '.'], ['PRON', 'VERB', 'ADV', 'PRON', 'VERB', 'ADP', 'ADJ', 'DET', 'NOUN', 'PUNCT', 'NOUN', 'CCONJ', 'NOUN', 'PUNCT', 'SCONJ', 'PRON', 'VERB', 'DET', 'NOUN', 'ADP', 'DET', 'PROPN', 'ADP', 'NOUN', 'PUNCT']), (['Nous', 'estimons', \"qu'\", 'il', 'est', 'possible', 'de', 'concilier', 'une', 'politique', 'de', 'pêche', 'basée', 'sur', 'la', 'conservation', 'du', 'de', 'le', 'milieu', 'marin', 'et', 'les', 'intérêts', 'des', 'de', 'les', 'communautés', 'de', 'pêcheurs', '.'], ['PRON', 'VERB', 'SCONJ', 'PRON', 'AUX', 'ADJ', 'ADP', 'VERB', 'DET', 'NOUN', 'ADP', 'NOUN', 'VERB', 'ADP', 'DET', 'NOUN', '_', 'ADP', 'DET', 'NOUN', 'ADJ', 'CCONJ', 'DET', 'NOUN', '_', 'ADP', 'DET', 'NOUN', 'ADP', 'NOUN', 'PUNCT']), (['Pouvez', '-vous', 'donner', 'les', 'mêmes', 'garanties', 'en', 'ce', 'qui', 'concerne', 'la', 'taxe', 'proposée', 'sur', 'les', 'carburants', 'des', 'de', 'les', 'avions', ',', 'qui', 'a', 'été', 'débattue', 'au', 'à', 'le', 'sein', \"d'\", 'Écofin', 'cette', 'semaine', ',', 'et', 'en', 'ce', 'qui', 'concerne', \"l'\", 'impôt', 'sur', 'les', 'sociétés', 'au', 'à', 'le', 'sein', 'de', \"l'\", 'Union', 'européenne', '?'], ['VERB', 'PRON', 'VERB', 'DET', 'ADJ', 'NOUN', 'ADP', 'PRON', 'PRON', 'VERB', 'DET', 'NOUN', 'VERB', 'ADP', 'DET', 'NOUN', '_', 'ADP', 'DET', 'NOUN', 'PUNCT', 'PRON', 'AUX', 'AUX', 'VERB', '_', 'ADP', 'DET', 'NOUN', 'ADP', 'PROPN', 'DET', 'NOUN', 'PUNCT', 'CCONJ', 'ADP', 'PRON', 'PRON', 'VERB', 'DET', 'NOUN', 'ADP', 'DET', 'NOUN', '_', 'ADP', 'DET', 'NOUN', 'ADP', 'DET', 'NOUN', 'ADJ', 'PUNCT']), (['Y', 'a', '-t-il', 'des', 'circonstances', 'dans', 'lesquelles', 'la', 'Commission', 'chercherait', 'à', 'utiliser', 'le', 'vote', 'à', 'la', 'majorité', 'qualifiée', 'pour', \"l'\", 'un', 'de', 'ces', 'sujets', '?'], ['PRON', 'VERB', 'PRON', 'DET', 'NOUN', 'ADP', 'PRON', 'DET', 'NOUN', 'VERB', 'ADP', 'VERB', 'DET', 'NOUN', 'ADP', 'DET', 'NOUN', 'VERB', 'ADP', 'DET', 'PRON', 'ADP', 'DET', 'NOUN', 'PUNCT']), (['On', \"s'\", 'en', 'aperçoit', 'aux', 'à', 'les', 'nombreuses', 'lettres', 'que', 'nous', 'recevons', 'des', 'de', 'les', 'organisations', 'environnementales', 'mais', 'aussi', 'du', 'de', 'le', 'secteur', 'économique', ',', 'avec', 'à', 'sa', 'tête', \"l'\", 'industrie', 'du', 'de', 'le', 'ciment', ',', 'bien', 'entendu', ',', 'mais', 'également', 'beaucoup', \"d'\", 'autres', 'secteurs', ',', 'comme', \"l'\", 'industrie', 'de', 'transformation', 'du', 'de', 'le', 'bois', ',', \"l'\", 'industrie', 'du', 'de', 'le', 'papier', ',', \"l'\", 'industrie', 'de', 'transformation', 'du', 'de', 'le', 'métal', ',', 'etc.'], ['PRON', 'PRON', 'PRON', 'VERB', '_', 'ADP', 'DET', 'ADJ', 'NOUN', 'PRON', 'PRON', 'VERB', '_', 'ADP', 'DET', 'NOUN', 'ADJ', 'CCONJ', 'ADV', '_', 'ADP', 'DET', 'NOUN', 'ADJ', 'PUNCT', 'ADP', 'ADP', 'DET', 'NOUN', 'DET', 'NOUN', '_', 'ADP', 'DET', 'NOUN', 'PUNCT', 'ADV', 'VERB', 'PUNCT', 'CCONJ', 'ADV', 'ADV', 'ADP', 'ADJ', 'NOUN', 'PUNCT', 'ADP', 'DET', 'NOUN', 'ADP', 'NOUN', '_', 'ADP', 'DET', 'NOUN', 'PUNCT', 'DET', 'NOUN', '_', 'ADP', 'DET', 'NOUN', 'PUNCT', 'DET', 'NOUN', 'ADP', 'NOUN', '_', 'ADP', 'DET', 'NOUN', 'PUNCT', 'ADV']), ([\"J'\", 'ai', 'par', 'exemple', 'introduit', 'en', 'commission', 'de', \"l'\", 'environnement', ',', 'de', 'la', 'santé', 'publique', 'et', 'de', 'la', 'politique', 'des', 'de', 'les', 'consommateurs', 'une', 'proposition', 'concernant', 'les', 'émissions', 'de', 'NOX', 'en', 'cas', 'de', 'coïncinération', ',', 'proposition', 'qui', 'est', 'bien', 'plus', 'ambitieuse', 'que', 'celles', 'du', 'de', 'le', 'Conseil', '.'], ['PRON', 'AUX', 'ADP', 'NOUN', 'VERB', 'ADP', 'NOUN', 'ADP', 'DET', 'NOUN', 'PUNCT', 'ADP', 'DET', 'NOUN', 'ADJ', 'CCONJ', 'ADP', 'DET', 'NOUN', '_', 'ADP', 'DET', 'NOUN', 'DET', 'NOUN', 'VERB', 'DET', 'NOUN', 'ADP', 'NOUN', 'ADP', 'NOUN', 'ADP', 'NOUN', 'PUNCT', 'NOUN', 'PRON', 'AUX', 'ADV', 'ADV', 'ADJ', 'SCONJ', 'PRON', '_', 'ADP', 'DET', 'NOUN', 'PUNCT']), (['Monsieur', 'le', 'Président', ',', 'au', 'à', 'le', 'nom', 'du', 'de', 'le', 'groupe', 'du', 'de', 'le', 'parti', 'des', 'de', 'les', 'socialistes', 'européens', ',', 'je', 'voudrais', 'me', 'réjouir', 'de', 'la', 'proposition', 'de', 'résolution', 'de', 'Mme', 'Malmström', '.'], ['NOUN', 'DET', 'NOUN', 'PUNCT', '_', 'ADP', 'DET', 'NOUN', '_', 'ADP', 'DET', 'NOUN', '_', 'ADP', 'DET', 'NOUN', '_', 'ADP', 'DET', 'NOUN', 'ADJ', 'PUNCT', 'PRON', 'VERB', 'PRON', 'VERB', 'ADP', 'DET', 'NOUN', 'ADP', 'NOUN', 'ADP', 'NOUN', 'PROPN', 'PUNCT']), (['Je', 'crois', 'aussi', \"qu'\", 'il', 'faut', 'accorder', 'une', 'attention', 'particulière', '-', \"c'\", 'est', \"l'\", 'objet', \"d'\", 'un', 'amendement', 'que', 'nous', 'présenterons', 'demain', 'en', 'plénière', '-', 'au', 'à', 'le', 'droit', 'à', 'la', 'vie', 'privée', '.'], ['PRON', 'VERB', 'ADV', 'SCONJ', 'PRON', 'VERB', 'VERB', 'DET', 'NOUN', 'ADJ', 'PUNCT', 'PRON', 'AUX', 'DET', 'NOUN', 'ADP', 'DET', 'NOUN', 'PRON', 'PRON', 'VERB', 'ADV', 'ADP', 'ADJ', 'PUNCT', '_', 'ADP', 'DET', 'NOUN', 'ADP', 'DET', 'NOUN', 'ADJ', 'PUNCT']), (['Nous', 'sommes', 'des', 'hommes', ',', 'des', 'femmes', ',', 'des', 'citoyens', ',', 'et', 'non', 'de', 'simples', 'numéros', '.'], ['PRON', 'AUX', 'DET', 'NOUN', 'PUNCT', 'DET', 'NOUN', 'PUNCT', 'DET', 'NOUN', 'PUNCT', 'CCONJ', 'ADV', 'DET', 'ADJ', 'NOUN', 'PUNCT']), (['Enfin', ',', 'je', 'voudrais', 'profiter', 'de', 'cette', 'occasion', 'pour', 'rappeler', 'aux', 'à', 'les', 'collègues', \"qu'\", 'on', 'a', 'récolté', 'plus', 'de', 'cent', 'signatures', 'de', 'députés', 'européens', 'pour', 'soutenir', 'la', 'candidature', 'au', 'à', 'le', 'prix', 'Nobel', 'de', 'la', 'paix', 'des', 'de', 'les', 'Mères', 'de', 'la', 'place', 'de', 'Mai', '.'], ['ADV', 'PUNCT', 'PRON', 'VERB', 'VERB', 'ADP', 'DET', 'NOUN', 'ADP', 'VERB', '_', 'ADP', 'DET', 'NOUN', 'SCONJ', 'PRON', 'AUX', 'VERB', 'ADV', 'ADP', 'NUM', 'NOUN', 'ADP', 'NOUN', 'ADJ', 'ADP', 'VERB', 'DET', 'NOUN', '_', 'ADP', 'DET', 'NOUN', 'PROPN', 'ADP', 'DET', 'NOUN', '_', 'ADP', 'DET', 'PROPN', 'ADP', 'DET', 'NOUN', 'ADP', 'NOUN', 'PUNCT']), (['En', 'conséquence', ',', 'la', 'Commission', 'pense', \"qu'\", 'elle', 'devrait', 'donner', 'des', 'éclaircissements', 'sur', 'deux', 'idées', 'très', 'strictes', 'et', 'claires', 'au', 'à', 'le', 'Parlement', '.'], ['ADP', 'NOUN', 'PUNCT', 'DET', 'NOUN', 'VERB', 'SCONJ', 'PRON', 'VERB', 'VERB', 'DET', 'NOUN', 'ADP', 'NUM', 'NOUN', 'ADV', 'ADJ', 'CCONJ', 'ADJ', '_', 'ADP', 'DET', 'NOUN', 'PUNCT']), ([\"C'\", 'est', 'pourquoi', 'nous', 'considérons', 'que', 'certaines', 'questions', 'soulevées', 'par', 'la', 'baronne', 'Ludford', 'et', 'certains', 'problèmes', 'soulevés', 'par', 'Mme', 'Boumediene-Thiery', '-', 'qui', 'sont', 'très', 'importants', '-', 'doivent', 'être', 'envisagés', 'dans', 'le', 'cadre', 'du', 'de', 'le', 'règlement', 'sur', 'la', 'protection', 'temporaire', 'et', 'la', 'protection', 'subsidiaire', 'que', 'la', 'Commission', 'prépare', 'activement', '.'], ['PRON', 'VERB', 'ADV', 'PRON', 'VERB', 'SCONJ', 'DET', 'NOUN', 'VERB', 'ADP', 'DET', 'NOUN', 'PROPN', 'CCONJ', 'DET', 'NOUN', 'VERB', 'ADP', 'NOUN', 'PROPN', 'PUNCT', 'PRON', 'AUX', 'ADV', 'ADJ', 'PUNCT', 'VERB', 'AUX', 'VERB', 'ADP', 'DET', 'NOUN', '_', 'ADP', 'DET', 'NOUN', 'ADP', 'DET', 'NOUN', 'ADJ', 'CCONJ', 'DET', 'NOUN', 'ADJ', 'PRON', 'DET', 'NOUN', 'VERB', 'ADV', 'PUNCT']), (['Le', 'Conseil', 'a', 'bien', 'sûr', 'fait', 'preuve', 'de', 'générosité', 'en', 'ce', 'sens', \"qu'\", 'il', 'a', 'confié', 'la', 'gestion', 'et', 'le', 'fonctionnement', 'technique', 'à', 'la', 'Commission', '.'], ['DET', 'NOUN', 'AUX', 'ADV', 'ADJ', 'VERB', 'NOUN', 'ADP', 'NOUN', 'ADP', 'DET', 'NOUN', 'SCONJ', 'PRON', 'AUX', 'VERB', 'DET', 'NOUN', 'CCONJ', 'DET', 'NOUN', 'ADJ', 'ADP', 'DET', 'NOUN', 'PUNCT']), (['Cette', 'solution', 'équilibrée', 'permettra', 'peut-être', 'de', 'répondre', 'de', 'manière', 'plus', 'détendue', 'et', 'confiante', 'à', 'certaines', 'réserves', 'et', 'à', 'certains', 'doutes', 'politiques', 'que', 'certains', 'députés', 'du', 'de', 'le', 'Parlement', 'ont', 'soulevés', 'lors', 'de', 'ce', 'débat', '.'], ['DET', 'NOUN', 'ADJ', 'VERB', 'ADV', 'ADP', 'VERB', 'ADP', 'NOUN', 'ADV', 'ADJ', 'CCONJ', 'ADJ', 'ADP', 'DET', 'NOUN', 'CCONJ', 'ADP', 'DET', 'NOUN', 'ADJ', 'PRON', 'DET', 'NOUN', '_', 'ADP', 'DET', 'NOUN', 'AUX', 'VERB', 'ADV', 'ADP', 'DET', 'NOUN', 'PUNCT']), (['Je', 'suis', 'peut-être', 'têtu', ',', 'mais', \"c'\", 'est', 'ce', 'que', 'je', 'crois', 'sincèrement', '.'], ['PRON', 'AUX', 'ADV', 'ADJ', 'PUNCT', 'CCONJ', 'PRON', 'AUX', 'PRON', 'PRON', 'PRON', 'VERB', 'ADV', 'PUNCT']), ([\"J'\", 'espère', 'que', 'cela', 'incitera', 'la', 'Commission', 'à', 'adopter', 'une', 'attitude', 'plus', 'active', ',', 'ce', 'qui', ',', 'selon', 'moi', ',', 'fait', 'défaut', \"jusqu'\", 'à', 'présent', '.'], ['PRON', 'VERB', 'SCONJ', 'PRON', 'VERB', 'DET', 'NOUN', 'ADP', 'VERB', 'DET', 'NOUN', 'ADV', 'ADJ', 'PUNCT', 'PRON', 'PRON', 'PUNCT', 'ADP', 'PRON', 'PUNCT', 'VERB', 'NOUN', 'ADP', 'ADP', 'NOUN', 'PUNCT']), ([\"J'\", 'invite', 'la', 'Commission', 'à', 'prendre', 'ce', 'signal', 'avec', 'le', 'plus', 'grand', 'sérieux', 'et', 'à', 'fournir', 'cette', 'aide', '.'], ['PRON', 'VERB', 'DET', 'NOUN', 'ADP', 'VERB', 'DET', 'NOUN', 'ADP', 'DET', 'ADV', 'ADJ', 'NOUN', 'CCONJ', 'ADP', 'VERB', 'DET', 'NOUN', 'PUNCT']), (['Ils', 'se', 'sont', 'assurés', 'que', \"l'\", 'Irak', 'ne', 'dispose', \"d'\", 'aucune', 'fusée', 'à', 'longue', 'portée', 'pouvant', 'menacer', 'ses', 'voisins', '.'], ['PRON', 'PRON', 'AUX', 'VERB', 'SCONJ', 'DET', 'PROPN', 'ADV', 'VERB', 'ADP', 'DET', 'NOUN', 'ADP', 'ADJ', 'NOUN', 'VERB', 'VERB', 'DET', 'NOUN', 'PUNCT']), (['Sans', 'fournir', 'la', 'moindre', 'preuve', ',', 'Washington', 'continue', \"d'\", 'accuser', \"l'\", 'Irak', 'de', 'fabriquer', 'secrètement', 'des', 'armes', 'biologiques', 'et', 'chimiques', '.'], ['ADP', 'VERB', 'DET', 'ADJ', 'NOUN', 'PUNCT', 'PROPN', 'VERB', 'ADP', 'VERB', 'DET', 'PROPN', 'ADP', 'VERB', 'ADV', 'DET', 'NOUN', 'ADJ', 'CCONJ', 'ADJ', 'PUNCT']), (['Selon', 'les', 'agences', 'humanitaires', 'de', \"l'\", 'ONU', ',', 'plusieurs', 'centaines', 'de', 'milliers', \"d'\", 'Irakiens', ',', 'dont', 'quelque', '500 000', 'enfants', ',', 'sont', 'morts', 'prématurément', 'en', 'raison', 'de', \"l'\", 'embargo', ',', 'faute', 'de', 'produits', 'alimentaires', ',', 'de', 'médicaments', 'et', 'de', 'soins', 'adéquats', '.'], ['ADP', 'DET', 'NOUN', 'ADJ', 'ADP', 'DET', 'PROPN', 'PUNCT', 'DET', 'NOUN', 'ADP', 'NOUN', 'ADP', 'NOUN', 'PUNCT', 'PRON', 'ADV', 'DET', 'NOUN', 'PUNCT', 'AUX', 'VERB', 'ADV', 'ADP', 'NOUN', 'ADP', 'DET', 'NOUN', 'PUNCT', 'ADV', 'ADP', 'NOUN', 'ADJ', 'PUNCT', 'ADP', 'NOUN', 'CCONJ', 'ADP', 'NOUN', 'ADJ', 'PUNCT']), ([\"C'\", 'est', 'pourquoi', 'nous', 'ne', 'soumettrons', 'pas', \"aujourd'hui\", 'cette', 'résolution', 'au', 'à', 'le', 'vote', '.'], ['PRON', 'VERB', 'ADV', 'PRON', 'ADV', 'VERB', 'ADV', 'ADV', 'DET', 'NOUN', '_', 'ADP', 'DET', 'NOUN', 'PUNCT']), (['Madame', 'la', 'Présidente', ',', \"j'\", 'ai', 'appris', 'hier', 'soir', 'que', 'M.', 'Akim', 'Birdal', ',', \"l'\", 'ancien', 'président', 'du', 'de', 'le', 'comité', 'des', 'de', 'les', 'droits', 'de', \"l'\", 'homme', 'de', 'Turquie', ',', 'a', 'été', 'remis', 'en', 'prison', '.'], ['NOUN', 'DET', 'NOUN', 'PUNCT', 'PRON', 'AUX', 'VERB', 'ADV', 'NOUN', 'SCONJ', 'NOUN', 'PROPN', 'PROPN', 'PUNCT', 'DET', 'ADJ', 'NOUN', '_', 'ADP', 'DET', 'NOUN', '_', 'ADP', 'DET', 'NOUN', 'ADP', 'DET', 'NOUN', 'ADP', 'PROPN', 'PUNCT', 'AUX', 'AUX', 'VERB', 'ADP', 'NOUN', 'PUNCT']), (['Je', 'pense', 'que', 'ce', 'serait', 'très', 'bienvenu', 'si', 'vous-même', ',', 'en', 'tant', 'que', 'Présidente', 'du', 'de', 'le', 'Parlement', 'européen', ',', 'vous', 'adressiez', ',', 'dans', 'les', 'formes', 'qui', 'vous', 'conviendraient', ',', 'aux', 'à', 'les', 'autorités', 'turques', 'pour', 'demander', 'la', 'libération', 'de', 'cet', 'homme', \"d'\", 'honneur', '.'], ['PRON', 'VERB', 'SCONJ', 'PRON', 'AUX', 'ADV', 'ADJ', 'SCONJ', 'PRON', 'PUNCT', 'ADP', 'ADV', 'SCONJ', 'NOUN', '_', 'ADP', 'DET', 'NOUN', 'ADJ', 'PUNCT', 'PRON', 'VERB', 'PUNCT', 'ADP', 'DET', 'NOUN', 'PRON', 'PRON', 'VERB', 'PUNCT', '_', 'ADP', 'DET', 'NOUN', 'ADJ', 'ADP', 'VERB', 'DET', 'NOUN', 'ADP', 'DET', 'NOUN', 'ADP', 'NOUN', 'PUNCT']), (['Je', 'le', 'répète', ',', 'nous', \"n'\", 'avons', 'pas', 'à', 'parler', \"d'\", 'aidées', 'de', 'grandeur', '\"', '.'], ['PRON', 'PRON', 'VERB', 'PUNCT', 'PRON', 'ADV', 'VERB', 'ADV', 'ADP', 'VERB', 'ADP', 'VERB', 'ADP', 'NOUN', 'PUNCT', 'PUNCT']), (['Nous', 'le', 'répétons', 'avec', 'insistance', ':', \"l'\", 'Union', 'européenne', 'est', 'à', 'la', 'fois', 'une', 'union', \"d'\", 'États', 'et', 'une', 'union', 'de', 'peuples', '.'], ['PRON', 'PRON', 'VERB', 'ADP', 'NOUN', 'PUNCT', 'DET', 'NOUN', 'ADJ', 'AUX', 'ADP', 'DET', 'NOUN', 'DET', 'NOUN', 'ADP', 'NOUN', 'CCONJ', 'DET', 'NOUN', 'ADP', 'NOUN', 'PUNCT']), (['Ceci', 'présente', \"l'\", 'avantage', \"qu'\", 'un', 'solde', 'résultant', 'des', 'de', 'les', 'comptes', 'peut', 'être', 'reporté', 'sur', \"l'\", 'année', 'suivante', '.'], ['PRON', 'VERB', 'DET', 'NOUN', 'SCONJ', 'DET', 'NOUN', 'VERB', '_', 'ADP', 'DET', 'NOUN', 'VERB', 'AUX', 'VERB', 'ADP', 'DET', 'NOUN', 'ADJ', 'PUNCT']), (['Bien', 'sûr', ',', 'les', '800 000', 'tonnes', \"d'\", 'aide', \"d'\", 'urgence', 'promises', 'par', 'la', 'communauté', 'internationale', 'doivent', 'être', 'envoyées', 'au', 'à', 'le', 'plus', 'vite', '.'], ['ADV', 'ADJ', 'PUNCT', 'DET', 'NUM', 'NOUN', 'ADP', 'NOUN', 'ADP', 'NOUN', 'VERB', 'ADP', 'DET', 'NOUN', 'ADJ', 'VERB', 'AUX', 'VERB', '_', 'ADP', 'DET', 'ADV', 'ADV', 'PUNCT']), (['Bien', 'sûr', ',', 'pour', \"l'\", 'heure', ',', \"c'\", 'est', 'simplement', \"l'\", 'appel', 'de', 'la', 'population', 'qui', 'souffre', 'que', 'nous', 'devons', 'entendre', '.'], ['ADV', 'ADJ', 'PUNCT', 'ADP', 'DET', 'NOUN', 'PUNCT', 'PRON', 'AUX', 'ADV', 'DET', 'NOUN', 'ADP', 'DET', 'NOUN', 'PRON', 'VERB', 'SCONJ', 'PRON', 'VERB', 'VERB', 'PUNCT']), (['Monsieur', 'le', 'Président', ',', 'je', 'voudrais', 'surtout', 'discuter', ',', 'pendant', 'le', 'temps', 'qui', \"m'\", 'est', 'imparti', ',', 'de', 'la', 'conférence', 'sur', 'le', 'financement', 'du', 'de', 'le', 'pacte', 'de', 'stabilité', 'qui', 'vient', 'de', 'se', 'dérouler', ',', 'car', \"j'\", 'estime', \"qu'\", 'il', 'est', 'bien', 'plus', 'judicieux', 'de', 'diriger', 'son', 'attention', 'sur', 'celui-ci', 'que', 'sur', 'le', 'texte', 'de', 'mon', 'rapport', 'qui', 'a', 'bien', 'sûr', 'été', 'écrit', 'pour', 'cette', 'conférence', '.'], ['NOUN', 'DET', 'NOUN', 'PUNCT', 'PRON', 'VERB', 'ADV', 'VERB', 'PUNCT', 'ADP', 'DET', 'NOUN', 'PRON', 'PRON', 'AUX', 'VERB', 'PUNCT', 'ADP', 'DET', 'NOUN', 'ADP', 'DET', 'NOUN', '_', 'ADP', 'DET', 'NOUN', 'ADP', 'NOUN', 'PRON', 'VERB', 'ADP', 'PRON', 'VERB', 'PUNCT', 'CCONJ', 'PRON', 'VERB', 'SCONJ', 'PRON', 'AUX', 'ADV', 'ADV', 'ADJ', 'ADP', 'VERB', 'DET', 'NOUN', 'ADP', 'PRON', 'SCONJ', 'ADP', 'DET', 'NOUN', 'ADP', 'DET', 'NOUN', 'PRON', 'AUX', 'ADV', 'ADJ', 'AUX', 'VERB', 'ADP', 'DET', 'NOUN', 'PUNCT']), (['Voici', 'mon', 'opinion', 'sur', 'la', 'conférence', 'dans', 'son', 'ensemble', '.'], ['VERB', 'DET', 'NOUN', 'ADP', 'DET', 'NOUN', 'ADP', 'DET', 'NOUN', 'PUNCT']), ([\"J'\", 'ai', 'apprécié', 'de', 'voir', \"qu'\", 'à', 'cette', 'conférence', \"l'\", 'enthousiasme', 'était', 'bien', 'présent', 'à', 'toutes', 'les', 'tables', 'de', 'travail', '.'], ['PRON', 'AUX', 'VERB', 'ADP', 'VERB', 'SCONJ', 'ADP', 'DET', 'NOUN', 'DET', 'NOUN', 'AUX', 'ADV', 'ADJ', 'ADP', 'ADJ', 'DET', 'NOUN', 'ADP', 'NOUN', 'PUNCT']), ([\"C'\", 'était', 'également', 'une', 'réussite', ',', 'et', 'je', 'ne', 'le', 'dis', 'pas', 'seulement', 'pour', 'complimenter', 'le', 'commissaire', ',', 'parce', \"qu'\", 'il', 'était', 'évident', 'que', \"l'\", 'Union', 'européenne', ',', 'la', 'Commission', 'européenne', ',', 'a', 'enfin', 'pris', 'une', 'initiative', ',', 'tandis', \"qu'\", 'elle', 'est', 'restée', 'à', 'mon', 'avis', 'trop', 'longtemps', 'à', \"l'\", 'arrière-plan', '.'], ['PRON', 'AUX', 'ADV', 'DET', 'NOUN', 'PUNCT', 'CCONJ', 'PRON', 'ADV', 'PRON', 'VERB', 'ADV', 'ADV', 'ADP', 'VERB', 'DET', 'NOUN', 'PUNCT', 'SCONJ', 'SCONJ', 'PRON', 'AUX', 'ADJ', 'SCONJ', 'DET', 'NOUN', 'ADJ', 'PUNCT', 'DET', 'NOUN', 'ADJ', 'PUNCT', 'AUX', 'ADV', 'VERB', 'DET', 'NOUN', 'PUNCT', 'ADV', 'SCONJ', 'PRON', 'AUX', 'VERB', 'ADP', 'DET', 'NOUN', 'ADV', 'ADV', 'ADP', 'DET', 'NOUN', 'PUNCT']), (['Un', 'montant', 'qui', 'notamment', \"n'\", 'est', 'jamais', 'cité', 'par', 'la', 'Banque', 'européenne', \"d'\", 'investissement', ',', 'qui', 'est', 'mentionné', 'plus', 'tard', 'par', 'le', 'Président', 'de', 'la', 'Commission', 'Prodi', 'et', 'dont', 'on', 'ne', 'sait', 'pas', 'encore', ',', 'du', 'de', 'le', 'moins', 'à', 'mon', 'avis', ',', 'comment', 'il', 'sera', 'déboursé', \"l'\", 'année', 'prochaine', '.'], ['DET', 'NOUN', 'PRON', 'ADV', 'ADV', 'AUX', 'ADV', 'VERB', 'ADP', 'DET', 'NOUN', 'ADJ', 'ADP', 'NOUN', 'PUNCT', 'PRON', 'AUX', 'VERB', 'ADV', 'ADV', 'ADP', 'DET', 'NOUN', 'ADP', 'DET', 'NOUN', 'PROPN', 'CCONJ', 'PRON', 'PRON', 'ADV', 'VERB', 'ADV', 'ADV', 'PUNCT', '_', 'ADP', 'DET', 'ADV', 'ADP', 'DET', 'NOUN', 'PUNCT', 'ADV', 'PRON', 'AUX', 'VERB', 'DET', 'NOUN', 'ADJ', 'PUNCT']), (['Quelle', 'est', \"l'\", 'intention', 'de', 'la', 'Commission', 'pour', 'supprimer', 'à', 'court', 'terme', 'ces', 'obstacles', 'commerciaux', '?'], ['ADJ', 'AUX', 'DET', 'NOUN', 'ADP', 'DET', 'NOUN', 'ADP', 'VERB', 'ADP', 'ADJ', 'NOUN', 'DET', 'NOUN', 'ADJ', 'PUNCT']), (['En', 'dernier', 'lieu', ',', \"l'\", 'organisation', 'du', 'de', 'le', 'travail', '.'], ['ADP', 'ADJ', 'NOUN', 'PUNCT', 'DET', 'NOUN', '_', 'ADP', 'DET', 'NOUN', 'PUNCT']), (['Le', 'succès', 'du', 'de', 'le', 'marché', 'américain', 'tient', 'essentiellement', 'au', 'à', 'le', '\"', 'roi', 'dollar', '\"', '.'], ['DET', 'NOUN', '_', 'ADP', 'DET', 'NOUN', 'ADJ', 'VERB', 'ADV', '_', 'ADP', 'DET', 'PUNCT', 'NOUN', 'NOUN', 'PUNCT', 'PUNCT']), (['Il', 'est', ',', 'dans', 'ce', 'contexte', ',', 'paradoxal', 'de', 'constater', 'que', 'certains', 'des', 'de', 'les', 'partisans', 'les', 'plus', 'chauds', 'de', 'la', 'libéralisation', 'financière', 'sont', 'en', 'même', 'temps', 'des', 'opposants', 'à', \"l'\", 'euro', '.'], ['PRON', 'AUX', 'PUNCT', 'ADP', 'DET', 'NOUN', 'PUNCT', 'ADJ', 'ADP', 'VERB', 'SCONJ', 'PRON', '_', 'ADP', 'DET', 'NOUN', 'DET', 'ADV', 'ADJ', 'ADP', 'DET', 'NOUN', 'ADJ', 'AUX', 'ADP', 'ADJ', 'NOUN', 'DET', 'NOUN', 'ADP', 'DET', 'NOUN', 'PUNCT']), (['Mais', \"l'\", 'introduction', 'effective', 'de', \"l'\", 'euro', 'en', '2002', 'va', 'se', 'traduire', 'par', 'une', 'transparence', 'et', 'une', 'concurrence', 'telles', 'que', 'les', 'marchés', 'nationaux', 'vont', 'devoir', \"s'\", 'adapter', 'plus', 'rapidement', 'que', 'prévu', '.'], ['CCONJ', 'DET', 'NOUN', 'ADJ', 'ADP', 'DET', 'NOUN', 'ADP', 'NUM', 'VERB', 'PRON', 'VERB', 'ADP', 'DET', 'NOUN', 'CCONJ', 'DET', 'NOUN', 'ADJ', 'SCONJ', 'DET', 'NOUN', 'ADJ', 'VERB', 'VERB', 'PRON', 'VERB', 'ADV', 'ADV', 'SCONJ', 'VERB', 'PUNCT']), (['John', 'Kenneth', 'Galbraith', 'a', 'dénoncé', \"l'\", 'illusion', 'selon', 'laquelle', 'argent', 'et', 'intelligence', 'seraient', 'des', 'facteurs', 'liés', '.'], ['PROPN', 'PROPN', 'PROPN', 'AUX', 'VERB', 'DET', 'NOUN', 'ADP', 'PRON', 'NOUN', 'CCONJ', 'NOUN', 'AUX', 'DET', 'NOUN', 'VERB', 'PUNCT']), (['En', 'ce', 'qui', 'concerne', 'le', 'rapport', 'Kuckelkorn', ',', 'je', 'dois', 'féliciter', 'son', 'auteur', 'pour', 'la', 'ténacité', 'avec', 'laquelle', 'il', 'plaide', 'pour', 'les', 'retraites', 'complémentaires', ',', 'pour', 'que', 'celles-ci', 'soient', 'effectivement', 'un', 'second', 'pilier', 'de', \"l'\", 'assurance', 'vieillesse', '.'], ['ADP', 'PRON', 'PRON', 'VERB', 'DET', 'NOUN', 'PROPN', 'PUNCT', 'PRON', 'VERB', 'VERB', 'DET', 'NOUN', 'ADP', 'DET', 'NOUN', 'ADP', 'PRON', 'PRON', 'VERB', 'ADP', 'DET', 'NOUN', 'ADJ', 'PUNCT', 'ADP', 'SCONJ', 'PRON', 'AUX', 'ADV', 'DET', 'ADJ', 'NOUN', 'ADP', 'DET', 'NOUN', 'NOUN', 'PUNCT']), (['Où', 'sont', '-ils', 'donc', 'ces', '32', 'et', 'quelques', ',', 'qui', 'se', 'sont', 'levés', 'et', 'qui', 'se', 'lèveront', 'encore', ',', 'mais', 'sont', 'absents', 'maintenant', 'pendant', 'que', 'nous', 'délibérons', '?'], ['PRON', 'VERB', 'PRON', 'ADV', 'DET', 'NUM', 'CCONJ', 'DET', 'PUNCT', 'PRON', 'PRON', 'AUX', 'VERB', 'CCONJ', 'PRON', 'PRON', 'VERB', 'ADV', 'PUNCT', 'CCONJ', 'AUX', 'ADJ', 'ADV', 'ADP', 'SCONJ', 'PRON', 'VERB', 'PUNCT']), (['Bref', ',', 'nous', 'ne', 'faisons', 'que', 'déplacer', 'le', 'problème', '.'], ['ADV', 'PUNCT', 'PRON', 'ADV', 'VERB', 'ADV', 'VERB', 'DET', 'NOUN', 'PUNCT']), (['Monsieur', 'le', 'Président', ',', 'mes', 'chers', 'collègues', ',', 'le', 'développement', \"d'\", 'une', 'infrastructure', 'de', 'transport', 'efficace', 'sur', 'le', 'territoire', 'européen', 'est', 'primordial', ',', 'notamment', 'pour', 'les', 'régions', 'enclavées', 'et', 'les', 'zones', 'rurales', ',', 'tant', 'en', 'France', 'que', 'dans', 'de', 'nombreux', 'autres', 'États', '.'], ['NOUN', 'DET', 'NOUN', 'PUNCT', 'DET', 'ADJ', 'NOUN', 'PUNCT', 'DET', 'NOUN', 'ADP', 'DET', 'NOUN', 'ADP', 'NOUN', 'ADJ', 'ADP', 'DET', 'NOUN', 'ADJ', 'AUX', 'ADJ', 'PUNCT', 'ADV', 'ADP', 'DET', 'NOUN', 'VERB', 'CCONJ', 'DET', 'NOUN', 'ADJ', 'PUNCT', 'ADV', 'ADP', 'PROPN', 'SCONJ', 'ADP', 'DET', 'ADJ', 'ADJ', 'NOUN', 'PUNCT']), (['Je', 'ne', 'peux', 'donc', 'pas', 'mettre', 'cette', 'demande', 'aux', 'à', 'les', 'voix', '.'], ['PRON', 'ADV', 'VERB', 'ADV', 'ADV', 'VERB', 'DET', 'NOUN', '_', 'ADP', 'DET', 'NOUN', 'PUNCT']), (['Je', 'désire', 'également', 'féliciter', 'ma', 'collègue', 'Roth-Behrendt', 'pour', 'son', 'rapport', '.'], ['PRON', 'VERB', 'ADV', 'VERB', 'DET', 'NOUN', 'PROPN', 'ADP', 'DET', 'NOUN', 'PUNCT']), (['En', 'effet', ',', 'la', 'proposition', 'découle', \"d'\", 'un', 'engagement', 'qui', 'a', 'été', 'pris', 'concernant', 'la', 'commission', 'de', 'suivi', '.'], ['ADP', 'NOUN', 'PUNCT', 'DET', 'NOUN', 'VERB', 'ADP', 'DET', 'NOUN', 'PRON', 'AUX', 'AUX', 'VERB', 'VERB', 'DET', 'NOUN', 'ADP', 'NOUN', 'PUNCT']), (['Demandez', 'donc', 'à', 'mes', 'collègues', 'écossais', 'et', 'gallois', '.'], ['VERB', 'ADV', 'ADP', 'DET', 'NOUN', 'ADJ', 'CCONJ', 'ADJ', 'PUNCT']), (['Troisièmement', ',', 'je', 'considère', 'comme', 'positive', \"l'\", 'obligation', 'imposée', 'aux', 'à', 'les', 'exploitations', 'frappées', 'par', 'la', 'maladie', 'de', 'détruire', 'ou', 'de', 'supprimer', \"l'\", 'ensemble', 'de', 'leur', 'cheptel', '.'], ['ADV', 'PUNCT', 'PRON', 'VERB', 'ADP', 'ADJ', 'DET', 'NOUN', 'VERB', '_', 'ADP', 'DET', 'NOUN', 'VERB', 'ADP', 'DET', 'NOUN', 'ADP', 'VERB', 'CCONJ', 'ADP', 'VERB', 'DET', 'NOUN', 'ADP', 'DET', 'NOUN', 'PUNCT']), (['Quatrièmement', ',', 'il', 'est', 'effectivement', 'urgent', \"d'\", 'élaborer', 'une', 'législation', 'complémentaire', 'pour', 'des', 'produits', 'tels', 'que', 'les', 'cosmétiques', ',', 'les', 'médicaments', 'et', 'les', 'produits', 'médicinaux', 'qui', 'en', 'sont', 'actuellement', 'exclus', '.'], ['ADV', 'PUNCT', 'PRON', 'AUX', 'ADV', 'ADJ', 'ADP', 'VERB', 'DET', 'NOUN', 'ADJ', 'ADP', 'DET', 'NOUN', 'ADJ', 'SCONJ', 'DET', 'NOUN', 'PUNCT', 'DET', 'NOUN', 'CCONJ', 'DET', 'NOUN', 'ADJ', 'PRON', 'PRON', 'AUX', 'ADV', 'VERB', 'PUNCT']), (['Je', 'pense', 'que', 'cela', 'est', 'important', 'pour', 'garantir', 'davantage', 'de', 'démocratie', ',', 'pour', 'se', 'défaire', 'de', 'la', 'comitologie', 'et', 'pour', 'renforcer', 'le', 'contrôle', 'du', 'de', 'le', 'Parlement', '.'], ['PRON', 'VERB', 'SCONJ', 'PRON', 'AUX', 'ADJ', 'ADP', 'VERB', 'ADV', 'ADP', 'NOUN', 'PUNCT', 'ADP', 'PRON', 'VERB', 'ADP', 'DET', 'NOUN', 'CCONJ', 'ADP', 'VERB', 'DET', 'NOUN', '_', 'ADP', 'DET', 'NOUN', 'PUNCT']), (['Des', 'observateurs', 'doivent', 'être', 'dépêchés', 'le', 'plus', 'rapidement', 'au', 'à', 'le', 'Zimbabwe', ',', 'si', 'possible', \"aujourd'hui\", 'plutôt', 'que', 'demain', '.'], ['DET', 'NOUN', 'VERB', 'AUX', 'VERB', 'DET', 'ADV', 'ADV', '_', 'ADP', 'DET', 'PROPN', 'PUNCT', 'SCONJ', 'ADJ', 'ADV', 'ADV', 'SCONJ', 'ADV', 'PUNCT']), (['Pour', \"l'\", 'instant', ',', 'les', 'pays', 'voisins', 'restent', 'enfermés', 'dans', 'le', 'mutisme', 'le', 'plus', 'total', '.'], ['ADP', 'DET', 'NOUN', 'PUNCT', 'DET', 'NOUN', 'ADJ', 'VERB', 'VERB', 'ADP', 'DET', 'NOUN', 'DET', 'ADV', 'ADJ', 'PUNCT']), (['Si', 'la', 'Commission', \"n'\", 'agit', 'pas', 'de', 'la', 'sorte', ',', 'les', 'saisies', 'illégales', 'de', 'terres', 'pourraient', \"s'\", 'étendre', 'au', 'à', 'le', 'reste', 'de', \"l'\", 'Afrique', 'australe', 'et', 'entraîner', 'une', 'catastrophe', ',', 'non', 'seulement', 'pour', 'cette', 'région', ',', 'mais', 'aussi', 'pour', 'tout', 'le', 'reste', 'de', \"l'\", 'Afrique', '.'], ['SCONJ', 'DET', 'NOUN', 'ADV', 'VERB', 'ADV', 'ADP', 'DET', 'NOUN', 'PUNCT', 'DET', 'NOUN', 'ADJ', 'ADP', 'NOUN', 'VERB', 'PRON', 'VERB', '_', 'ADP', 'DET', 'NOUN', 'ADP', 'DET', 'PROPN', 'ADJ', 'CCONJ', 'VERB', 'DET', 'NOUN', 'PUNCT', 'ADV', 'ADV', 'ADP', 'DET', 'NOUN', 'PUNCT', 'CCONJ', 'ADV', 'ADP', 'ADJ', 'DET', 'NOUN', 'ADP', 'DET', 'PROPN', 'PUNCT']), (['il', 'faut', 'que', \"l'\", 'Union', 'européenne', 'gère', 'les', 'budgets', 'nationaux', 'pour', 'la', 'recherche', 'spatiale', '.'], ['PRON', 'VERB', 'SCONJ', 'DET', 'NOUN', 'ADJ', 'VERB', 'DET', 'NOUN', 'ADJ', 'ADP', 'DET', 'NOUN', 'ADJ', 'PUNCT']), (['Je', 'suis', 'déjà', 'politicien', ',', 'je', 'pourrais', 'devenir', 'astronaute', ',', 'le', 'premier', 'astronaute', 'retraité', 'de', \"l'\", 'Union', 'européenne', '.'], ['PRON', 'AUX', 'ADV', 'NOUN', 'PUNCT', 'PRON', 'VERB', 'VERB', 'NOUN', 'PUNCT', 'DET', 'ADJ', 'NOUN', 'NOUN', 'ADP', 'DET', 'NOUN', 'ADJ', 'PUNCT']), (['Cette', 'visite', \"s'\", 'inscrivait', 'dans', 'le', 'cadre', 'de', 'la', 'neuvième', 'rencontre', 'entre', 'les', 'présidents', 'du', 'de', 'le', 'Parlement', 'européen', 'et', 'les', 'présidents', 'des', 'de', 'les', 'pays', 'candidats', ',', 'une', 'rencontre', 'qui', 'a', 'été', 'initiée', 'il', 'y', 'a', 'plusieurs', 'années', 'par', 'mes', 'prédécesseurs', 'Enrique', 'Barón', 'Crespo', ',', 'Klaus', 'Hänsch', 'et', 'José', 'Maria', 'Gil', 'Robles', '.'], ['DET', 'NOUN', 'PRON', 'VERB', 'ADP', 'DET', 'NOUN', 'ADP', 'DET', 'ADJ', 'NOUN', 'ADP', 'DET', 'NOUN', '_', 'ADP', 'DET', 'NOUN', 'ADJ', 'CCONJ', 'DET', 'NOUN', '_', 'ADP', 'DET', 'NOUN', 'NOUN', 'PUNCT', 'DET', 'NOUN', 'PRON', 'AUX', 'AUX', 'VERB', 'PRON', 'PRON', 'VERB', 'DET', 'NOUN', 'ADP', 'DET', 'NOUN', 'PROPN', 'PROPN', 'PROPN', 'PUNCT', 'PROPN', 'PROPN', 'CCONJ', 'PROPN', 'PROPN', 'PROPN', 'PROPN', 'PUNCT']), (['Dans', 'les', 'objectifs', 'que', 'vous', 'avez', 'évoqués', ',', 'vous', 'avez', 'parlé', 'de', 'votre', 'souhait', \"d'\", 'entrer', 'dans', 'une', 'maison', 'commune', 'solide', ',', 'forte', ',', 'unie', ',', 'et', 'je', 'crois', 'pouvoir', 'dire', 'que', 'tel', 'est', 'le', 'souhait', 'de', 'la', 'majorité', 'de', 'notre', 'Assemblée', '.'], ['ADP', 'DET', 'NOUN', 'PRON', 'PRON', 'AUX', 'VERB', 'PUNCT', 'PRON', 'AUX', 'VERB', 'ADP', 'DET', 'NOUN', 'ADP', 'VERB', 'ADP', 'DET', 'NOUN', 'ADJ', 'ADJ', 'PUNCT', 'ADJ', 'PUNCT', 'ADJ', 'PUNCT', 'CCONJ', 'PRON', 'VERB', 'VERB', 'VERB', 'SCONJ', 'ADJ', 'AUX', 'DET', 'NOUN', 'ADP', 'DET', 'NOUN', 'ADP', 'DET', 'NOUN', 'PUNCT']), (['Je', 'voudrais', 'rappeler', 'à', 'cet', 'égard', ',', \"qu'\", 'il', 'y', 'a', 'quelques', 'semaines', ',', '80 000', 'jeunes', 'des', 'de', 'les', 'pays', 'de', \"l'\", 'Union', 'européenne', 'ont', 'participé', 'à', 'un', 'concours', 'pour', 'la', 'recherche', \"d'\", 'une', 'devise', 'pour', \"l'\", 'Europe', 'et', 'que', 'la', 'devise', 'qui', 'a', 'été', 'finalement', 'retenue', 'par', 'un', 'grand', 'jury', 'a', 'été', '\"', \"L'\", 'unité', 'dans', 'la', 'diversité', '\"', '.'], ['PRON', 'VERB', 'VERB', 'ADP', 'DET', 'NOUN', 'PUNCT', 'SCONJ', 'PRON', 'PRON', 'VERB', 'DET', 'NOUN', 'PUNCT', 'DET', 'NOUN', '_', 'ADP', 'DET', 'NOUN', 'ADP', 'DET', 'NOUN', 'ADJ', 'AUX', 'VERB', 'ADP', 'DET', 'NOUN', 'ADP', 'DET', 'NOUN', 'ADP', 'DET', 'NOUN', 'ADP', 'DET', 'PROPN', 'CCONJ', 'SCONJ', 'DET', 'NOUN', 'PRON', 'AUX', 'AUX', 'ADV', 'VERB', 'ADP', 'DET', 'ADJ', 'NOUN', 'AUX', 'AUX', 'PUNCT', 'DET', 'NOUN', 'ADP', 'DET', 'NOUN', 'PUNCT', 'PUNCT']), (['(', 'La', 'séance', 'solennelle', 'est', 'close', 'à', '12', 'h', '30', ')'], ['PUNCT', 'DET', 'NOUN', 'ADJ', 'AUX', 'VERB', 'ADP', 'NUM', 'NOUN', 'NUM', 'PUNCT']), (['Par', 'ailleurs', ',', 'la', 'délégation', 'britannique', ',', 'composée', 'actuellement', 'de', '36', 'députés', ',', 'a', 'présenté', 'à', 'nouveau', 'la', 'résolution', 'dans', 'sa', 'forme', 'originale', '.'], ['ADP', 'ADV', 'PUNCT', 'DET', 'NOUN', 'ADJ', 'PUNCT', 'VERB', 'ADV', 'ADP', 'NUM', 'NOUN', 'PUNCT', 'AUX', 'VERB', 'ADP', 'ADJ', 'DET', 'NOUN', 'ADP', 'DET', 'NOUN', 'ADJ', 'PUNCT']), (['Je', 'voudrais', 'souligner', ',', 'comme', \"l'\", 'a', 'fait', 'le', 'précédent', 'orateur', ',', 'la', 'nécessité', 'de', 'passer', 'à', \"l'\", 'action', ',', 'de', 'développer', 'la', 'coopération', 'entre', 'les', 'polices', 'et', \"d'\", 'augmenter', \"l'\", 'information', 'dans', 'ce', 'domaine', '.'], ['PRON', 'VERB', 'VERB', 'PUNCT', 'SCONJ', 'PRON', 'AUX', 'VERB', 'DET', 'ADJ', 'NOUN', 'PUNCT', 'DET', 'NOUN', 'ADP', 'VERB', 'ADP', 'DET', 'NOUN', 'PUNCT', 'ADP', 'VERB', 'DET', 'NOUN', 'ADP', 'DET', 'NOUN', 'CCONJ', 'ADP', 'VERB', 'DET', 'NOUN', 'ADP', 'DET', 'NOUN', 'PUNCT']), (['Il', \"n'\", 'y', 'a', 'plus', 'de', 'mots', 'pour', 'condamner', 'non', 'seulement', 'les', 'assassins', 'mais', 'également', 'ceux', 'qui', 'les', 'soutiennent', 'politiquement', '.'], ['PRON', 'ADV', 'PRON', 'VERB', 'ADV', 'DET', 'NOUN', 'ADP', 'VERB', 'ADV', 'ADV', 'DET', 'NOUN', 'CCONJ', 'ADV', 'PRON', 'PRON', 'PRON', 'VERB', 'ADV', 'PUNCT']), (['La', 'commission', 'juridique', 'recommande', 'à', 'cette', 'Assemblée', 'de', 'ne', 'pas', 'lever', \"l'\", 'immunité', 'dans', 'cette', 'affaire', '.'], ['DET', 'NOUN', 'ADJ', 'VERB', 'ADP', 'DET', 'NOUN', 'ADP', 'ADV', 'ADV', 'VERB', 'DET', 'NOUN', 'ADP', 'DET', 'NOUN', 'PUNCT']), ([\"L'\", 'affaire', 'concerne', 'une', 'manifestation', 'organisée', 'par', 'M.', 'Brie', 'et', 'des', 'partisans', 'en', 'Septembre', '1998', ',', 'quand', 'lui', 'et', 'huit', 'autres', 'personnes', 'ont', 'déroulé', 'et', 'exhibé', 'une', 'affiche', 'de', 'la', 'Porte', 'de', 'Brandebourg', 'à', 'Berlin', 'pour', 'protester', 'contre', 'le', 'fossé', 'qui', 'existe', 'dans', 'la', 'société', 'entre', 'les', 'riches', 'et', 'les', 'pauvres', '.'], ['DET', 'NOUN', 'VERB', 'DET', 'NOUN', 'VERB', 'ADP', 'NOUN', 'PROPN', 'CCONJ', 'DET', 'NOUN', 'ADP', 'NOUN', 'NUM', 'PUNCT', 'SCONJ', 'PRON', 'CCONJ', 'NUM', 'ADJ', 'NOUN', 'AUX', 'VERB', 'CCONJ', 'VERB', 'DET', 'NOUN', 'ADP', 'DET', 'NOUN', 'ADP', 'PROPN', 'ADP', 'PROPN', 'ADP', 'VERB', 'ADP', 'DET', 'NOUN', 'PRON', 'VERB', 'ADP', 'DET', 'NOUN', 'ADP', 'DET', 'NOUN', 'CCONJ', 'DET', 'NOUN', 'PUNCT']), (['Premièrement', ':', 'pour', 'ce', 'qui', 'est', 'de', 'la', 'base', 'légale', ',', 'notre', 'collègue', 'Lechner', 'a', 'déjà', 'suffisamment', 'argumenté', '.'], ['ADV', 'PUNCT', 'ADP', 'PRON', 'PRON', 'VERB', 'ADP', 'DET', 'NOUN', 'ADJ', 'PUNCT', 'DET', 'NOUN', 'PROPN', 'AUX', 'ADV', 'ADV', 'VERB', 'PUNCT']), (['Deuxièmement', ',', 'la', 'proposition', 'de', 'directive', 'propose', 'une', 'limitation', 'des', 'de', 'les', 'exportations', '.'], ['ADV', 'PUNCT', 'DET', 'NOUN', 'ADP', 'NOUN', 'VERB', 'DET', 'NOUN', '_', 'ADP', 'DET', 'NOUN', 'PUNCT']), (['La', 'pose', \"d'\", 'un', 'panneau', 'stop', 'paraît', 'être', 'la', 'formule', 'la', 'mieux', 'adaptée', 'pour', 'assurer', 'la', 'sécurité', 'des', 'de', 'les', 'usagers', '.'], ['DET', 'NOUN', 'ADP', 'DET', 'NOUN', 'NOUN', 'VERB', 'AUX', 'DET', 'NOUN', 'DET', 'ADV', 'ADJ', 'ADP', 'VERB', 'DET', 'NOUN', '_', 'ADP', 'DET', 'NOUN', 'PUNCT']), (['En', 'délibérant', ',', \"l'\", 'assemblée', 'a', 'accepté', 'la', 'proposition', 'du', 'de', 'le', 'maire', 'et', \"l'\", 'a', 'chargé', 'de', 'faire', 'établir', 'par', 'les', 'services', 'de', 'la', 'DDE', 'un', 'dossier', 'de', 'demande', 'de', 'subvention', 'dans', 'le', 'cadre', 'de', 'la', 'répartition', 'des', 'de', 'les', 'amendes', 'de', 'police', '1999', '.'], ['ADP', 'VERB', 'PUNCT', 'DET', 'NOUN', 'AUX', 'VERB', 'DET', 'NOUN', '_', 'ADP', 'DET', 'NOUN', 'CCONJ', 'PRON', 'AUX', 'VERB', 'ADP', 'AUX', 'VERB', 'ADP', 'DET', 'NOUN', 'ADP', 'DET', 'PROPN', 'DET', 'NOUN', 'ADP', 'NOUN', 'ADP', 'NOUN', 'ADP', 'DET', 'NOUN', 'ADP', 'DET', 'NOUN', '_', 'ADP', 'DET', 'NOUN', 'ADP', 'NOUN', 'NUM', 'PUNCT']), (['La', 'remise', 'du', 'de', 'le', 'lavoir', 'abrite', 'depuis', 'quelques', 'jours', 'une', 'exposition', 'qui', 'a', 'été', 'inaugurée', 'par', 'Roger', 'Thiriot', ',', 'président', 'de', \"l'\", 'Association', \"d'\", 'insertion', 'des', 'de', 'les', 'pays', 'de', 'la', 'Saulx', 'et', 'du', 'de', 'le', 'Perthois', ',', 'en', 'présence', 'de', 'nombreux', 'élus', 'du', 'de', 'le', 'canton', '.'], ['DET', 'NOUN', '_', 'ADP', 'DET', 'NOUN', 'VERB', 'ADP', 'DET', 'NOUN', 'DET', 'NOUN', 'PRON', 'AUX', 'AUX', 'VERB', 'ADP', 'PROPN', 'PROPN', 'PUNCT', 'NOUN', 'ADP', 'DET', 'NOUN', 'ADP', 'NOUN', '_', 'ADP', 'DET', 'NOUN', 'ADP', 'DET', 'PROPN', 'CCONJ', '_', 'ADP', 'DET', 'PROPN', 'PUNCT', 'ADP', 'NOUN', 'ADP', 'ADJ', 'NOUN', '_', 'ADP', 'DET', 'NOUN', 'PUNCT']), (['Après', 'une', 'année', \"d'\", 'études', ',', 'la', 'conduite', 'des', 'de', 'les', 'travaux', 'est', 'menée', 'par', 'le', 'cabinet', 'Cadel', 'et', 'son', 'associé', ',', 'M.', 'Bruand', ',', 'sous', 'le', 'contrôle', 'de', \"l'\", 'Equipement', ',', 'en', 'neuf', 'mois', '.'], ['ADP', 'DET', 'NOUN', 'ADP', 'NOUN', 'PUNCT', 'DET', 'NOUN', '_', 'ADP', 'DET', 'NOUN', 'AUX', 'VERB', 'ADP', 'DET', 'NOUN', 'PROPN', 'CCONJ', 'DET', 'NOUN', 'PUNCT', 'NOUN', 'PROPN', 'PUNCT', 'ADP', 'DET', 'NOUN', 'ADP', 'DET', 'NOUN', 'PUNCT', 'ADP', 'NUM', 'NOUN', 'PUNCT']), (['Il', 'pense', 'que', \"l'\", 'espace', ',', 'les', 'couleurs', ',', 'le', 'silence', \"d'\", 'un', 'tel', 'lieu', 'ne', 'peuvent', \"qu'\", 'être', 'un', 'élément', \"d'\", 'harmonie', 'dans', 'la', 'vie', 'de', 'la', 'commune', ',', 'et', 'espère', 'que', \"d'\", 'autres', 'projets', 'seront', 'réalisés', 'dans', 'cet', 'esprit', '.'], ['PRON', 'VERB', 'SCONJ', 'DET', 'NOUN', 'PUNCT', 'DET', 'NOUN', 'PUNCT', 'DET', 'NOUN', 'ADP', 'DET', 'ADJ', 'NOUN', 'ADV', 'VERB', 'ADV', 'AUX', 'DET', 'NOUN', 'ADP', 'NOUN', 'ADP', 'DET', 'NOUN', 'ADP', 'DET', 'NOUN', 'PUNCT', 'CCONJ', 'VERB', 'SCONJ', 'DET', 'ADJ', 'NOUN', 'AUX', 'VERB', 'ADP', 'DET', 'NOUN', 'PUNCT']), (['Les', 'cyclistes', 'et', 'vététistes', 'peuvent', 'se', 'réunir', 'ce', 'matin', ',', 'à', '9', 'h', ',', 'place', 'Jacques-Bailleurs', ',', 'à', \"l'\", 'occasion', \"d'\", 'une', 'sortie', \"d'\", 'entraînement', '.'], ['DET', 'NOUN', 'CCONJ', 'NOUN', 'VERB', 'PRON', 'VERB', 'DET', 'NOUN', 'PUNCT', 'ADP', 'NUM', 'NOUN', 'PUNCT', 'NOUN', 'PROPN', 'PUNCT', 'ADP', 'DET', 'NOUN', 'ADP', 'DET', 'NOUN', 'ADP', 'NOUN', 'PUNCT']), (['Tir'], ['NOUN']), (['Les', 'tireurs', 'de', 'la', 'Vaux-Racine', 'ont', 'rendez-vous', 'à', 'partir', 'de', '9', 'h', ',', 'sur', 'les', 'pas', 'de', 'tir', ',', 'à', \"l'\", 'occasion', \"d'\", 'une', 'séance', \"d'\", 'entraînement', '.'], ['DET', 'NOUN', 'ADP', 'DET', 'PROPN', 'VERB', 'NOUN', 'ADP', 'VERB', 'ADP', 'NUM', 'NOUN', 'PUNCT', 'ADP', 'DET', 'NOUN', 'ADP', 'NOUN', 'PUNCT', 'ADP', 'DET', 'NOUN', 'ADP', 'DET', 'NOUN', 'ADP', 'NOUN', 'PUNCT']), (['Nos', 'condoléances', 'à', 'ses', 'enfants', '.'], ['DET', 'NOUN', 'ADP', 'DET', 'NOUN', 'PUNCT']), (['Photos', 'Jacques', 'FISSIER'], ['NOUN', 'PROPN', 'PROPN']), (['Pour', 'être', 'précis', ',', \"c'\", 'est', 'autour', 'de', '1950', 'que', 'la', 'société', \"d'\", 'aviculture', 'de', 'Belfort', 'a', 'vraiment', 'pris', 'sa', 'réelle', 'importance', ',', 'avec', 'la', 'présidence', 'de', 'Claude', 'Simon', '.'], ['ADP', 'AUX', 'ADJ', 'PUNCT', 'PRON', 'AUX', 'ADV', 'ADP', 'NUM', 'SCONJ', 'DET', 'NOUN', 'ADP', 'NOUN', 'ADP', 'PROPN', 'AUX', 'ADV', 'VERB', 'DET', 'ADJ', 'NOUN', 'PUNCT', 'ADP', 'DET', 'NOUN', 'ADP', 'PROPN', 'PROPN', 'PUNCT']), ([\"S'\", 'apercevant', 'que', 'son', 'mari', 'avait', 'soudainement', 'perdu', 'connaissance', ',', \"l'\", 'épouse', ',', 'passagère', 'avant', ',', 'a', 'tenté', 'de', 'garder', 'le', 'véhicule', 'en', 'ligne', 'droite', 'en', 'se', 'saisissant', 'du', 'de', 'le', 'volant', '.'], ['PRON', 'VERB', 'SCONJ', 'DET', 'NOUN', 'AUX', 'ADV', 'VERB', 'NOUN', 'PUNCT', 'DET', 'NOUN', 'PUNCT', 'NOUN', 'ADV', 'PUNCT', 'AUX', 'VERB', 'ADP', 'VERB', 'DET', 'NOUN', 'ADP', 'NOUN', 'ADJ', 'ADP', 'PRON', 'VERB', '_', 'ADP', 'DET', 'NOUN', 'PUNCT']), (['La', 'voiture', 'circulait', 'dans', 'le', 'sens', 'Mulhouse-Montbéliard', \"lorsqu'\", 'après', 'être', 'passée', 'à', 'hauteur', 'du', 'de', 'le', '35e', 'RI', ',', 'elle', 'a', 'quitté', 'la', 'chaussée', 'sur', 'sa', 'droite', '.'], ['DET', 'NOUN', 'VERB', 'ADP', 'DET', 'NOUN', 'PROPN', 'SCONJ', 'ADP', 'AUX', 'VERB', 'ADP', 'NOUN', '_', 'ADP', 'DET', 'ADJ', 'NOUN', 'PUNCT', 'PRON', 'AUX', 'VERB', 'DET', 'NOUN', 'ADP', 'DET', 'NOUN', 'PUNCT']), (['En', 'plein', 'midi', ',', 'la', 'ville', 'de', 'Maxéville', 'sera', 'plongée', 'durant', 'quelques', 'secondes', 'dans', 'la', 'nuit', '.'], ['ADP', 'ADJ', 'NOUN', 'PUNCT', 'DET', 'NOUN', 'ADP', 'PROPN', 'AUX', 'VERB', 'ADP', 'DET', 'NOUN', 'ADP', 'DET', 'NOUN', 'PUNCT']), (['Pour', 'préparer', 'la', 'population', 'à', 'ce', 'phénomène', ',', 'la', 'ville', 'propose', 'actuellement', 'au', 'à', 'le', 'centre', 'Marie-Marvingt', 'et', \"jusqu'\", 'au', 'à', 'le', '23', 'juin', ',', 'une', 'exposition', 'réalisée', 'par', 'le', 'CNRS', 'intitulée', '\"', 'Images', 'du', 'de', 'le', 'ciel', '\"', '.'], ['ADP', 'VERB', 'DET', 'NOUN', 'ADP', 'DET', 'NOUN', 'PUNCT', 'DET', 'NOUN', 'VERB', 'ADV', '_', 'ADP', 'DET', 'NOUN', 'PROPN', 'CCONJ', 'ADP', '_', 'ADP', 'DET', 'NUM', 'NOUN', 'PUNCT', 'DET', 'NOUN', 'VERB', 'ADP', 'DET', 'PROPN', 'VERB', 'PUNCT', 'NOUN', '_', 'ADP', 'DET', 'NOUN', 'PUNCT', 'PUNCT']), (['Le', 'Petit', 'Prince', 'au', 'à', 'le', 'programme', 'des', 'de', 'les', 'élèves', 'de', 'Jules-Romains'], ['DET', 'ADJ', 'PROPN', '_', 'ADP', 'DET', 'NOUN', '_', 'ADP', 'DET', 'NOUN', 'ADP', 'PROPN']), (['à', 'travers', 'cette', 'oeuvre', ',', 'les', 'élèves', 'de', 'CM2', 'de', 'la', 'classe', 'de', 'Mme', 'Galotte', 'ont', 'abordé', 'la', 'compréhension', 'du', 'de', 'le', 'texte', '.'], ['ADP', 'NOUN', 'DET', 'NOUN', 'PUNCT', 'DET', 'NOUN', 'ADP', 'NOUN', 'ADP', 'DET', 'NOUN', 'ADP', 'NOUN', 'PROPN', 'AUX', 'VERB', 'DET', 'NOUN', '_', 'ADP', 'DET', 'NOUN', 'PUNCT']), ([\"C'\", 'est', 'dans', 'une', 'aisance', 'toute', 'naturelle', 'que', 'les', 'élèves', 'apprentis-acteurs', 'ont', 'joué', '.'], ['PRON', 'AUX', 'ADP', 'DET', 'NOUN', 'ADV', 'ADJ', 'SCONJ', 'DET', 'NOUN', 'NOUN', 'AUX', 'VERB', 'PUNCT']), (['Plus', 'simplement', ',', 'les', 'hasards', 'du', 'de', 'le', 'calendrier', 'du', 'de', 'le', 'Comité', 'départemental', \"d'\", 'action', 'touristique', 'a', 'fait', 'coïncider', 'la', 'promotion', 'de', \"l'\", 'Office', 'de', 'tourisme', 'avec', 'le', 'nouveau', 'classement', 'de', \"l'\", 'hôtel-restaurant', 'Le', 'Relais', 'à', 'Arc-et-Senans', '.'], ['ADV', 'ADV', 'PUNCT', 'DET', 'NOUN', '_', 'ADP', 'DET', 'NOUN', '_', 'ADP', 'DET', 'NOUN', 'ADJ', 'ADP', 'NOUN', 'ADJ', 'AUX', 'AUX', 'VERB', 'DET', 'NOUN', 'ADP', 'DET', 'NOUN', 'ADP', 'NOUN', 'ADP', 'DET', 'ADJ', 'NOUN', 'ADP', 'DET', 'NOUN', 'DET', 'NOUN', 'ADP', 'PROPN', 'PUNCT']), (['Une', 'juste', 'récompense', 'pour', 'les', 'efforts', 'de', 'qualité', 'entrepris', 'par', 'Jeanine', 'et', 'Willy', 'Schaer', ',', 'jeune', 'couple', \"d'\", 'hôteliers', 'originaires', 'de', 'Haute-Saône', 'et', 'installés', 'à', 'Arc-et-Senans', 'depuis', 'maintenant', 'treize', 'ans', '.'], ['DET', 'ADJ', 'NOUN', 'ADP', 'DET', 'NOUN', 'ADP', 'NOUN', 'VERB', 'ADP', 'PROPN', 'CCONJ', 'PROPN', 'PROPN', 'PUNCT', 'ADJ', 'NOUN', 'ADP', 'NOUN', 'ADJ', 'ADP', 'PROPN', 'CCONJ', 'VERB', 'ADP', 'PROPN', 'ADP', 'ADV', 'NUM', 'NOUN', 'PUNCT']), (['Deux', 'étoiles', 'aussi', ',', \"c'\", 'est', 'le', 'nouveau', 'classement', 'de', \"l'\", 'Office', 'de', 'tourisme', \"d'\", 'Arc-et-Senans', 'qui', 'prend', 'ainsi', 'sa', 'place', 'dans', 'la', 'cour', 'des', 'de', 'les', 'grands', ',', 'juste', 'derrière', 'les', 'offices', 'de', 'Besançon', 'et', 'Montbéliard', '.'], ['NUM', 'NOUN', 'ADV', 'PUNCT', 'PRON', 'AUX', 'DET', 'ADJ', 'NOUN', 'ADP', 'DET', 'NOUN', 'ADP', 'NOUN', 'ADP', 'PROPN', 'PRON', 'VERB', 'ADV', 'DET', 'NOUN', 'ADP', 'DET', 'NOUN', '_', 'ADP', 'DET', 'ADJ', 'PUNCT', 'ADV', 'ADP', 'DET', 'NOUN', 'ADP', 'PROPN', 'CCONJ', 'PROPN', 'PUNCT']), (['Atteinte', 'depuis', 'peu', \"d'\", 'une', 'grave', 'maladie', ',', 'Suzanne', 'Sequin', \"s'\", 'est', 'éteinte', 'samedi', 'au', 'à', 'le', 'centre', 'hospitalier', 'de', 'Bar-le-Duc', ',', 'où', 'elle', 'avait', 'été', 'admise', 'il', 'y', 'a', 'un', 'mois', '.'], ['VERB', 'ADP', 'ADV', 'ADP', 'DET', 'ADJ', 'NOUN', 'PUNCT', 'PROPN', 'PROPN', 'PRON', 'AUX', 'VERB', 'NOUN', '_', 'ADP', 'DET', 'NOUN', 'ADJ', 'ADP', 'PROPN', 'PUNCT', 'PRON', 'PRON', 'AUX', 'AUX', 'VERB', 'PRON', 'PRON', 'VERB', 'DET', 'NOUN', 'PUNCT']), (['Elle', 'fut', 'très', 'affectée', 'par', 'le', 'décès', 'de', 'son', 'mari', 'en', 'avril', '1993', ',', 'une', 'disparition', \"qu'\", 'elle', 'surmonta', 'avec', 'beaucoup', 'de', 'courage', '.'], ['PRON', 'AUX', 'ADV', 'VERB', 'ADP', 'DET', 'NOUN', 'ADP', 'DET', 'NOUN', 'ADP', 'NOUN', 'NUM', 'PUNCT', 'DET', 'NOUN', 'PRON', 'PRON', 'VERB', 'ADP', 'ADV', 'ADP', 'NOUN', 'PUNCT']), (['Pour', 'soutenir', '\"', 'le', 'chef', '\"', ',', 'comme', \"l'\", 'explique', 'un', 'des', 'de', 'les', 'démissionnaires', '.'], ['ADP', 'VERB', 'PUNCT', 'DET', 'NOUN', 'PUNCT', 'PUNCT', 'SCONJ', 'PRON', 'VERB', 'PRON', '_', 'ADP', 'DET', 'NOUN', 'PUNCT']), (['Une', 'entreprise', 'dont', 'on', 'reparlera', 'et', 'qui', 'nécessite', 'un', 'budget', 'important', '.'], ['DET', 'NOUN', 'PRON', 'PRON', 'VERB', 'CCONJ', 'PRON', 'VERB', 'DET', 'NOUN', 'ADJ', 'PUNCT']), (['SOLEUVRE', '.'], ['PROPN', 'PUNCT']), (['Lorsque', 'les', 'représentants', 'de', \"l'\", 'ordre', 'se', 'présentent', 'sur', 'les', 'lieux', ',', 'il', \"n'\", 'y', 'a', 'plus', 'trace', 'de', 'la', 'moindre', 'bagarre', '.'], ['SCONJ', 'DET', 'NOUN', 'ADP', 'DET', 'NOUN', 'PRON', 'VERB', 'ADP', 'DET', 'NOUN', 'PUNCT', 'PRON', 'ADV', 'PRON', 'VERB', 'ADV', 'NOUN', 'ADP', 'DET', 'ADJ', 'NOUN', 'PUNCT']), (['Ce', 'Belfortain', 'de', '27', 'ans', 'a', 'recouvré', 'sa', 'liberté', 'après', 'avoir', 'passé', 'le', 'restant', 'de', 'la', 'nuit', 'dans', 'une', 'cellule', 'de', 'dégrisement', '.'], ['DET', 'NOUN', 'ADP', 'NUM', 'NOUN', 'AUX', 'VERB', 'DET', 'NOUN', 'ADP', 'AUX', 'VERB', 'DET', 'NOUN', 'ADP', 'DET', 'NOUN', 'ADP', 'DET', 'NOUN', 'ADP', 'NOUN', 'PUNCT']), (['Plus', 'exactement', ',', 'cet', 'argent', 'a', 'servi', 'à', 'régler', 'une', 'partie', '(', '30', '%', ')', 'des', 'de', 'les', 'salaires', 'de', 'janvier', '.'], ['ADV', 'ADV', 'PUNCT', 'DET', 'NOUN', 'AUX', 'VERB', 'ADP', 'VERB', 'DET', 'NOUN', 'PUNCT', 'NUM', 'NOUN', 'PUNCT', '_', 'ADP', 'DET', 'NOUN', 'ADP', 'NOUN', 'PUNCT']), (['Car', 'EFI', ',', 'mise', 'en', 'redressement', 'judiciaire', 'en', '1998', 'avec', 'un', 'plan', 'de', 'continuation', 'de', 'dix', 'ans', ',', 'devait', 'déjà', 'impérativement', 'régler', 'une', 'partie', 'des', 'de', 'les', 'sommes', 'dues', 'à', 'ses', 'créanciers', 'en', 'juin', 'dernier', '.'], ['CCONJ', 'PROPN', 'PUNCT', 'VERB', 'ADP', 'NOUN', 'ADJ', 'ADP', 'NUM', 'ADP', 'DET', 'NOUN', 'ADP', 'NOUN', 'ADP', 'NUM', 'NOUN', 'PUNCT', 'VERB', 'ADV', 'ADV', 'VERB', 'DET', 'NOUN', '_', 'ADP', 'DET', 'NOUN', 'VERB', 'ADP', 'DET', 'NOUN', 'ADP', 'NOUN', 'ADJ', 'PUNCT']), (['Alors', 'le', 'tribunal', 'lui', 'avait', 'accordé', 'un', 'ultime', 'délai', ':', 'fin', 'janvier', ',', 'avec', \"l'\", 'échec', 'que', \"l'on\", 'sait', '.'], ['ADV', 'DET', 'NOUN', 'PRON', 'AUX', 'VERB', 'DET', 'ADJ', 'NOUN', 'PUNCT', 'NOUN', 'NOUN', 'PUNCT', 'ADP', 'DET', 'NOUN', 'PRON', 'PRON', 'VERB', 'PUNCT']), (['Ce', 'dernier', 'vient', 'de', 'répondre', 'aux', 'à', 'les', 'maires', 'de', 'la', 'vallée', 'et', 'au', 'à', 'le', 'député', 'Claude', 'Jacquot', ',', 'qui', 'lui', 'avaient', 'fait', 'collectivement', 'un', 'courrier', 'pour', ',', 'de', 'nouveau', ',', 'attirer', 'son', 'attention', 'sur', 'ce', 'dossier', '.'], ['DET', 'ADJ', 'VERB', 'ADP', 'VERB', '_', 'ADP', 'DET', 'NOUN', 'ADP', 'DET', 'NOUN', 'CCONJ', '_', 'ADP', 'DET', 'NOUN', 'PROPN', 'PROPN', 'PUNCT', 'PRON', 'PRON', 'AUX', 'VERB', 'ADV', 'DET', 'NOUN', 'ADP', 'PUNCT', 'ADP', 'ADJ', 'PUNCT', 'VERB', 'DET', 'NOUN', 'ADP', 'DET', 'NOUN', 'PUNCT']), (['Il', \"n'\", 'en', 'justifie', 'pas', 'moins', 'le', 'décret', 'du', 'de', 'le', '13', 'juillet', '2000', 'qui', '\"', 'crée', 'bien', 'un', 'dispositif', 'particulier', '\"', '.'], ['PRON', 'ADV', 'PRON', 'VERB', 'ADV', 'ADV', 'DET', 'NOUN', '_', 'ADP', 'DET', 'NUM', 'NOUN', 'NUM', 'PRON', 'PUNCT', 'VERB', 'ADV', 'DET', 'NOUN', 'ADJ', 'PUNCT', 'PUNCT']), (['la', 'Fédération', 'nationale', 'des', 'de', 'les', 'fils', 'de', 'morts', 'pour', 'la', 'France', ';'], ['DET', 'NOUN', 'ADJ', '_', 'ADP', 'DET', 'NOUN', 'ADP', 'NOUN', 'ADP', 'DET', 'PROPN', 'PUNCT']), (['Grosse', 'journée', 'pour', 'les', 'nombreux', 'bénévoles', 'de', 'la', 'section', 'puisque', ',', 'finalement', ',', '210', 'petits', 'combattants', 'ont', 'répondu', 'présents', '!'], ['ADJ', 'NOUN', 'ADP', 'DET', 'ADJ', 'NOUN', 'ADP', 'DET', 'NOUN', 'SCONJ', 'PUNCT', 'ADV', 'PUNCT', 'NUM', 'ADJ', 'NOUN', 'AUX', 'VERB', 'ADJ', 'PUNCT']), (['Plus', 'particulièrement', ',', 'les', 'orages', 'et', 'les', 'formations', 'nuageuses', 'qui', 'les', 'précèdent', '.'], ['ADV', 'ADV', 'PUNCT', 'DET', 'NOUN', 'CCONJ', 'DET', 'NOUN', 'ADJ', 'PRON', 'PRON', 'VERB', 'PUNCT']), (['De', 'magnifiques', 'photographies', \"d'\", 'orages', ',', 'prises', 'pour', 'la', 'plupart', 'depuis', \"l'\", 'observatoire', 'de', 'Montsec', ',', 'point', 'de', 'vue', 'somptueux', 'sur', 'le', 'Lac', 'de', 'Madine', '.'], ['DET', 'ADJ', 'NOUN', 'ADP', 'NOUN', 'PUNCT', 'VERB', 'ADP', 'DET', 'NOUN', 'ADP', 'DET', 'NOUN', 'ADP', 'PROPN', 'PUNCT', 'NOUN', 'ADP', 'NOUN', 'ADJ', 'ADP', 'DET', 'NOUN', 'ADP', 'PROPN', 'PUNCT']), (['Le', 'visiteur', 'pourra', 'aussi', 'découvrir', 'un', 'exposé', 'sur', \"l'\", 'histoire', 'et', 'le', 'fonctionnement', 'des', 'de', 'les', 'planètes', ',', 'sur', \"l'\", 'astrologie', 'en', 'général', '.'], ['DET', 'NOUN', 'VERB', 'ADV', 'VERB', 'DET', 'NOUN', 'ADP', 'DET', 'NOUN', 'CCONJ', 'DET', 'NOUN', '_', 'ADP', 'DET', 'NOUN', 'PUNCT', 'ADP', 'DET', 'NOUN', 'ADP', 'ADJ', 'PUNCT']), (['Une', 'animation', 'très', 'ludique', 'avec', 'Maggie', 'Jankowski', '.'], ['DET', 'NOUN', 'ADV', 'ADJ', 'ADP', 'PROPN', 'PROPN', 'PUNCT']), (['Une', 'sorte', 'de', 'réaction', 'épidermique', 'par', 'rapport', 'à', 'leur', 'présence', '\"', 'commentait', 'le', 'commissaire', 'central', '.'], ['DET', 'NOUN', 'ADP', 'NOUN', 'ADJ', 'ADP', 'NOUN', 'ADP', 'DET', 'NOUN', 'PUNCT', 'VERB', 'DET', 'NOUN', 'ADJ', 'PUNCT']), (['La', 'poursuite', 'des', 'de', 'les', 'investigations', 'policières', 'permettra', \"d'\", 'apporter', 'une', 'réponse', 'quant', 'à', \"l'\", 'origine', 'de', 'ce', 'sinistre', 'qui', 'a', 'perturbé', 'la', 'tranquillité', 'de', 'dizaines', 'de', 'familles', 'de', \"l'\", 'immeuble', '.'], ['DET', 'NOUN', '_', 'ADP', 'DET', 'NOUN', 'ADJ', 'VERB', 'ADP', 'VERB', 'DET', 'NOUN', 'ADV', 'ADP', 'DET', 'NOUN', 'ADP', 'DET', 'NOUN', 'PRON', 'AUX', 'VERB', 'DET', 'NOUN', 'ADP', 'NOUN', 'ADP', 'NOUN', 'ADP', 'DET', 'NOUN', 'PUNCT']), ([\"L'\", 'ancien', 'président', 'de', 'Serbie', 'Milan', 'Milutinovic', ',', 'inculpé', 'aux', 'à', 'les', 'côtés', 'de', \"l'\", 'ex-chef', \"d'\", 'Etat', 'yougoslave', 'Slobodan', 'Milosevic', 'pour', 'crimes', 'de', 'guerre', 'au', 'à', 'le', 'Kosovo', ',', \"s'\", 'est', 'rendu', 'volontairement', 'hier', 'au', 'à', 'le', 'Tribunal', 'pénal', 'international', '(', 'TPI', ')', 'pour', \"l'\", 'ex-Yougoslavie', 'de', 'La', 'Haye', '.'], ['DET', 'ADJ', 'NOUN', 'ADP', 'PROPN', 'PROPN', 'PROPN', 'PUNCT', 'VERB', '_', 'ADP', 'DET', 'NOUN', 'ADP', 'DET', 'NOUN', 'ADP', 'NOUN', 'ADJ', 'PROPN', 'PROPN', 'ADP', 'NOUN', 'ADP', 'NOUN', '_', 'ADP', 'DET', 'PROPN', 'PUNCT', 'PRON', 'AUX', 'VERB', 'ADV', 'ADV', '_', 'ADP', 'DET', 'NOUN', 'ADJ', 'ADJ', 'PUNCT', 'PROPN', 'PUNCT', 'ADP', 'DET', 'PROPN', 'ADP', 'DET', 'PROPN', 'PUNCT']), (['Et', 'ce', ',', 'alors', 'que', 'la', 'France', 'est', 'déjà', 'fort', 'en', 'retard', 'par', 'rapport', 'à', 'nos', 'voisins', 'européens', 'et', 'même', 'par', 'rapport', 'à', 'de', 'nombreux', 'pays', 'dans', 'le', 'monde', '.'], ['CCONJ', 'PRON', 'PUNCT', 'ADV', 'SCONJ', 'DET', 'PROPN', 'AUX', 'ADV', 'ADV', 'ADP', 'NOUN', 'ADP', 'NOUN', 'ADP', 'DET', 'NOUN', 'ADJ', 'CCONJ', 'ADV', 'ADP', 'NOUN', 'ADP', 'DET', 'ADJ', 'NOUN', 'ADP', 'DET', 'NOUN', 'PUNCT']), (['Elles', \"n'\", 'ont', 'pas', 'produit', \"d'\", 'effet', ',', 'notamment', 'auprès', 'des', 'de', 'les', 'grandes', 'formations', 'susceptibles', \"d'\", 'avoir', 'des', 'députés', '.'], ['PRON', 'ADV', 'AUX', 'ADV', 'VERB', 'DET', 'NOUN', 'PUNCT', 'ADV', 'ADV', '_', 'ADP', 'DET', 'ADJ', 'NOUN', 'ADJ', 'ADP', 'VERB', 'DET', 'NOUN', 'PUNCT']), ([\"D'\", 'autant', 'que', 'le', 'relèvement', 'des', 'de', 'les', 'seuils', 'exclurait', 'de', 'nombreuses', 'petites', 'listes', '.'], ['ADP', 'ADV', 'SCONJ', 'DET', 'NOUN', '_', 'ADP', 'DET', 'NOUN', 'VERB', 'DET', 'ADJ', 'ADJ', 'NOUN', 'PUNCT']), (['Importantes', 'recherches', 'pour', 'retrouver', 'la', 'jeune', 'disparue'], ['ADJ', 'NOUN', 'ADP', 'VERB', 'DET', 'ADJ', 'NOUN']), (['Aussitôt', ',', 'les', 'gendarmes', 'effectuaient', 'une', 'enquête', 'de', 'voisinage', 'et', \"s'\", 'informaient', 'auprès', 'des', 'de', 'les', 'hôpitaux', 'ou', 'de', 'tout', 'autre', 'endroit', 'où', 'aurait', 'pu', 'trouver', 'refuge', 'la', 'jeune', 'fille', '.'], ['ADV', 'PUNCT', 'DET', 'NOUN', 'VERB', 'DET', 'NOUN', 'ADP', 'NOUN', 'CCONJ', 'PRON', 'VERB', 'ADV', '_', 'ADP', 'DET', 'NOUN', 'CCONJ', 'ADP', 'DET', 'ADJ', 'NOUN', 'PRON', 'AUX', 'VERB', 'VERB', 'NOUN', 'DET', 'ADJ', 'NOUN', 'PUNCT']), (['Pas', 'moins', \"d'\", 'une', 'douzaine', \"d'\", 'hommes', 'étaient', 'mobilisés', 'dont', \"l'\", 'équipe', 'cynophile', '.'], ['ADV', 'ADV', 'ADP', 'DET', 'NOUN', 'ADP', 'NOUN', 'AUX', 'VERB', 'PRON', 'DET', 'NOUN', 'ADJ', 'PUNCT']), (['En', 'témoignage', 'de', 'reconnaissance', ',', 'elle', 'avait', \"d'\", 'ailleurs', 'reçu', 'la', 'médaille', 'du', 'de', 'le', 'mérite', 'UNC', '.'], ['ADP', 'NOUN', 'ADP', 'NOUN', 'PUNCT', 'PRON', 'AUX', 'ADP', 'ADV', 'VERB', 'DET', 'NOUN', '_', 'ADP', 'DET', 'NOUN', 'PROPN', 'PUNCT']), (['à', 'son', 'époux', ',', 'à', 'ses', 'enfants', ',', 'ainsi', \"qu'\", 'à', 'toute', 'sa', 'famille', ',', 'nous', 'présentons', 'nos', 'sincères', 'condoléances', '.'], ['ADP', 'DET', 'NOUN', 'PUNCT', 'ADP', 'DET', 'NOUN', 'PUNCT', 'ADV', 'SCONJ', 'ADP', 'ADJ', 'DET', 'NOUN', 'PUNCT', 'PRON', 'VERB', 'DET', 'ADJ', 'NOUN', 'PUNCT']), (['Les', 'passionnés', 'de', 'jardinage', 'se', 'réunissaient', 'samedi', ',', 'rue', 'de', 'la', 'Justice', ',', 'lors', 'de', \"l'\", 'assemblée', 'générale', 'de', \"l'\", 'association', 'des', 'de', 'les', 'Jardiniers', 'de', 'France', 'de', 'Maxéville', ',', 'afin', 'de', 'revenir', 'sur', 'les', 'actions', 'menées', 'en', '2002', ',', 'et', \"l'\", 'occasion', 'également', 'pour', 'J.-P.', 'Bruneau', ',', 'son', 'président', ',', 'de', 'présenter', 'ses', 'voeux', 'à', 'la', 'dizaine', \"d'\", 'adhérents', 'présents', '.'], ['DET', 'NOUN', 'ADP', 'NOUN', 'PRON', 'VERB', 'NOUN', 'PUNCT', 'NOUN', 'ADP', 'DET', 'NOUN', 'PUNCT', 'ADV', 'ADP', 'DET', 'NOUN', 'ADJ', 'ADP', 'DET', 'NOUN', '_', 'ADP', 'DET', 'NOUN', 'ADP', 'PROPN', 'ADP', 'PROPN', 'PUNCT', 'ADV', 'ADP', 'VERB', 'ADP', 'DET', 'NOUN', 'VERB', 'ADP', 'NUM', 'PUNCT', 'CCONJ', 'DET', 'NOUN', 'ADV', 'ADP', 'PROPN', 'PROPN', 'PUNCT', 'DET', 'NOUN', 'PUNCT', 'ADP', 'VERB', 'DET', 'NOUN', 'ADP', 'DET', 'NOUN', 'ADP', 'NOUN', 'ADJ', 'PUNCT']), ([\"D'\", 'autres', 'manifestations', 'ont', 'très', 'bien', 'fonctionné', 'en', 'terme', \"d'\", 'affluence', ',', 'notamment', 'lors', 'de', 'la', 'fête', 'des', 'de', 'les', 'Fraises', 'organisée', 'le', '1er', 'dimanche', 'de', 'juin', ',', 'ou', 'encore', 'la', 'journée', 'des', 'de', 'les', 'associations', 'au', 'à', 'le', 'Zénith', ',', 'où', '2.000', 'visiteurs', 'étaient', 'présents', '.'], ['DET', 'ADJ', 'NOUN', 'AUX', 'ADV', 'ADV', 'VERB', 'ADP', 'NOUN', 'ADP', 'NOUN', 'PUNCT', 'ADV', 'ADV', 'ADP', 'DET', 'NOUN', '_', 'ADP', 'DET', 'NOUN', 'VERB', 'DET', 'ADJ', 'NOUN', 'ADP', 'NOUN', 'PUNCT', 'CCONJ', 'ADV', 'DET', 'NOUN', '_', 'ADP', 'DET', 'NOUN', '_', 'ADP', 'DET', 'PROPN', 'PUNCT', 'PRON', 'NUM', 'NOUN', 'AUX', 'ADJ', 'PUNCT']), (['La', 'visite', 'du', 'de', 'le', 'jardin', 'de', 'J.-P.', 'Bruneau', 'est', 'également', 'un', 'moment', 'attendu', ',', 'lors', 'des', 'de', 'les', 'portes', 'ouvertes', 'organisées', 'en', 'juin', 'dans', 'ses', '1.100', 'm2', 'de', 'verger', 'et', 'potager', ':', '\"', 'Cela', 'permet', \"d'\", 'échanger', ',', 'transmettre', 'un', 'savoir', 'et', 'partager', 'une', 'passion', '\"', '.'], ['DET', 'NOUN', '_', 'ADP', 'DET', 'NOUN', 'ADP', 'PROPN', 'PROPN', 'AUX', 'ADV', 'DET', 'NOUN', 'VERB', 'PUNCT', 'ADV', '_', 'ADP', 'DET', 'NOUN', 'ADJ', 'VERB', 'ADP', 'NOUN', 'ADP', 'DET', 'NUM', 'NOUN', 'ADP', 'NOUN', 'CCONJ', 'NOUN', 'PUNCT', 'PUNCT', 'PRON', 'VERB', 'ADP', 'VERB', 'PUNCT', 'VERB', 'DET', 'NOUN', 'CCONJ', 'VERB', 'DET', 'NOUN', 'PUNCT', 'PUNCT']), (['Le', 'voyage', \"d'\", 'Arturo', 'le', 'corbeau'], ['DET', 'NOUN', 'ADP', 'PROPN', 'DET', 'NOUN']), (['Le', 'comédien', 'a', 'fait', 'participer', 'les', 'enfants', 'au', 'à', 'le', 'spectacle', '.'], ['DET', 'NOUN', 'AUX', 'AUX', 'VERB', 'DET', 'NOUN', '_', 'ADP', 'DET', 'NOUN', 'PUNCT']), (['Les', 'projets', 'se', 'concrétisent', '.'], ['DET', 'NOUN', 'PRON', 'VERB', 'PUNCT']), (['La', 'commune', 'compte', '50', 'de', 'ces', 'avaloirs', 'et', 'ils', 'seront', 'nettoyés', 'deux', 'fois', 'par', 'an', '.'], ['DET', 'NOUN', 'VERB', 'NUM', 'ADP', 'DET', 'NOUN', 'CCONJ', 'PRON', 'AUX', 'VERB', 'NUM', 'NOUN', 'ADP', 'NOUN', 'PUNCT']), (['Il', 'sera', 'donc', 'limité', 'de', 'mars', 'à', 'octobre', 'à', 'raison', \"d'\", 'un', 'passage', 'par', 'mois', '.'], ['PRON', 'AUX', 'ADV', 'VERB', 'ADP', 'NOUN', 'ADP', 'NOUN', 'ADP', 'NOUN', 'ADP', 'DET', 'NOUN', 'ADP', 'NOUN', 'PUNCT']), (['Cantine', '.'], ['NOUN', 'PUNCT']), (['Jacques', 'Rousselot', 'qui', 'tenait', 'à', 'conserver', 'Correa', 'repassa', 'à', \"l'\", 'offensive', 'et', 'après', 'une', 'première', 'proposition', \"d'\", 'un', 'an', ',', 'il', 'se', 'rangea', 'au', 'à', 'le', 'souhait', 'du', 'de', 'le', 'joueur', 'qui', 'en', 'souhaitait', 'deux', ':', '\"', 'Notre', 'objectif', 'reste', 'le', 'maintien', '.'], ['PROPN', 'PROPN', 'PRON', 'VERB', 'ADP', 'VERB', 'PROPN', 'VERB', 'ADP', 'DET', 'NOUN', 'CCONJ', 'ADP', 'DET', 'ADJ', 'NOUN', 'ADP', 'DET', 'NOUN', 'PUNCT', 'PRON', 'PRON', 'VERB', '_', 'ADP', 'DET', 'NOUN', '_', 'ADP', 'DET', 'NOUN', 'PRON', 'PRON', 'VERB', 'NUM', 'PUNCT', 'PUNCT', 'DET', 'NOUN', 'VERB', 'DET', 'NOUN', 'PUNCT']), (['M.', 'Rousselot', 'a', 'insisté', 'pour', 'me', 'garder', 'et', 'je', \"l'\", 'en', 'remercie', '.'], ['NOUN', 'PROPN', 'AUX', 'VERB', 'ADP', 'PRON', 'VERB', 'CCONJ', 'PRON', 'PRON', 'PRON', 'VERB', 'PUNCT']), (['Bien', 'sûr', ',', 'je', 'ne', 'néglige', 'pas', \"l'\", 'aspect', 'financier', ',', 'mais', 'il', \"n'\", 'est', 'pas', 'le', 'seul', 'élément', 'que', \"j'\", 'ai', 'pris', 'en', 'compte', '\"', '.'], ['ADV', 'ADJ', 'PUNCT', 'PRON', 'ADV', 'VERB', 'ADV', 'DET', 'NOUN', 'ADJ', 'PUNCT', 'CCONJ', 'PRON', 'ADV', 'AUX', 'ADV', 'DET', 'ADJ', 'NOUN', 'PRON', 'PRON', 'AUX', 'VERB', 'ADP', 'NOUN', 'PUNCT', 'PUNCT']), (['Tout', 'à', 'sa', 'joie', ',', \"l'\", 'Uruguayen', \"s'\", 'en', 'tirait', 'par', 'une', 'pirouette', ':', '\"', 'Dans', 'deux', 'ans', ',', \"j'\", 'aurai', 'peut-être', 'encore', 'envie', 'de', 'jouer', '\"', '.'], ['ADV', 'ADP', 'DET', 'NOUN', 'PUNCT', 'DET', 'NOUN', 'PRON', 'PRON', 'VERB', 'ADP', 'DET', 'NOUN', 'PUNCT', 'PUNCT', 'ADP', 'NUM', 'NOUN', 'PUNCT', 'PRON', 'VERB', 'ADV', 'ADV', 'NOUN', 'ADP', 'VERB', 'PUNCT', 'PUNCT']), ([\"L'\", 'automobile', 'a', 'perdu', 'sa', 'roue', 'gauche', ',', 'et', 'a', 'décollé', 'pour', 'se', 'retourner', 'et', 'terminer', 'sa', 'course', 'sur', 'le', 'toit', '.'], ['DET', 'NOUN', 'AUX', 'VERB', 'DET', 'NOUN', 'ADJ', 'PUNCT', 'CCONJ', 'AUX', 'VERB', 'ADP', 'PRON', 'VERB', 'CCONJ', 'VERB', 'DET', 'NOUN', 'ADP', 'DET', 'NOUN', 'PUNCT']), ([\"L'\", 'état', 'de', 'ces', 'dernières', 'a', 'fait', 'dépêcher', 'sur', 'place', 'des', 'ambulances', 'des', 'de', 'les', 'pompiers', 'de', 'Montreux-Château', ',', \"d'\", 'Alkirch', 'et', 'de', 'Dannemarie', 'ainsi', 'que', 'les', 'Samu', 'du', 'de', 'le', 'Haut-Rhin', 'et', 'du', 'de', 'le', 'Territoire', 'de', 'Belfort', '.'], ['DET', 'NOUN', 'ADP', 'DET', 'ADJ', 'AUX', 'AUX', 'VERB', 'ADP', 'NOUN', 'DET', 'NOUN', '_', 'ADP', 'DET', 'NOUN', 'ADP', 'PROPN', 'PUNCT', 'ADP', 'PROPN', 'CCONJ', 'ADP', 'PROPN', 'ADV', 'SCONJ', 'DET', 'NOUN', '_', 'ADP', 'DET', 'PROPN', 'CCONJ', '_', 'ADP', 'DET', 'NOUN', 'ADP', 'PROPN', 'PUNCT']), (['Le', 'trio', \"n'\", 'a', 'pas', 'eu', 'recours', 'à', 'la', 'violence', 'physique', 'pour', 'contraindre', 'le', 'chauffeur', 'à', 'jouer', 'le', 'rôle', 'de', 'taxi', 'mais', 'a', 'cherché', 'à', 'impressionner', 'ce', 'dernier', '.'], ['DET', 'NOUN', 'ADV', 'AUX', 'ADV', 'VERB', 'NOUN', 'ADP', 'DET', 'NOUN', 'ADJ', 'ADP', 'VERB', 'DET', 'NOUN', 'ADP', 'VERB', 'DET', 'NOUN', 'ADP', 'NOUN', 'CCONJ', 'AUX', 'VERB', 'ADP', 'VERB', 'DET', 'ADJ', 'PUNCT']), (['De', 'retour', 'à', 'Bethoncourt', ',', 'les', 'trois', 'garnements', 'sont', 'repartis', 'comme', 'ils', 'étaient', 'venus', '.'], ['ADP', 'NOUN', 'ADP', 'PROPN', 'PUNCT', 'DET', 'NUM', 'NOUN', 'AUX', 'VERB', 'SCONJ', 'PRON', 'AUX', 'VERB', 'PUNCT']), (['Anita', 'Dachaud', 'est', 'quant', 'à', 'elle', 'arrivée', 'en', 'famille', ',', 'et', 'très', 'jeune', ',', 'de', 'sa', 'chère', 'Italie', '(', 'Cesano', ')', '.'], ['PROPN', 'PROPN', 'AUX', 'ADV', 'ADP', 'PRON', 'VERB', 'ADP', 'NOUN', 'PUNCT', 'CCONJ', 'ADV', 'ADJ', 'PUNCT', 'ADP', 'DET', 'ADJ', 'PROPN', 'PUNCT', 'PROPN', 'PUNCT', 'PUNCT']), (['Résumé', 'EPAR', 'à', \"l'\", 'intention', 'du', 'de', 'le', 'public'], ['NOUN', 'NOUN', 'ADP', 'DET', 'NOUN', '_', 'ADP', 'DET', 'NOUN']), ([\"Qu'\", 'est', '-ce', 'que', 'Angiox', '?'], ['PRON', 'AUX', 'PRON', 'SCONJ', 'PROPN', 'PUNCT']), (['Angiox', 'est', 'utilisé', 'pour', 'traiter', 'les', 'patients', 'adultes', 'souffrant', 'de', '\"', 'syndrome', 'coronaire', 'aigu', '\"', '(', 'SCA', ',', 'réduction', 'du', 'de', 'le', 'flux', 'sanguin', 'vers', 'le', 'coeur', ')', ',', 'comme', 'un', 'angor', 'instable', '(', 'douleurs', 'thoraciques', 'de', 'gravité', 'variable', ')', 'ou', 'un', 'infarctus', 'du', 'de', 'le', 'myocarde', '(', 'crise', 'cardiaque', ')', 'sans', '\"', 'sus-décalage', 'du', 'de', 'le', 'segment', 'ST', '\"', '(', 'relevé', 'anormal', 'à', \"l'\", 'électrocardiogramme', 'ou', 'ECG', ')', '.'], ['PROPN', 'AUX', 'VERB', 'ADP', 'VERB', 'DET', 'NOUN', 'ADJ', 'VERB', 'ADP', 'PUNCT', 'NOUN', 'ADJ', 'ADJ', 'PUNCT', 'PUNCT', 'NOUN', 'PUNCT', 'NOUN', '_', 'ADP', 'DET', 'NOUN', 'ADJ', 'ADP', 'DET', 'NOUN', 'PUNCT', 'PUNCT', 'ADP', 'DET', 'NOUN', 'ADJ', 'PUNCT', 'NOUN', 'ADJ', 'ADP', 'NOUN', 'ADJ', 'PUNCT', 'CCONJ', 'DET', 'NOUN', '_', 'ADP', 'DET', 'NOUN', 'PUNCT', 'NOUN', 'ADJ', 'PUNCT', 'ADP', 'PUNCT', 'NOUN', '_', 'ADP', 'DET', 'NOUN', 'NOUN', 'PUNCT', 'PUNCT', 'NOUN', 'ADJ', 'ADP', 'DET', 'NOUN', 'CCONJ', 'NOUN', 'PUNCT', 'PUNCT']), (['Il', 'est', 'utilisé', 'en', 'conjonction', 'avec', 'de', \"l'\", 'aspirine', 'et', 'du', 'clopidogel', '(', 'médicaments', 'contribuant', 'à', 'prévenir', 'les', 'caillots', 'sanguins', ')', 'chez', 'les', 'patients', 'sur', 'le', 'point', 'de', 'subir', 'un', 'traitement', 'pour', 'leur', 'SCA', ',', 'comme', 'un', 'traitement', 'médicamenteux', ',', 'subissant', 'une', 'angioplastie', 'ou', 'un', 'pontage', 'coronarien', '.'], ['PRON', 'AUX', 'VERB', 'ADP', 'NOUN', 'ADP', 'ADP', 'DET', 'NOUN', 'CCONJ', 'DET', 'NOUN', 'PUNCT', 'NOUN', 'VERB', 'ADP', 'VERB', 'DET', 'NOUN', 'ADJ', 'PUNCT', 'ADP', 'DET', 'NOUN', 'ADP', 'DET', 'NOUN', 'ADP', 'VERB', 'DET', 'NOUN', 'ADP', 'DET', 'NOUN', 'PUNCT', 'ADP', 'DET', 'NOUN', 'ADJ', 'PUNCT', 'VERB', 'DET', 'NOUN', 'CCONJ', 'DET', 'NOUN', 'ADJ', 'PUNCT']), (['Angiox', 'est', 'prévu', 'pour', 'un', 'usage', 'par', 'voie', 'intraveineuse', '(', 'dans', 'une', 'veine', ')', '.'], ['PROPN', 'AUX', 'VERB', 'ADP', 'DET', 'NOUN', 'ADP', 'NOUN', 'ADJ', 'PUNCT', 'ADP', 'DET', 'NOUN', 'PUNCT', 'PUNCT']), (['Elle', 'bloque', 'spécifiquement', \"l'\", 'une', 'des', 'de', 'les', 'substances', 'impliquées', 'dans', 'le', 'processus', 'de', 'coagulation', ',', 'la', 'thrombine', '.'], ['PRON', 'VERB', 'ADV', 'DET', 'PRON', '_', 'ADP', 'DET', 'NOUN', 'VERB', 'ADP', 'DET', 'NOUN', 'ADP', 'NOUN', 'PUNCT', 'DET', 'NOUN', 'PUNCT']), (['Ceci', 'peut', 'contribuer', 'à', 'maintenir', 'le', 'flux', 'sanguin', 'vers', 'le', 'coeur', 'chez', 'les', 'patients', 'atteints', \"d'\", 'angor', 'ou', \"d'\", 'une', 'crise', 'cardiaque', 'et', 'à', 'améliorer', \"l'\", 'efficacité', 'de', 'leur', 'ICP', '.'], ['PRON', 'VERB', 'VERB', 'ADP', 'VERB', 'DET', 'NOUN', 'ADJ', 'ADP', 'DET', 'NOUN', 'ADP', 'DET', 'NOUN', 'VERB', 'ADP', 'NOUN', 'CCONJ', 'ADP', 'DET', 'NOUN', 'ADJ', 'CCONJ', 'ADP', 'VERB', 'DET', 'NOUN', 'ADP', 'DET', 'NOUN', 'PUNCT']), (['Tous', 'les', 'patients', 'ont', 'également', 'reçu', 'de', \"l'\", 'aspirine', ',', 'avec', 'ou', 'sans', 'clopidogrel', '.'], ['ADJ', 'DET', 'NOUN', 'AUX', 'ADV', 'VERB', 'ADP', 'DET', 'NOUN', 'PUNCT', 'ADP', 'CCONJ', 'ADP', 'NOUN', 'PUNCT']), (['Pour', 'toutes', 'les', 'études', ',', 'les', 'quatre', 'critères', 'principaux', 'ont', 'été', 'les', 'suivants', ':', 'taux', 'de', 'décès', ',', 'crise', 'cardiaque', ',', 'revascularisation', 'urgente', '(', 'rétablissement', 'du', 'de', 'le', 'flux', 'sanguin', 'vers', 'le', 'coeur', ')', 'et', 'hémorragie', 'importante', '(', 'saignement', ')', '.'], ['ADP', 'ADJ', 'DET', 'NOUN', 'PUNCT', 'DET', 'NUM', 'NOUN', 'ADJ', 'AUX', 'AUX', 'DET', 'ADJ', 'PUNCT', 'NOUN', 'ADP', 'NOUN', 'PUNCT', 'NOUN', 'ADJ', 'PUNCT', 'NOUN', 'ADJ', 'PUNCT', 'NOUN', '_', 'ADP', 'DET', 'NOUN', 'ADJ', 'ADP', 'DET', 'NOUN', 'PUNCT', 'CCONJ', 'NOUN', 'ADJ', 'PUNCT', 'NOUN', 'PUNCT', 'PUNCT']), (['Pour', 'avoir', 'le', 'détail', 'de', 'tous', 'les', 'effets', 'indésirables', 'observés', 'lors', 'de', \"l'\", 'utilisation', 'de', 'Angiox', ',', 'voir', 'la', 'notice', '.'], ['ADP', 'VERB', 'DET', 'NOUN', 'ADP', 'ADJ', 'DET', 'NOUN', 'ADJ', 'VERB', 'ADV', 'ADP', 'DET', 'NOUN', 'ADP', 'PROPN', 'PUNCT', 'VERB', 'DET', 'NOUN', 'PUNCT']), (['Le', 'comité', 'des', 'de', 'les', 'médicaments', 'à', 'usage', 'humain', '(', 'CHMP', ')', 'a', 'estimé', 'que', 'Angiox', 'constitue', 'un', 'substitut', 'acceptable', 'pour', \"l'\", 'héparine', 'dans', 'le', 'cadre', 'du', 'de', 'le', 'traitement', 'du', 'de', 'le', 'SCA', 'et', 'pendant', \"l'\", 'ICP', '.'], ['DET', 'NOUN', '_', 'ADP', 'DET', 'NOUN', 'ADP', 'NOUN', 'ADJ', 'PUNCT', 'PROPN', 'PUNCT', 'AUX', 'VERB', 'SCONJ', 'PROPN', 'VERB', 'DET', 'NOUN', 'ADJ', 'ADP', 'DET', 'NOUN', 'ADP', 'DET', 'NOUN', '_', 'ADP', 'DET', 'NOUN', '_', 'ADP', 'DET', 'NOUN', 'CCONJ', 'ADP', 'DET', 'NOUN', 'PUNCT']), (['Dernière', 'mise', 'à', 'jour', 'du', 'de', 'le', 'présent', 'résumé', ':'], ['ADJ', 'NOUN', 'ADP', 'NOUN', '_', 'ADP', 'DET', 'ADJ', 'NOUN', 'PUNCT']), (['Voie', 'intraveineuse'], ['NOUN', 'ADJ']), (['Après', 'reconstitution', ',', '1', 'ml', 'contient', '50', 'mg', 'de', 'bivalirudine', '.'], ['ADP', 'NOUN', 'PUNCT', 'NUM', 'NOUN', 'VERB', 'NUM', 'NOUN', 'ADP', 'NOUN', 'PUNCT']), (['Après', 'dilution', ',', '1', 'ml', 'contient', '5', 'mg', 'de', 'bivalirudine', '.'], ['ADP', 'NOUN', 'PUNCT', 'NUM', 'NOUN', 'VERB', 'NUM', 'NOUN', 'ADP', 'NOUN', 'PUNCT']), (['Poudre', 'lyophilisée', 'blanche', 'à', 'blanc', 'cassé', '.'], ['NOUN', 'VERB', 'ADJ', 'ADP', 'ADJ', 'ADJ', 'PUNCT']), (['Les', 'patients', 'faisant', \"l'\", 'objet', \"d'\", 'un', 'traitement', 'conservateur', 'médical', 'peuvent', 'continuer', 'la', 'perfusion', 'de', '0,25', 'mg', '/', 'kg', '/', 'h', 'pendant', '72', 'heures', '.'], ['DET', 'NOUN', 'VERB', 'DET', 'NOUN', 'ADP', 'DET', 'NOUN', 'ADJ', 'ADJ', 'VERB', 'VERB', 'DET', 'NOUN', 'ADP', 'NUM', 'NOUN', 'ADP', 'NOUN', 'ADP', 'NOUN', 'ADP', 'NUM', 'NOUN', 'PUNCT']), (['Pour', 'les', 'patients', 'bénéficiant', \"d'\", 'un', 'pontage', 'aorto-coronaire', 'sans', 'CEC', ',', 'la', 'perfusion', 'de', 'bivalirudine', 'doit', 'être', 'maintenue', \"jusqu'\", 'à', \"l'\", 'intervention', '.'], ['ADP', 'DET', 'NOUN', 'VERB', 'ADP', 'DET', 'NOUN', 'ADJ', 'ADP', 'NOUN', 'PUNCT', 'DET', 'NOUN', 'ADP', 'NOUN', 'VERB', 'AUX', 'VERB', 'ADP', 'ADP', 'DET', 'NOUN', 'PUNCT']), (['ICP'], ['NOUN']), (['Une', 'adaptation', 'de', 'la', 'dose', \"n'\", 'est', 'pas', 'nécessaire', 'si', 'la', 'fonction', 'rénale', 'est', 'normale', '.'], ['DET', 'NOUN', 'ADP', 'DET', 'NOUN', 'ADV', 'AUX', 'ADV', 'ADJ', 'SCONJ', 'DET', 'NOUN', 'ADJ', 'AUX', 'ADJ', 'PUNCT']), (['La', 'prudence', \"s'\", 'impose', 'chez', 'les', 'sujets', 'âgés', 'en', 'raison', \"d'\", 'une', 'diminution', 'de', 'la', 'fonction', 'rénale', 'liée', 'à', \"l'\", 'âge', '.'], ['DET', 'NOUN', 'PRON', 'VERB', 'ADP', 'DET', 'NOUN', 'ADJ', 'ADP', 'NOUN', 'ADP', 'DET', 'NOUN', 'ADP', 'DET', 'NOUN', 'ADJ', 'VERB', 'ADP', 'DET', 'NOUN', 'PUNCT']), (['Si', \"l'\", 'ACT', 'est', 'inférieur', 'à', '225', 'secondes', ',', 'un', 'second', 'bolus', 'de', '0,3', 'mg', '/', 'kg', 'doit', 'être', 'administré', '.'], ['SCONJ', 'DET', 'NOUN', 'AUX', 'ADJ', 'ADP', 'NUM', 'NOUN', 'PUNCT', 'DET', 'ADJ', 'NOUN', 'ADP', 'NUM', 'NOUN', 'ADP', 'NOUN', 'VERB', 'AUX', 'VERB', 'PUNCT']), (['Insuffisance', 'rénale'], ['NOUN', 'ADJ']), ([\"L'\", 'ACT', 'doit', 'être', 'contrôlé', '5', 'minutes', 'après', 'le', 'bolus', '.'], ['DET', 'NOUN', 'VERB', 'AUX', 'VERB', 'NUM', 'NOUN', 'ADP', 'DET', 'NOUN', 'PUNCT']), (['à', 'la', 'fin', 'de', 'la', 'procédure', 'ICP', ',', 'chez', 'ces', 'même', 'patients', ',', 'les', 'valeurs', 'ACT', 'étaient', 'en', 'moyenne', 'de', '355', '+/-', '81', 'secondes', '.'], ['ADP', 'DET', 'NOUN', 'ADP', 'DET', 'NOUN', 'NOUN', 'PUNCT', 'ADP', 'DET', 'ADJ', 'NOUN', 'PUNCT', 'DET', 'NOUN', 'NOUN', 'AUX', 'ADP', 'NOUN', 'ADP', 'NUM', 'CCONJ', 'NUM', 'NOUN', 'PUNCT']), (['présentant', 'une', 'hypertension', 'sévère', 'non', 'contrôlée', 'et', '/', 'ou', 'une', 'endocardite', 'bactérienne', 'subaiguë', '.'], ['VERB', 'DET', 'NOUN', 'ADJ', 'ADV', 'VERB', 'CCONJ', 'SYM', 'CCONJ', 'DET', 'NOUN', 'ADJ', 'ADJ', 'PUNCT']), (['Angiox', \"n'\", 'est', 'pas', 'destiné', 'à', \"l'\", 'utilisation', 'intramusculaire', '.'], ['PROPN', 'ADV', 'AUX', 'ADV', 'VERB', 'ADP', 'DET', 'NOUN', 'ADJ', 'PUNCT']), (['Les', 'anticorps', 'positifs', 'à', 'la', 'bivalirudine', 'qui', 'apparaissent', 'en', 'cours', 'de', 'traitement', 'sont', 'rares', 'et', \"n'\", 'ont', 'pas', 'été', 'associés', 'à', 'des', 'signes', 'cliniques', 'de', 'réactions', 'allergiques', 'ou', 'anaphylactiques', '.'], ['DET', 'NOUN', 'ADJ', 'ADP', 'DET', 'NOUN', 'PRON', 'VERB', 'ADP', 'NOUN', 'ADP', 'NOUN', 'AUX', 'ADJ', 'CCONJ', 'ADV', 'AUX', 'ADV', 'AUX', 'VERB', 'ADP', 'DET', 'NOUN', 'ADJ', 'ADP', 'NOUN', 'ADJ', 'CCONJ', 'ADJ', 'PUNCT']), (['Interactions', 'avec', \"d'\", 'autres', 'médicaments', 'et', 'autres', 'formes', \"d'\", 'interaction'], ['NOUN', 'ADP', 'DET', 'ADJ', 'NOUN', 'CCONJ', 'ADJ', 'NOUN', 'ADP', 'NOUN']), (['Le', 'risque', 'potentiel', 'chez', \"l'\", 'être', 'humain', \"n'\", 'est', 'pas', 'connu', '.'], ['DET', 'NOUN', 'ADJ', 'ADP', 'DET', 'NOUN', 'ADJ', 'ADV', 'AUX', 'ADV', 'VERB', 'PUNCT']), (['Les', 'saignements', 'majeurs', 'ont', 'été', 'définis', 'selon', 'les', 'critères', 'ACUITY', 'et', 'TIMI', 'décrits', 'en', 'notes', 'en', 'bas', 'du', 'de', 'le', 'tableau', '2', '.'], ['DET', 'NOUN', 'ADJ', 'AUX', 'AUX', 'VERB', 'ADP', 'DET', 'NOUN', 'PROPN', 'CCONJ', 'PROPN', 'VERB', 'ADP', 'NOUN', 'ADP', 'NOUN', '_', 'ADP', 'DET', 'NOUN', 'NUM', 'PUNCT']), (['Rare', '(', '1/10000', 'à', '1/1000', ')'], ['ADJ', 'PUNCT', 'NOUN', 'ADP', 'NOUN', 'PUNCT']), (['Troubles', 'vasculaires'], ['NOUN', 'ADJ']), ([\"L'\", 'étude', 'clinique', 'REPLACE-2', '(', 'ICP', ')'], ['DET', 'NOUN', 'ADJ', 'PROPN', 'PUNCT', 'NOUN', 'PUNCT']), (['Un', 'saignement', 'mineur', 'a', 'été', 'défini', 'comme', 'étant', 'tout', 'événement', 'hémorragique', 'observé', 'qui', 'ne', 'répondait', 'pas', 'aux', 'à', 'les', 'critères', 'de', 'saignement', 'majeur', '.'], ['DET', 'NOUN', 'ADJ', 'AUX', 'AUX', 'VERB', 'ADP', 'AUX', 'DET', 'NOUN', 'ADJ', 'VERB', 'PRON', 'ADV', 'VERB', 'ADV', '_', 'ADP', 'DET', 'NOUN', 'ADP', 'NOUN', 'ADJ', 'PUNCT']), (['Des', 'saignements', 'mineurs', 'ont', 'été', 'rapportés', 'de', 'façon', 'très', 'fréquente', '(', '1/10', ')', 'et', 'les', 'saignements', 'majeurs', 'de', 'façon', 'fréquente', '(', '1/100', 'et', '<', '1/10', ')', '.'], ['DET', 'NOUN', 'ADJ', 'AUX', 'AUX', 'VERB', 'ADP', 'NOUN', 'ADV', 'ADJ', 'PUNCT', 'NOUN', 'PUNCT', 'CCONJ', 'DET', 'NOUN', 'ADJ', 'ADP', 'NOUN', 'ADJ', 'PUNCT', 'NOUN', 'CCONJ', 'ADP', 'NOUN', 'PUNCT', 'PUNCT']), (['Tant', 'les', 'saignements', 'mineurs', 'que', 'majeurs', 'ont', 'été', 'significativement', 'moins', 'fréquents', 'avec', 'la', 'bivalirudine', 'par', 'rapport', 'au', 'à', 'le', 'groupe', 'de', 'comparaison', 'héparine', 'plus', 'inhibiteur', 'de', 'la', 'GP', 'IIb/IIIa', '.'], ['ADV', 'DET', 'NOUN', 'ADJ', 'SCONJ', 'ADJ', 'AUX', 'AUX', 'ADV', 'ADV', 'ADJ', 'ADP', 'DET', 'NOUN', 'ADP', 'NOUN', '_', 'ADP', 'DET', 'NOUN', 'ADP', 'NOUN', 'NOUN', 'ADP', 'NOUN', 'ADP', 'DET', 'NOUN', 'PROPN', 'PUNCT']), (['Tableau', '5', ':'], ['NOUN', 'NUM', 'PUNCT']), (['Site', 'hémorragique'], ['NOUN', 'ADJ']), (['Intracrânien'], ['ADJ']), (['Classes', 'des', 'de', 'les', 'systèmes', \"d'\", 'organes'], ['NOUN', '_', 'ADP', 'DET', 'NOUN', 'ADP', 'NOUN']), (['cependant', ',', 'la', 'bivalirudine', 'est', 'hémodialysable', '.'], ['ADV', 'PUNCT', 'DET', 'NOUN', 'AUX', 'ADJ', 'PUNCT']), (['Angiox', 'contient', 'de', 'la', 'bivalirudine', ',', 'un', 'inhibiteur', 'direct', 'et', 'spécifique', 'de', 'la', 'thrombine', ',', 'qui', 'se', 'lie', 'à', 'la', 'fois', 'au', 'à', 'le', 'site', 'catalytique', 'et', 'à', \"l'\", 'exosite', 'de', 'liaison', 'des', 'de', 'les', 'anions', 'de', 'la', 'thrombine', 'en', 'phase', 'liquide', 'et', 'liée', 'aux', 'à', 'les', 'caillots', '.'], ['PROPN', 'VERB', 'ADP', 'DET', 'NOUN', 'PUNCT', 'DET', 'NOUN', 'ADJ', 'CCONJ', 'ADJ', 'ADP', 'DET', 'NOUN', 'PUNCT', 'PRON', 'PRON', 'VERB', 'ADP', 'DET', 'NOUN', '_', 'ADP', 'DET', 'NOUN', 'ADJ', 'CCONJ', 'ADP', 'DET', 'NOUN', 'ADP', 'NOUN', '_', 'ADP', 'DET', 'NOUN', 'ADP', 'DET', 'NOUN', 'ADP', 'NOUN', 'ADJ', 'CCONJ', 'VERB', '_', 'ADP', 'DET', 'NOUN', 'PUNCT']), (['Des', 'études', 'cliniques', 'ont', 'montré', 'que', 'la', 'bivalirudine', 'procure', 'une', 'anticoagulation', 'adéquate', 'pendant', 'les', 'procédures', \"d'\", 'ICP', '.'], ['DET', 'NOUN', 'ADJ', 'AUX', 'VERB', 'SCONJ', 'DET', 'NOUN', 'VERB', 'DET', 'NOUN', 'ADJ', 'ADP', 'DET', 'NOUN', 'ADP', 'NOUN', 'PUNCT']), (['En', 'tant', 'que', 'peptide', ',', 'la', 'bivalirudine', 'est', 'logiquement', 'catabolisée', 'en', 'ses', 'acides', 'aminés', 'constitutifs', ',', 'avec', 'recyclage', 'ultérieur', 'des', 'de', 'les', 'acides', 'aminés', 'dans', 'le', 'pool', 'de', \"l'\", 'organisme', '.'], ['ADP', 'ADV', 'SCONJ', 'NOUN', 'PUNCT', 'DET', 'NOUN', 'AUX', 'ADV', 'VERB', 'ADP', 'DET', 'NOUN', 'ADJ', 'ADJ', 'PUNCT', 'ADP', 'NOUN', 'ADJ', '_', 'ADP', 'DET', 'NOUN', 'ADJ', 'ADP', 'DET', 'NOUN', 'ADP', 'DET', 'NOUN', 'PUNCT']), (['La', 'bivalirudine', 'est', 'métabolisée', 'par', 'des', 'protéases', ',', 'notamment', 'la', 'thrombine', '.'], ['DET', 'NOUN', 'AUX', 'VERB', 'ADP', 'DET', 'NOUN', 'PUNCT', 'ADV', 'DET', 'NOUN', 'PUNCT']), (['Chez', 'les', 'patients', 'atteints', \"d'\", 'insuffisance', 'rénale', ',', 'les', 'paramètres', 'de', 'la', 'coagulation', 'tels', 'que', \"l'\", 'ACT', 'peuvent', 'être', 'monitorés', 'pendant', 'un', 'traitement', 'par', 'Angiox', '.'], ['ADP', 'DET', 'NOUN', 'VERB', 'ADP', 'NOUN', 'ADJ', 'PUNCT', 'DET', 'NOUN', 'ADP', 'DET', 'NOUN', 'ADJ', 'SCONJ', 'DET', 'NOUN', 'VERB', 'AUX', 'VERB', 'ADP', 'DET', 'NOUN', 'ADP', 'PROPN', 'PUNCT']), (['Poids', ':'], ['NOUN', 'PUNCT']), (['Durée', 'de', 'conservation'], ['NOUN', 'ADP', 'NOUN']), (['La', 'stabilité', 'physicochimique', 'du', 'de', 'le', 'produit', 'reconstitué', 'a', 'été', 'démontrée', 'pendant', '24', 'heures', 'entre', '2', '°C', '-', '8', '°C', '.'], ['DET', 'NOUN', 'ADJ', '_', 'ADP', 'DET', 'NOUN', 'VERB', 'AUX', 'AUX', 'VERB', 'ADP', 'NUM', 'NOUN', 'ADP', 'NUM', 'NOUN', 'SYM', 'NUM', 'NOUN', 'PUNCT']), (['à', 'conserver', 'au', 'à', 'le', 'réfrigérateur', '(', 'entre', '2', '°C', 'et', '8', '°C', ')', '.'], ['ADP', 'VERB', '_', 'ADP', 'DET', 'NOUN', 'PUNCT', 'ADP', 'NUM', 'NOUN', 'CCONJ', 'NUM', 'NOUN', 'PUNCT', 'PUNCT']), (['Précautions', 'particulières', \"d'\", 'élimination', 'et', 'manipulation'], ['NOUN', 'ADJ', 'ADP', 'NOUN', 'CCONJ', 'NOUN']), (['Les', 'solutions', 'contenant', 'des', 'particules', 'ne', 'doivent', 'pas', 'être', 'utilisées', '.'], ['DET', 'NOUN', 'VERB', 'DET', 'NOUN', 'ADV', 'VERB', 'ADV', 'AUX', 'VERB', 'PUNCT']), (['NUMERO(S)', \"D'\", 'AUTORISATION', 'DE', 'MISE', 'SUR', 'LE', 'MARCHE'], ['NOUN', 'ADP', 'NOUN', 'ADP', 'NOUN', 'ADP', 'DET', 'NOUN']), (['DATE', 'DE', 'PREMIERE', 'AUTORISATION', '/', 'DE', 'RENOUVELLEMENT', 'DE', \"L'\", 'AUTORISATION'], ['NOUN', 'ADP', 'ADJ', 'NOUN', 'CCONJ', 'ADP', 'NOUN', 'ADP', 'DET', 'NOUN']), (['AUTRES', 'CONDITIONS'], ['ADJ', 'NOUN']), (['MODE', 'ET', 'VOIE(S)', \"D'\", 'ADMINISTRATION'], ['NOUN', 'CCONJ', 'NOUN', 'ADP', 'NOUN']), (['Tenir', 'hors', 'de', 'la', 'portée', 'et', 'de', 'la', 'vue', 'des', 'de', 'les', 'enfants', '.'], ['VERB', 'ADP', 'ADP', 'DET', 'NOUN', 'CCONJ', 'ADP', 'DET', 'NOUN', '_', 'ADP', 'DET', 'NOUN', 'PUNCT']), (['DATE', 'DE', 'PEREMPTION'], ['NOUN', 'ADP', 'NOUN']), (['PRECAUTIONS', 'PARTICULIERES', 'DE', 'CONSERVATION'], ['NOUN', 'ADJ', 'ADP', 'NOUN']), (['PRECAUTIONS', 'PARTICULIERES', \"D'\", 'ELIMINATION', 'DES', 'DE', 'les', 'MEDICAMENTS', 'NON', 'UTILISES', 'OU', 'DES', 'DE', 'les', 'DECHETS', 'PROVENANT', 'DE', 'CES', 'MEDICAMENTS', \"S'\", 'IL', 'Y', 'A', 'LIEU'], ['NOUN', 'ADJ', 'ADP', 'NOUN', '_', 'ADP', 'DET', 'NOUN', 'ADV', 'VERB', 'CCONJ', '_', 'ADP', 'DET', 'NOUN', 'VERB', 'ADP', 'DET', 'NOUN', 'SCONJ', 'PRON', 'PRON', 'VERB', 'NOUN']), (['INDICATIONS', \"D'\", 'UTILISATION'], ['NOUN', 'ADP', 'NOUN']), (['10', 'flacons', '.'], ['NUM', 'NOUN', 'PUNCT']), (['La', 'justification', 'pour', 'ne', 'pas', 'inclure', 'du', 'braille', 'a', 'été', 'acceptée', '.'], ['DET', 'NOUN', 'ADP', 'ADV', 'ADV', 'VERB', 'DET', 'NOUN', 'AUX', 'AUX', 'VERB', 'PUNCT']), (['-', 'Si', 'vous', 'avez', \"d'\", 'autres', 'questions', ',', 'si', 'vous', 'avez', 'un', 'doute', ',', 'demandez', 'plus', \"d'\", 'informations', 'à', 'votre', 'pharmacien'], ['PUNCT', 'SCONJ', 'PRON', 'VERB', 'DET', 'ADJ', 'NOUN', 'PUNCT', 'SCONJ', 'PRON', 'VERB', 'DET', 'NOUN', 'PUNCT', 'VERB', 'ADV', 'ADP', 'NOUN', 'ADP', 'DET', 'NOUN']), (['QUELLES', 'SONT', 'LES', 'INFORMATIONS', 'À', 'CONNAITRE', 'AVANT', \"D'\", 'UTILISER', 'ANGIOX'], ['ADJ', 'AUX', 'DET', 'NOUN', 'ADP', 'VERB', 'ADP', 'ADP', 'VERB', 'PROPN']), (['-', 'si', 'vous', 'avez', 'ou', 'avez', 'eu', 'une', 'infection', 'du', 'de', 'le', 'tissu', 'cardiaque', '.'], ['PUNCT', 'SCONJ', 'PRON', 'VERB', 'CCONJ', 'AUX', 'VERB', 'DET', 'NOUN', '_', 'ADP', 'DET', 'NOUN', 'ADJ', 'PUNCT']), (['-', 'si', 'vous', 'avez', 'été', 'traité', 'par', 'des', 'produits', 'similaires', 'à', 'Angiox', '(', 'par', 'exemple', 'lépirudine', ')'], ['PUNCT', 'SCONJ', 'PRON', 'AUX', 'AUX', 'VERB', 'ADP', 'DET', 'NOUN', 'ADJ', 'ADP', 'PROPN', 'PUNCT', 'ADP', 'NOUN', 'NOUN', 'PUNCT']), (['Vous', 'devez', 'prévenir', 'votre', 'médecin', ':'], ['PRON', 'VERB', 'VERB', 'DET', 'NOUN', 'PUNCT']), (['La', 'dose', \"d'\", 'Angiox', 'sera', 'réduite', 'si', 'vous', 'avez', 'des', 'problèmes', 'rénaux', 'modérés', '.'], ['DET', 'NOUN', 'ADP', 'PROPN', 'AUX', 'VERB', 'SCONJ', 'PRON', 'VERB', 'DET', 'NOUN', 'ADJ', 'ADJ', 'PUNCT']), (['Le', 'médecin', 'administrant', 'et', 'surveillant', 'le', 'traitement', ',', 'une', 'omission', 'est', 'très', 'peu', 'probable', '.'], ['DET', 'NOUN', 'VERB', 'CCONJ', 'VERB', 'DET', 'NOUN', 'PUNCT', 'DET', 'NOUN', 'AUX', 'ADV', 'ADV', 'ADJ', 'PUNCT']), (['Pour', 'toutes', 'questions', 'supplémentaires', 'quant', 'à', \"l'\", 'utilisation', 'de', 'ce', 'produit', ',', 'contacter', 'votre', 'médecin', '.'], ['ADP', 'DET', 'NOUN', 'ADJ', 'ADV', 'ADP', 'DET', 'NOUN', 'ADP', 'DET', 'NOUN', 'PUNCT', 'VERB', 'DET', 'NOUN', 'PUNCT']), (['Comme', 'tous', 'les', 'médicaments', ',', 'Angiox', 'est', 'susceptible', \"d'\", 'avoir', 'des', 'effets', 'indésirables', '.'], ['ADP', 'ADJ', 'DET', 'NOUN', 'PUNCT', 'PROPN', 'AUX', 'ADJ', 'ADP', 'VERB', 'DET', 'NOUN', 'ADJ', 'PUNCT']), ([\"L'\", 'effet', 'indésirable', 'le', 'plus', 'fréquemment', 'observé', 'avec', 'un', 'traitement', 'par', 'Angiox', 'est', 'un', 'saignement', '.'], ['DET', 'NOUN', 'ADJ', 'DET', 'ADV', 'ADV', 'VERB', 'ADP', 'DET', 'NOUN', 'ADP', 'PROPN', 'AUX', 'DET', 'NOUN', 'PUNCT']), (['Après', 'votre', 'sortie', 'de', \"l'\", 'hôpital', ':', 'dirigez', 'vous', 'immédiatement', 'au', 'à', 'le', 'service', 'des', 'de', 'les', 'urgences', 'de', \"l'\", 'hôpital', 'le', 'plus', 'proche'], ['ADP', 'DET', 'NOUN', 'ADP', 'DET', 'NOUN', 'PUNCT', 'VERB', 'PRON', 'ADV', '_', 'ADP', 'DET', 'NOUN', '_', 'ADP', 'DET', 'NOUN', 'ADP', 'DET', 'NOUN', 'DET', 'ADV', 'ADJ']), (['-', 'Essoufflements'], ['PUNCT', 'NOUN']), (['La', 'solution', 'doit', 'être', 'claire', 'à', 'légèrement', 'opalescente', ',', 'incolore', 'à', 'légèrement'], ['DET', 'NOUN', 'VERB', 'AUX', 'ADJ', 'ADP', 'ADV', 'ADJ', 'PUNCT', 'ADJ', 'ADP', 'ADV']), (['Aclasta', 'est', 'utilisé', 'pour', 'le', 'traitement', 'des', 'de', 'les', 'maladies', 'suivantes', ':', \"l'\", 'ostéoporose', '(', 'maladie', 'qui', 'fragilise', 'les', 'os', ')', 'tant', 'chez', 'les', 'femmes', 'ménopausées', 'que', 'chez', 'les', 'hommes', '.'], ['PROPN', 'AUX', 'VERB', 'ADP', 'DET', 'NOUN', '_', 'ADP', 'DET', 'NOUN', 'ADJ', 'PUNCT', 'DET', 'NOUN', 'PUNCT', 'NOUN', 'PRON', 'VERB', 'DET', 'NOUN', 'PUNCT', 'ADV', 'ADP', 'DET', 'NOUN', 'ADJ', 'SCONJ', 'ADP', 'DET', 'NOUN', 'PUNCT']), (['Comment', 'Aclasta', 'agit', '-il', '?'], ['ADV', 'PROPN', 'VERB', 'PRON', 'PUNCT']), (['Les', 'os', 'deviennent', 'progressivement', 'plus', 'minces', 'et', 'plus', 'fragiles', 'et', 'se', 'cassent', 'plus', 'facilement', '(', 'fracture', ')', '.'], ['DET', 'NOUN', 'VERB', 'ADV', 'ADV', 'ADJ', 'CCONJ', 'ADV', 'ADJ', 'CCONJ', 'PRON', 'VERB', 'ADV', 'ADV', 'PUNCT', 'NOUN', 'PUNCT', 'PUNCT']), (['Le', 'principal', 'critère', \"d'\", 'évaluation', 'de', \"l'\", 'efficacité', 'a', 'été', 'de', 'mesurer', 'si', 'le', 'taux', 'dans', 'le', 'sang', 'de', 'phosphatases', 'alcalines', 'sériques', '(', 'enzyme', 'impliquée', 'dans', 'la', 'dégradation', 'des', 'de', 'les', 'os', ')', 'est', 'revenu', 'à', 'la', 'normale', 'ou', 'est', 'redescendu', \"d'\", 'au', 'à', 'le', 'moins', '75', '%', 'pour', 'se', 'rapprocher', 'des', 'de', 'les', 'taux', 'normaux', '.'], ['DET', 'ADJ', 'NOUN', 'ADP', 'NOUN', 'ADP', 'DET', 'NOUN', 'AUX', 'AUX', 'ADP', 'VERB', 'SCONJ', 'DET', 'NOUN', 'ADP', 'DET', 'NOUN', 'ADP', 'NOUN', 'ADJ', 'ADJ', 'PUNCT', 'NOUN', 'VERB', 'ADP', 'DET', 'NOUN', '_', 'ADP', 'DET', 'NOUN', 'PUNCT', 'AUX', 'VERB', 'ADP', 'DET', 'NOUN', 'CCONJ', 'AUX', 'VERB', 'ADP', '_', 'ADP', 'DET', 'ADV', 'NUM', 'NOUN', 'ADP', 'PRON', 'VERB', '_', 'ADP', 'DET', 'NOUN', 'ADJ', 'PUNCT']), (['Chez', 'les', 'patients', 'souffrant', \"d'\", 'ostéoporose', ',', 'Aclasta', 'a', 'permis', 'de', 'réduire', 'plus', 'efficacement', 'le', 'nombre', 'de', 'fractures', 'par', 'rapport', 'au', 'à', 'le', 'placebo', '.'], ['ADP', 'DET', 'NOUN', 'VERB', 'ADP', 'NOUN', 'PUNCT', 'PROPN', 'AUX', 'VERB', 'ADP', 'VERB', 'ADV', 'ADV', 'DET', 'NOUN', 'ADP', 'NOUN', 'ADP', 'NOUN', '_', 'ADP', 'DET', 'NOUN', 'PUNCT']), (['Après', 'six', 'mois', ',', 'le', 'pourcentage', 'des', 'de', 'les', 'patients', 'ayant', 'répondu', 'au', 'à', 'le', 'traitement', 'a', 'été', 'de', '95', '%', 'dans', 'une', 'étude', 'et', 'de', '97', '%', 'dans', \"l'\", 'autre', ',', 'contre', '75', '%', 'et', '73', '%', 'des', 'de', 'les', 'patients', 'sous', 'risédronate', '.'], ['ADP', 'NUM', 'NOUN', 'PUNCT', 'DET', 'NOUN', '_', 'ADP', 'DET', 'NOUN', 'AUX', 'VERB', '_', 'ADP', 'DET', 'NOUN', 'AUX', 'AUX', 'ADP', 'NUM', 'NOUN', 'ADP', 'DET', 'NOUN', 'CCONJ', 'ADP', 'NUM', 'NOUN', 'ADP', 'DET', 'PRON', 'PUNCT', 'ADP', 'NUM', 'NOUN', 'CCONJ', 'NUM', 'NOUN', '_', 'ADP', 'DET', 'NOUN', 'ADP', 'NOUN', 'PUNCT']), (['La', 'plupart', 'des', 'de', 'les', 'effets', 'indésirables', 'associés', 'à', 'Aclasta', 'ont', 'tendance', 'à', 'se', 'produire', 'dans', 'les', 'trois', 'jours', 'suivant', 'la', 'perfusion', 'et', 'ils', 'deviennent', 'moins', 'fréquents', 'lors', 'des', 'de', 'les', 'perfusions', 'réitérées', '.'], ['DET', 'NOUN', '_', 'ADP', 'DET', 'NOUN', 'ADJ', 'VERB', 'ADP', 'PROPN', 'VERB', 'NOUN', 'ADP', 'PRON', 'VERB', 'ADP', 'DET', 'NUM', 'NOUN', 'VERB', 'DET', 'NOUN', 'CCONJ', 'PRON', 'VERB', 'ADV', 'ADJ', 'ADV', '_', 'ADP', 'DET', 'NOUN', 'VERB', 'PUNCT']), (['Pourquoi', 'Aclasta', 'a', '-t-il', 'été', 'approuvé', '?'], ['ADV', 'PROPN', 'AUX', 'PRON', 'AUX', 'VERB', 'PUNCT']), ([\"L'\", 'information'], ['DET', 'NOUN']), (['Le', 'dossier', \"d'\", 'information'], ['DET', 'NOUN', 'ADP', 'NOUN']), (['Chez', 'les', 'patients', 'ayant', 'eu', 'une', 'fracture', 'de', 'hanche', 'récente', 'secondaire', 'à', 'un', 'traumatisme', 'modéré', ',', 'il', 'est', 'recommandé', 'de', 'réaliser', \"l'\", 'administration', \"d'\", 'Aclasta', '2', 'semaines', 'ou', 'plus', 'après', \"l'\", 'intervention', 'sur', 'la', 'fracture', '(', 'voir', 'rubrique', '5.1', ')', '.'], ['ADP', 'DET', 'NOUN', 'AUX', 'VERB', 'DET', 'NOUN', 'ADP', 'NOUN', 'ADJ', 'ADJ', 'ADP', 'DET', 'NOUN', 'ADJ', 'PUNCT', 'PRON', 'AUX', 'VERB', 'ADP', 'VERB', 'DET', 'NOUN', 'ADP', 'PROPN', 'NUM', 'NOUN', 'CCONJ', 'ADV', 'ADP', 'DET', 'NOUN', 'ADP', 'DET', 'NOUN', 'PUNCT', 'VERB', 'NOUN', 'NUM', 'PUNCT', 'PUNCT']), (['Les', 'autres', 'troubles', 'du', 'de', 'le', 'métabolisme', 'des', 'de', 'les', 'minéraux', 'doivent', 'également', 'être', 'traités', 'de', 'manière', 'efficace', '(', 'par', 'ex.', 'hypoparathyroïdie', ',', 'malabsorption', 'intestinale', 'du', 'de', 'le', 'calcium', ')', '.'], ['DET', 'ADJ', 'NOUN', '_', 'ADP', 'DET', 'NOUN', '_', 'ADP', 'DET', 'NOUN', 'VERB', 'ADV', 'AUX', 'VERB', 'ADP', 'NOUN', 'ADJ', 'PUNCT', 'ADP', 'NOUN', 'NOUN', 'PUNCT', 'NOUN', 'ADJ', '_', 'ADP', 'DET', 'NOUN', 'PUNCT', 'PUNCT']), ([\"L'\", 'appréciation', 'clinique', 'du', 'de', 'le', 'médecin', 'traitant', 'devrait', 'orienter', 'la', 'prise', 'en', 'charge', 'de', 'chaque', 'patient', 'en', 'se', 'basant', 'sur', \"l'\", 'évaluation', 'individuelle', 'du', 'de', 'le', 'rapport', 'bénéfice', '/', 'risque', '.'], ['DET', 'NOUN', 'ADJ', '_', 'ADP', 'DET', 'NOUN', 'ADJ', 'VERB', 'VERB', 'DET', 'NOUN', 'ADP', 'NOUN', 'ADP', 'DET', 'NOUN', 'ADP', 'PRON', 'VERB', 'ADP', 'DET', 'NOUN', 'ADJ', '_', 'ADP', 'DET', 'NOUN', 'NOUN', 'SYM', 'NOUN', 'PUNCT']), (['Grossesse', 'et', 'allaitement'], ['NOUN', 'CCONJ', 'NOUN']), (['Le', 'taux', 'de', 'fibrillations', 'auriculaires', 'classé', 'comme', 'évènements', 'indésirables', 'graves', 'était', 'de', '1,3', '%', '(', '51', 'sur', '3 862', ')', 'chez', 'les', 'patientes', 'traitées', 'par', 'Aclasta', 'comparé', 'à', '0,6', '%', '(', '22', 'sur', '3 852', ')', 'chez', 'les', 'patientes', 'recevant', 'le', 'placebo', '.'], ['DET', 'NOUN', 'ADP', 'NOUN', 'ADJ', 'VERB', 'ADP', 'NOUN', 'ADJ', 'ADJ', 'AUX', 'ADP', 'NUM', 'NOUN', 'PUNCT', 'NUM', 'ADP', 'NUM', 'PUNCT', 'ADP', 'DET', 'NOUN', 'VERB', 'ADP', 'PROPN', 'VERB', 'ADP', 'NUM', 'NOUN', 'PUNCT', 'NUM', 'ADP', 'NUM', 'PUNCT', 'ADP', 'DET', 'NOUN', 'VERB', 'DET', 'NOUN', 'PUNCT']), (['Peu', 'fréquent', ':', 'dysgueusie', ',', 'oesophagite', ',', 'douleurs', 'dentaires', '.'], ['ADV', 'ADJ', 'PUNCT', 'NOUN', 'PUNCT', 'NOUN', 'PUNCT', 'NOUN', 'ADJ', 'PUNCT']), (['Il', \"n'\", 'est', 'pas', 'possible', \"d'\", 'estimer', 'leur', 'fréquence', 'ou', \"d'\", 'établir', 'une', 'relation', 'avec', \"l'\", 'exposition', 'au', 'à', 'le', 'médicament', '.'], ['PRON', 'ADV', 'AUX', 'ADV', 'ADJ', 'ADP', 'VERB', 'DET', 'NOUN', 'CCONJ', 'ADP', 'VERB', 'DET', 'NOUN', 'ADP', 'DET', 'NOUN', '_', 'ADP', 'DET', 'NOUN', 'PUNCT']), (['Une', 'insuffisance', 'rénale', 'a', 'été', 'observée', 'après', \"l'\", 'administration', \"d'\", 'acide', 'zolédronique', ',', 'en', 'particulier', 'chez', 'les', 'patients', 'présentant', 'une', 'altération', 'rénale', 'préexistante', 'ou', 'des', 'facteurs', 'de', 'risque', 'supplémentaires', '(', 'par', 'exemple', ',', 'chimiothérapie', 'anticancéreuse', ',', 'médicaments', 'néphrotoxiques', 'concomitants', ',', 'déshydratation', 'sévère', ',', 'etc.', ')', '.'], ['DET', 'NOUN', 'ADJ', 'AUX', 'AUX', 'VERB', 'ADP', 'DET', 'NOUN', 'ADP', 'NOUN', 'ADJ', 'PUNCT', 'ADP', 'ADJ', 'ADP', 'DET', 'NOUN', 'VERB', 'DET', 'NOUN', 'ADJ', 'ADJ', 'CCONJ', 'DET', 'NOUN', 'ADP', 'NOUN', 'ADJ', 'PUNCT', 'ADP', 'NOUN', 'PUNCT', 'NOUN', 'ADJ', 'PUNCT', 'NOUN', 'ADJ', 'ADJ', 'PUNCT', 'NOUN', 'ADJ', 'PUNCT', 'ADV', 'PUNCT', 'PUNCT']), (['Aucun', 'cas', \"d'\", 'hypocalcémie', 'symptomatique', \"n'\", 'a', 'été', 'observé', '.'], ['DET', 'NOUN', 'ADP', 'NOUN', 'ADJ', 'ADV', 'AUX', 'AUX', 'VERB', 'PUNCT']), (['Dans', 'les', 'deux', 'cas', ',', \"l'\", 'évolution', 'a', 'été', 'favorable', '.'], ['ADP', 'DET', 'NUM', 'NOUN', 'PUNCT', 'DET', 'NOUN', 'AUX', 'AUX', 'ADJ', 'PUNCT']), (['Les', 'patients', 'ayant', 'reçu', 'une', 'dose', 'supérieure', 'à', 'la', 'dose', 'recommandée', 'doivent', 'être', 'surveillés', 'attentivement', '.'], ['DET', 'NOUN', 'AUX', 'VERB', 'DET', 'NOUN', 'ADJ', 'ADP', 'DET', 'NOUN', 'VERB', 'VERB', 'AUX', 'VERB', 'ADV', 'PUNCT']), (['Effets', 'pharmacodynamiques'], ['NOUN', 'ADJ']), (['Le', 'traitement', 'par', 'Aclasta', 'réduit', 'rapidement', 'la', 'vitesse', 'de', 'renouvellement', 'osseux', ',', 'à', 'partir', 'de', 'taux', 'post-ménopausiques', 'élevés', '.'], ['DET', 'NOUN', 'ADP', 'PROPN', 'VERB', 'ADV', 'DET', 'NOUN', 'ADP', 'NOUN', 'ADJ', 'PUNCT', 'ADP', 'VERB', 'ADP', 'NOUN', 'ADJ', 'ADJ', 'PUNCT']), ([\"L'\", 'efficacité', 'et', 'la', 'sécurité', \"d'\", 'emploi', \"d'\", 'Aclasta', '5', 'mg', 'une', 'fois', 'par', 'an', 'pendant', '3', 'années', 'consécutives', 'ont', 'été', 'démontrées', 'chez', 'des', 'femmes', 'ménopausées', '(', '7 736', 'femmes', 'âgées', 'de', '65', 'à', '89', 'ans', ')', 'ayant', ':', 'soit', 'une', 'densité', 'minérale', 'osseuse', '(', 'DMO', ')', 'équivalente', 'à', 'un', 'T-score', 'du', 'de', 'le', 'col', 'du', 'de', 'le', 'fémur', '-1,5', 'et', 'au', 'à', 'le', 'moins', 'deux', 'fractures', 'vertébrales', 'légères', 'ou', 'une', 'modérée', 'prévalentes', ';', 'soit', 'un', 'T-score', 'du', 'de', 'le', 'col', 'du', 'de', 'le', 'fémur', '-', '2,5', ',', 'avec', 'ou', 'sans', 'fracture', 'vertébrale', 'prévalente', '.'], ['DET', 'NOUN', 'CCONJ', 'DET', 'NOUN', 'ADP', 'NOUN', 'ADP', 'PROPN', 'NUM', 'NOUN', 'DET', 'NOUN', 'ADP', 'NOUN', 'ADP', 'NUM', 'NOUN', 'ADJ', 'AUX', 'AUX', 'VERB', 'ADP', 'DET', 'NOUN', 'ADJ', 'PUNCT', 'DET', 'NOUN', 'ADJ', 'ADP', 'NUM', 'ADP', 'NUM', 'NOUN', 'PUNCT', 'VERB', 'PUNCT', 'CCONJ', 'DET', 'NOUN', 'ADJ', 'ADJ', 'PUNCT', 'NOUN', 'PUNCT', 'ADJ', 'ADP', 'DET', 'NOUN', '_', 'ADP', 'DET', 'NOUN', '_', 'ADP', 'DET', 'NOUN', 'NOUN', 'CCONJ', '_', 'ADP', 'DET', 'ADV', 'NUM', 'NOUN', 'ADJ', 'ADJ', 'CCONJ', 'PRON', 'ADJ', 'ADJ', 'PUNCT', 'CCONJ', 'DET', 'NOUN', '_', 'ADP', 'DET', 'NOUN', '_', 'ADP', 'DET', 'NOUN', 'ADV', 'NUM', 'PUNCT', 'ADP', 'CCONJ', 'ADP', 'NOUN', 'ADJ', 'ADJ', 'PUNCT']), (['85', '%', 'des', 'de', 'les', 'patients', \"n'\", 'avaient', 'jamais', 'reçu', 'de', 'bisphosphonates', '.'], ['NUM', 'NOUN', '_', 'ADP', 'DET', 'NOUN', 'ADV', 'AUX', 'ADV', 'VERB', 'DET', 'NOUN', 'PUNCT']), (['Au', 'À', 'le', 'moins', 'une', 'nouvelle', 'fracture', 'vertébrale', '(', '0-3', 'ans', ')'], ['_', 'ADP', 'DET', 'ADV', 'DET', 'ADJ', 'NOUN', 'ADJ', 'PUNCT', 'NUM', 'NOUN', 'PUNCT']), (['Effets', 'sur', 'toutes', 'les', 'fractures', 'cliniques'], ['NOUN', 'ADP', 'ADJ', 'DET', 'NOUN', 'ADJ']), (['Tableau', '3'], ['NOUN', 'NUM']), (['(', '2', ')', 'Y', 'compris', 'fractures', 'cliniques', 'dorsales', 'et', 'fractures', 'cliniques', 'vertébrales', 'lombaires'], ['PUNCT', 'NUM', 'PUNCT', 'PRON', 'ADJ', 'NOUN', 'ADJ', 'ADJ', 'CCONJ', 'NOUN', 'ADJ', 'ADJ', 'ADJ']), (['à', '12', 'mois', ',', 'le', 'P1NP', 'a', 'été', 'réduit', 'significativement', 'de', '61', '%', 'par', 'rapport', 'aux', 'à', 'les', 'valeurs', 'initiales', 'et', 'à', '36', 'mois', 'cette', 'réduction', \"s'\", 'est', 'maintenue', 'à', '52', '%', 'en-dessous', 'des', 'de', 'les', 'valeurs', 'initiales', '.'], ['ADP', 'NUM', 'NOUN', 'PUNCT', 'DET', 'NOUN', 'AUX', 'AUX', 'VERB', 'ADV', 'ADP', 'NUM', 'NOUN', 'ADP', 'NOUN', '_', 'ADP', 'DET', 'NOUN', 'ADJ', 'CCONJ', 'ADP', 'NUM', 'NOUN', 'DET', 'NOUN', 'PRON', 'AUX', 'VERB', 'ADP', 'NUM', 'NOUN', 'ADV', '_', 'ADP', 'DET', 'NOUN', 'ADJ', 'PUNCT']), (['Aclasta', 'a', 'réduit', 'significativement', 'le', 'nombre', 'moyen', 'de', 'jours', \"d'\", 'activité', 'limitée', 'et', 'de', 'jours', \"d'\", 'alitement', 'du', 'de', 'le', 'fait', 'de', 'douleurs', 'rachidiennes', 'de', '17,9', 'jours', 'par', 'rapport', 'à', '11,3', 'jours', 'dans', 'le', 'groupe', 'placebo', '.'], ['PROPN', 'AUX', 'VERB', 'ADV', 'DET', 'NOUN', 'ADJ', 'ADP', 'NOUN', 'ADP', 'NOUN', 'VERB', 'CCONJ', 'ADP', 'NOUN', 'ADP', 'NOUN', '_', 'ADP', 'DET', 'NOUN', 'ADP', 'NOUN', 'ADJ', 'ADP', 'NUM', 'NOUN', 'ADP', 'NOUN', 'ADP', 'NUM', 'NOUN', 'ADP', 'DET', 'NOUN', 'NOUN', 'PUNCT']), (['Aclasta', 'a', 'également', 'réduit', 'significativement', 'le', 'nombre', 'moyen', 'de', 'jours', \"d'\", 'activité', 'limitée', 'et', 'de', 'jours', \"d'\", 'alitement', 'du', 'de', 'le', 'fait', 'de', 'fractures', 'de', '2,9', 'jours', 'par', 'rapport', 'à', '0,5', 'jours', 'dans', 'le', 'groupe', 'placebo', '(', 'p', '<', '0,01', 'pour', 'toutes', 'les', 'valeurs', ')', '.'], ['PROPN', 'AUX', 'ADV', 'VERB', 'ADV', 'DET', 'NOUN', 'ADJ', 'ADP', 'NOUN', 'ADP', 'NOUN', 'VERB', 'CCONJ', 'ADP', 'NOUN', 'ADP', 'NOUN', '_', 'ADP', 'DET', 'NOUN', 'ADP', 'NOUN', 'ADP', 'NUM', 'NOUN', 'ADP', 'NOUN', 'ADP', 'NUM', 'NOUN', 'ADP', 'DET', 'NOUN', 'NOUN', 'PUNCT', 'NOUN', 'VERB', 'NUM', 'ADP', 'ADJ', 'DET', 'NOUN', 'PUNCT', 'PUNCT']), (['Le', 'délai', 'médian', 'de', 'perfusion', 'était', \"d'\", 'environ', '6', 'semaines', 'après', \"l'\", 'intervention', '.'], ['DET', 'NOUN', 'ADJ', 'ADP', 'NOUN', 'AUX', 'ADP', 'ADV', 'NUM', 'NOUN', 'ADP', 'DET', 'NOUN', 'PUNCT']), (['Le', 'critère', 'principal', \"d'\", 'efficacité', 'était', \"l'\", 'incidence', 'des', 'de', 'les', 'fractures', 'cliniques', 'pendant', 'toute', 'la', 'durée', 'de', \"l'\", 'étude', '.'], ['DET', 'NOUN', 'ADJ', 'ADP', 'NOUN', 'AUX', 'DET', 'NOUN', '_', 'ADP', 'DET', 'NOUN', 'ADJ', 'ADP', 'ADJ', 'DET', 'NOUN', 'ADP', 'DET', 'NOUN', 'PUNCT']), (['Cette', 'étude', \"n'\", 'était', 'pas', 'conçue', 'pour', 'montrer', 'une', 'différence', 'significative', 'sur', 'les', 'fractures', 'de', 'hanche', 'mais', 'une', 'réduction', 'sur', 'les', 'nouvelles', 'fractures', 'de', 'hanche', 'a', 'été', 'observée', '.'], ['DET', 'NOUN', 'ADV', 'AUX', 'ADV', 'VERB', 'ADP', 'VERB', 'DET', 'NOUN', 'ADJ', 'ADP', 'DET', 'NOUN', 'ADP', 'NOUN', 'CCONJ', 'DET', 'NOUN', 'ADP', 'DET', 'ADJ', 'NOUN', 'ADP', 'NOUN', 'AUX', 'AUX', 'VERB', 'PUNCT']), (['Dans', \"l'\", 'étude', 'HORIZON-RFT', ',', 'le', 'traitement', 'par', 'Aclasta', 'a', 'significativement', 'augmenté', 'la', 'DMO', 'au', 'à', 'le', 'fémur', 'total', 'et', 'au', 'à', 'le', 'col', 'fémoral', 'comparé', 'au', 'à', 'le', 'placebo', ',', 'à', 'toutes', 'les', 'mesures', '.'], ['ADP', 'DET', 'NOUN', 'PROPN', 'PUNCT', 'DET', 'NOUN', 'ADP', 'PROPN', 'AUX', 'ADV', 'VERB', 'DET', 'NOUN', '_', 'ADP', 'DET', 'NOUN', 'ADJ', 'CCONJ', '_', 'ADP', 'DET', 'NOUN', 'ADJ', 'VERB', '_', 'ADP', 'DET', 'NOUN', 'PUNCT', 'ADP', 'ADJ', 'DET', 'NOUN', 'PUNCT']), (['Une', 'augmentation', 'de', '5,4', '%', 'au', 'à', 'le', 'fémur', 'total', 'et', 'de', '4,3', '%', 'au', 'à', 'le', 'col', 'fémoral', 'a', 'été', 'observé', 'sous', 'Aclasta', ',', 'en', 'comparaison', 'au', 'à', 'le', 'placebo', 'durant', 'les', '24', 'mois', '.'], ['DET', 'NOUN', 'ADP', 'NUM', 'NOUN', '_', 'ADP', 'DET', 'NOUN', 'ADJ', 'CCONJ', 'ADP', 'NUM', 'NOUN', '_', 'ADP', 'DET', 'NOUN', 'ADJ', 'AUX', 'AUX', 'VERB', 'ADP', 'PROPN', 'PUNCT', 'ADP', 'NOUN', '_', 'ADP', 'DET', 'NOUN', 'ADP', 'DET', 'NUM', 'NOUN', 'PUNCT']), ([\"L'\", 'étude', \"n'\", 'était', 'pas', 'conçue', 'pour', 'montrer', 'une', 'réduction', 'sur', 'les', 'fractures', 'cliniques', 'chez', 'les', 'hommes', ';'], ['DET', 'NOUN', 'ADV', 'AUX', 'ADV', 'VERB', 'ADP', 'VERB', 'DET', 'NOUN', 'ADP', 'DET', 'NOUN', 'ADJ', 'ADP', 'DET', 'NOUN', 'PUNCT']), ([\"l'\", 'incidence', 'des', 'de', 'les', 'fractures', 'cliniques', 'a', 'été', 'de', '7,5', '%', 'chez', 'les', 'hommes', 'traités', 'par', 'Aclasta', 'versus', '8,7', '%', 'chez', 'les', 'hommes', 'sous', 'placebo', '.'], ['DET', 'NOUN', '_', 'ADP', 'DET', 'NOUN', 'ADJ', 'AUX', 'AUX', 'ADP', 'NUM', 'NOUN', 'ADP', 'DET', 'NOUN', 'VERB', 'ADP', 'PROPN', 'ADP', 'NUM', 'NOUN', 'ADP', 'DET', 'NOUN', 'ADP', 'NOUN', 'PUNCT']), (['Dans', 'une', 'autre', 'étude', 'réalisée', 'chez', 'les', 'hommes', '(', 'Etude', 'CZOL446M2308', ')', ',', 'à', '24', 'mois', ',', 'le', 'pourcentage', \"d'\", 'augmentation', 'de', 'la', 'DMO', 'au', 'à', 'le', 'rachis', 'lombaire', 'après', 'une', 'perfusion', 'annuelle', \"d'\", 'Aclasta', 'était', 'non', 'inférieur', 'à', 'celui', 'observé', 'après', 'une', 'prise', 'hebdomadaire', \"d'\", 'alendronate', '.'], ['ADP', 'DET', 'ADJ', 'NOUN', 'VERB', 'ADP', 'DET', 'NOUN', 'PUNCT', 'NOUN', 'PROPN', 'PUNCT', 'PUNCT', 'ADP', 'NUM', 'NOUN', 'PUNCT', 'DET', 'NOUN', 'ADP', 'NOUN', 'ADP', 'DET', 'NOUN', '_', 'ADP', 'DET', 'NOUN', 'ADJ', 'ADP', 'DET', 'NOUN', 'ADJ', 'ADP', 'PROPN', 'AUX', 'ADV', 'ADJ', 'ADP', 'PRON', 'VERB', 'ADP', 'DET', 'NOUN', 'ADJ', 'ADP', 'NOUN', 'PUNCT']), (['Efficacité', 'clinique', 'dans', 'le', 'traitement', 'de', 'la', 'maladie', 'de', 'Paget'], ['NOUN', 'ADJ', 'ADP', 'DET', 'NOUN', 'ADP', 'DET', 'NOUN', 'ADP', 'PROPN']), (['Des', 'perfusions', 'uniques', 'et', 'multiples', 'de', '5', 'et', '15', 'minutes', 'avec', '2', ',', '4', ',', '8', 'et', '16', 'mg', \"d'\", 'acide', 'zolédronique', 'chez', '64', 'patients', 'ont', 'généré', 'les', 'données', 'pharmacocinétiques', 'suivantes', ',', 'qui', 'se', 'sont', 'révélées', 'indépendantes', 'de', 'la', 'dose', '.'], ['DET', 'NOUN', 'ADJ', 'CCONJ', 'ADJ', 'ADP', 'NUM', 'CCONJ', 'NUM', 'NOUN', 'ADP', 'NUM', 'PUNCT', 'NUM', 'PUNCT', 'NUM', 'CCONJ', 'NUM', 'NOUN', 'ADP', 'NOUN', 'ADJ', 'ADP', 'NUM', 'NOUN', 'AUX', 'VERB', 'DET', 'NOUN', 'ADJ', 'ADJ', 'PUNCT', 'PRON', 'PRON', 'AUX', 'VERB', 'ADJ', 'ADP', 'DET', 'NOUN', 'PUNCT']), (['Après', \"l'\", 'instauration', 'de', 'la', 'perfusion', \"d'\", 'acide', 'zolédronique', ',', 'les', 'concentrations', 'plasmatiques', 'de', 'la', 'substance', 'active', 'ont', 'augmenté', 'rapidement', ',', 'atteignant', 'leur', 'pic', 'à', 'la', 'fin', 'de', 'la', 'période', 'de', 'perfusion', ',', 'suivi', \"d'\", 'une', 'diminution', 'rapide', 'inférieure', 'à', '10', '%', 'du', 'de', 'le', 'pic', 'après', '4', 'heures', 'et', 'inférieure', 'à', '1', '%', 'du', 'de', 'le', 'pic', 'après', '24', 'heures', ',', 'suivi', \"d'\", 'une', 'période', 'prolongée', 'de', 'concentrations', 'très', 'faibles', 'ne', 'dépassant', 'pas', '0,1', '%', 'des', 'de', 'les', 'concentrations', 'maximales', '.'], ['ADP', 'DET', 'NOUN', 'ADP', 'DET', 'NOUN', 'ADP', 'NOUN', 'ADJ', 'PUNCT', 'DET', 'NOUN', 'ADJ', 'ADP', 'DET', 'NOUN', 'ADJ', 'AUX', 'VERB', 'ADV', 'PUNCT', 'VERB', 'DET', 'NOUN', 'ADP', 'DET', 'NOUN', 'ADP', 'DET', 'NOUN', 'ADP', 'NOUN', 'PUNCT', 'VERB', 'ADP', 'DET', 'NOUN', 'ADJ', 'ADJ', 'ADP', 'NUM', 'NOUN', '_', 'ADP', 'DET', 'NOUN', 'ADP', 'NUM', 'NOUN', 'CCONJ', 'ADJ', 'ADP', 'NUM', 'NOUN', '_', 'ADP', 'DET', 'NOUN', 'ADP', 'NUM', 'NOUN', 'PUNCT', 'VERB', 'ADP', 'DET', 'NOUN', 'VERB', 'ADP', 'NOUN', 'ADV', 'ADJ', 'ADV', 'VERB', 'ADV', 'NUM', 'NOUN', '_', 'ADP', 'DET', 'NOUN', 'ADJ', 'PUNCT']), (['Les', 'phases', 'de', 'distribution', 'précoce', '(', 'et', ',', 'avec', 'les', 'demi-vies', 't½', 'précisées', 'ci-dessus', ')', 'reflètent', 'vraisemblablement', 'une', 'absorption', 'rapide', 'dans', \"l'\", 'os', 'et', 'une', 'excrétion', 'par', 'voie', 'rénale', '.'], ['DET', 'NOUN', 'ADP', 'NOUN', 'ADJ', 'PUNCT', 'CCONJ', 'PUNCT', 'ADP', 'DET', 'NOUN', 'NOUN', 'VERB', 'ADV', 'PUNCT', 'VERB', 'ADV', 'DET', 'NOUN', 'ADJ', 'ADP', 'DET', 'NOUN', 'CCONJ', 'DET', 'NOUN', 'ADP', 'NOUN', 'ADJ', 'PUNCT']), (['Comment', 'conserver', 'Aclasta', '.'], ['ADV', 'VERB', 'PROPN', 'PUNCT']), (['Aclasta', 'est', 'administré', 'en', 'une', 'seule', 'perfusion', 'intraveineuse', 'par', 'un', 'médecin', 'ou', 'une', 'infirmière', '.'], ['PROPN', 'AUX', 'VERB', 'ADP', 'DET', 'ADJ', 'NOUN', 'ADJ', 'ADP', 'DET', 'NOUN', 'CCONJ', 'DET', 'NOUN', 'PUNCT']), (['Maladie', 'de', 'Paget'], ['NOUN', 'ADP', 'PROPN']), (['Si', 'la', 'maladie', \"n'\", 'est', 'pas', 'traitée', ',', 'les', 'os', 'se', 'déforment', ',', 'deviennent', 'douloureux', 'et', 'peuvent', 'se', 'casser', '.'], ['SCONJ', 'DET', 'NOUN', 'ADV', 'AUX', 'ADV', 'VERB', 'PUNCT', 'DET', 'NOUN', 'PRON', 'VERB', 'PUNCT', 'VERB', 'ADJ', 'CCONJ', 'VERB', 'PRON', 'VERB', 'PUNCT']), (['-', 'si', 'vous', 'êtes', 'enceinte', 'ou', 'vous', 'prévoyez', 'de', 'le', 'devenir', '.'], ['PUNCT', 'SCONJ', 'PRON', 'AUX', 'ADJ', 'CCONJ', 'PRON', 'VERB', 'ADP', 'PRON', 'VERB', 'PUNCT']), (['-', 'si', 'vous', 'allaitez', '.'], ['PUNCT', 'SCONJ', 'PRON', 'VERB', 'PUNCT']), (['Faites', 'attention', 'avec', 'Aclasta'], ['VERB', 'NOUN', 'ADP', 'PROPN']), (['Patients', 'âgés', '(', '65', 'ans', 'et', 'plus', ')'], ['NOUN', 'ADJ', 'PUNCT', 'NUM', 'NOUN', 'CCONJ', 'ADV', 'PUNCT']), (['Vous', 'ne', 'devez', 'pas', 'recevoir', 'Aclasta', 'si', 'vous', 'êtes', 'enceinte', 'ou', 'si', 'vous', 'prévoyez', 'de', 'le', 'devenir', '.'], ['PRON', 'ADV', 'VERB', 'ADV', 'VERB', 'PROPN', 'SCONJ', 'PRON', 'AUX', 'ADJ', 'CCONJ', 'SCONJ', 'PRON', 'VERB', 'ADP', 'PRON', 'VERB', 'PUNCT']), (['La', 'dose', 'habituelle', 'est', 'de', '5', 'mg', ',', 'administrée', 'par', 'votre', 'médecin', 'ou', 'votre', 'infirmière', 'sous', 'forme', \"d'\", 'une', 'perfusion', 'intraveineuse', 'par', 'an', '.'], ['DET', 'NOUN', 'ADJ', 'AUX', 'ADP', 'NUM', 'NOUN', 'PUNCT', 'VERB', 'ADP', 'DET', 'NOUN', 'CCONJ', 'DET', 'NOUN', 'ADP', 'NOUN', 'ADP', 'DET', 'NOUN', 'ADJ', 'ADP', 'NOUN', 'PUNCT']), (['Dans', 'le', 'cas', 'où', 'vous', 'avez', 'eu', 'récemment', 'une', 'fracture', 'de', 'hanche', ',', 'il', 'est', 'recommandé', \"qu'\", 'Aclasta', 'soit', 'administré', '2', 'semaines', 'ou', 'plus', 'après', 'réparation', 'de', 'votre', 'fracture', '.'], ['ADP', 'DET', 'NOUN', 'PRON', 'PRON', 'AUX', 'VERB', 'ADV', 'DET', 'NOUN', 'ADP', 'NOUN', 'PUNCT', 'PRON', 'AUX', 'VERB', 'SCONJ', 'PROPN', 'AUX', 'VERB', 'NUM', 'NOUN', 'CCONJ', 'ADV', 'ADP', 'NOUN', 'ADP', 'DET', 'NOUN', 'PUNCT']), (['Pour', \"l'\", 'ostéoporose', ',', 'Aclasta', 'agit', 'pendant', 'un', 'an', 'et', 'vous', 'ne', 'devrez', 'prendre', 'la', 'dose', 'suivante', \"qu'\", 'après', 'un', 'an', '.'], ['ADP', 'DET', 'NOUN', 'PUNCT', 'PROPN', 'VERB', 'ADP', 'DET', 'NOUN', 'CCONJ', 'PRON', 'ADV', 'VERB', 'VERB', 'DET', 'NOUN', 'ADJ', 'ADV', 'ADP', 'DET', 'NOUN', 'PUNCT']), (['La', 'dose', 'habituelle', 'est', 'de', '5', 'mg', ',', 'administrée', 'en', 'une', 'seule', 'perfusion', 'intraveineuse', 'par', 'votre', 'médecin', 'ou', 'votre', 'infirmière', '.'], ['DET', 'NOUN', 'ADJ', 'AUX', 'ADP', 'NUM', 'NOUN', 'PUNCT', 'VERB', 'ADP', 'DET', 'ADJ', 'NOUN', 'ADJ', 'ADP', 'DET', 'NOUN', 'CCONJ', 'DET', 'NOUN', 'PUNCT']), (['Votre', 'médecin', 'vous', 'conseillera', 'et', 'décidera', 'pendant', 'combien', 'de', 'temps', 'vous', 'devez', 'être', 'traité(e)', 'par', 'Aclasta', '.'], ['DET', 'NOUN', 'PRON', 'VERB', 'CCONJ', 'VERB', 'ADP', 'ADV', 'ADP', 'NOUN', 'PRON', 'VERB', 'AUX', 'VERB', 'ADP', 'PROPN', 'PUNCT']), (['Il', \"n'\", 'est', 'pas', 'clairement', 'établi', 'à', 'ce', 'jour', \"qu'\", 'Aclasta', 'entraîne', 'ces', 'irrégularités', 'du', 'de', 'le', 'rythme', 'cardiaque', 'mais', 'en', 'cas', 'de', 'survenue', 'des', 'ces', 'symptômes', 'après', 'avoir', 'reçu', 'Aclasta', 'vous', 'devez', 'en', 'faire', 'part', 'à', 'votre', 'médecin', '.'], ['PRON', 'ADV', 'AUX', 'ADV', 'ADV', 'VERB', 'ADP', 'DET', 'NOUN', 'SCONJ', 'PROPN', 'VERB', 'DET', 'NOUN', '_', 'ADP', 'DET', 'NOUN', 'ADJ', 'CCONJ', 'ADP', 'NOUN', 'ADP', 'NOUN', 'ADP', 'DET', 'NOUN', 'ADP', 'AUX', 'VERB', 'PROPN', 'PRON', 'VERB', 'PRON', 'VERB', 'NOUN', 'ADP', 'DET', 'NOUN', 'PUNCT']), (['-', 'Avant', 'ouverture', 'du', 'de', 'le', 'flacon', ':', 'pas', 'de', 'précautions', 'particulières', 'de', 'conservation', '.'], ['PUNCT', 'ADP', 'NOUN', '_', 'ADP', 'DET', 'NOUN', 'PUNCT', 'ADV', 'ADP', 'NOUN', 'ADJ', 'ADP', 'NOUN', 'PUNCT']), (['-', 'La', 'substance', 'active', 'est', \"l'\", 'acide', 'zolédronique', '.'], ['PUNCT', 'DET', 'NOUN', 'ADJ', 'AUX', 'DET', 'NOUN', 'ADJ', 'PUNCT']), (['Chaque', 'flacon', 'de', '100', 'ml', 'de', 'solution', 'contient', '5', 'mg', \"d'\", 'acide', 'zolédronique', 'anhydre', ',', 'ce', 'qui', 'équivaut', 'à', '5,330', 'mg', \"d'\", 'acide', 'zolédronique', 'monohydraté', '.'], ['DET', 'NOUN', 'ADP', 'NUM', 'NOUN', 'ADP', 'NOUN', 'VERB', 'NUM', 'NOUN', 'ADP', 'NOUN', 'ADJ', 'ADJ', 'PUNCT', 'PRON', 'PRON', 'VERB', 'ADP', 'NUM', 'NOUN', 'ADP', 'NOUN', 'ADJ', 'ADJ', 'PUNCT']), (['-', 'Les', 'autres', 'composants', 'sont', ':', 'mannitol', ',', 'citrate', 'de', 'sodium', 'et', 'eau', 'pour', 'préparations', 'injectables', '.'], ['PUNCT', 'DET', 'ADJ', 'NOUN', 'AUX', 'PUNCT', 'NOUN', 'PUNCT', 'NOUN', 'ADP', 'NOUN', 'CCONJ', 'NOUN', 'ADP', 'NOUN', 'ADJ', 'PUNCT']), (['Aclasta', 'est', 'une', 'solution', 'claire', 'et', 'incolore', '.'], ['PROPN', 'AUX', 'DET', 'NOUN', 'ADJ', 'CCONJ', 'ADJ', 'PUNCT']), (['Avant', 'de', 'leur', 'administrer', 'Aclasta', ',', 'il', 'faut', 'mesurer', 'les', 'taux', 'sériques', 'de', 'créatinine', 'des', 'de', 'les', 'patients', '.'], ['ADP', 'ADP', 'PRON', 'VERB', 'PROPN', 'PUNCT', 'PRON', 'VERB', 'VERB', 'DET', 'NOUN', 'ADJ', 'ADP', 'NOUN', '_', 'ADP', 'DET', 'NOUN', 'PUNCT']), (['Les', 'autres', 'troubles', 'des', 'de', 'les', 'ions', 'minéraux', 'doivent', 'aussi', 'être', 'efficacement', 'traités', '(', 'par', 'exemple', 'réduction', 'de', 'la', 'réserve', 'parathyroïde', ',', 'malabsorption', 'intestinale', 'de', 'calcium', ')', '.'], ['DET', 'ADJ', 'NOUN', '_', 'ADP', 'DET', 'NOUN', 'ADJ', 'VERB', 'ADV', 'AUX', 'ADV', 'VERB', 'PUNCT', 'ADP', 'NOUN', 'NOUN', 'ADP', 'DET', 'NOUN', 'ADJ', 'PUNCT', 'NOUN', 'ADJ', 'ADP', 'NOUN', 'PUNCT', 'PUNCT']), (['En', 'raison', 'du', 'de', 'le', 'délai', \"d'\", 'action', 'rapide', 'de', \"l'\", 'acide', 'zolédronique', 'sur', 'le', 'remodelage', 'osseux', ',', 'une', 'hypocalcémie', 'transitoire', ',', 'parfois', 'symptomatique', ',', 'peut', 'se', 'produire', 'et', 'atteindre', 'généralement', 'une', 'valeur', 'maximale', 'dans', 'les', '10', 'premiers', 'jours', 'suivant', \"l'\", 'administration', \"d'\", 'Aclasta', '.'], ['ADP', 'NOUN', '_', 'ADP', 'DET', 'NOUN', 'ADP', 'NOUN', 'ADJ', 'ADP', 'DET', 'NOUN', 'ADJ', 'ADP', 'DET', 'NOUN', 'ADJ', 'PUNCT', 'DET', 'NOUN', 'ADJ', 'PUNCT', 'ADV', 'ADJ', 'PUNCT', 'VERB', 'PRON', 'VERB', 'CCONJ', 'VERB', 'ADV', 'DET', 'NOUN', 'ADJ', 'ADP', 'DET', 'NUM', 'ADJ', 'NOUN', 'VERB', 'DET', 'NOUN', 'ADP', 'PROPN', 'PUNCT']), (['Un', 'apport', 'supplémentaire', 'approprié', 'en', 'calcium', 'et', 'vitamine', 'D', 'est', 'recommandé', 'en', 'association', 'avec', \"l'\", 'administration', \"d'\", 'Aclasta', '.'], ['DET', 'NOUN', 'ADJ', 'ADJ', 'ADP', 'NOUN', 'CCONJ', 'NOUN', 'NOUN', 'AUX', 'VERB', 'ADP', 'NOUN', 'ADP', 'DET', 'NOUN', 'ADP', 'PROPN', 'PUNCT']), (['-', 'Aclasta', '5', 'mg', 'solution', 'pour', 'perfusion', 'est', 'prête', 'à', \"l'\", 'emploi', '.'], ['PUNCT', 'PROPN', 'NUM', 'NOUN', 'NOUN', 'ADP', 'NOUN', 'AUX', 'ADJ', 'ADP', 'DET', 'NOUN', 'PUNCT']), (['à', 'usage', 'unique', 'seulement', '.'], ['ADP', 'NOUN', 'ADJ', 'ADV', 'PUNCT']), (['La', 'durée', 'de', 'perfusion', 'ne', 'doit', 'pas', 'être', 'inférieure', 'à', '15', 'minutes', '.'], ['DET', 'NOUN', 'ADP', 'NOUN', 'ADV', 'VERB', 'ADV', 'AUX', 'ADJ', 'ADP', 'NUM', 'NOUN', 'PUNCT']), ([\"L'\", 'affaire', 'des', 'de', 'les', 'caporaux', 'de', 'Souain', ',', 'fusillés', 'pour', \"l'\", 'exemple', ',', 'est', 'un', 'des', 'de', 'les', 'cas', 'parmi', 'les', 'plus', 'flagrants', 'et', 'les', 'plus', 'médiatisés', 'de', \"l'\", 'injustice', 'militaire', 'durant', 'la', 'Première', 'Guerre', 'mondiale', '.'], ['DET', 'NOUN', '_', 'ADP', 'DET', 'NOUN', 'ADP', 'PROPN', 'PUNCT', 'VERB', 'ADP', 'DET', 'NOUN', 'PUNCT', 'AUX', 'PRON', '_', 'ADP', 'DET', 'NOUN', 'ADP', 'DET', 'ADV', 'ADJ', 'CCONJ', 'DET', 'ADV', 'ADJ', 'ADP', 'DET', 'NOUN', 'ADJ', 'ADP', 'DET', 'ADJ', 'NOUN', 'ADJ', 'PUNCT']), (['Plus', 'tard', ',', 'le', 'bombardement', 'des', 'de', 'les', 'tranchées', 'françaises', 'fera', \"l'\", 'objet', \"d'\", 'une', 'polémique', ',', 'à', 'la', 'suite', \"d'\", 'un', 'témoignage', ':', 'Le', 'général', 'Réveilhac', ',', 'ordonnateur', 'de', \"l'\", 'attaque', ',', 'aurait', 'demandé', 'à', \"l'\", 'artillerie', 'de', 'pilonner', 'les', 'positions', 'française', 'pour', 'obliger', 'les', 'soldats', 'à', 'sortir', 'de', 'leurs', 'tranchées', '.'], ['ADV', 'ADV', 'PUNCT', 'DET', 'NOUN', '_', 'ADP', 'DET', 'NOUN', 'ADJ', 'VERB', 'DET', 'NOUN', 'ADP', 'DET', 'NOUN', 'PUNCT', 'ADP', 'DET', 'NOUN', 'ADP', 'DET', 'NOUN', 'PUNCT', 'DET', 'NOUN', 'PROPN', 'PUNCT', 'NOUN', 'ADP', 'DET', 'NOUN', 'PUNCT', 'AUX', 'VERB', 'ADP', 'DET', 'NOUN', 'ADP', 'VERB', 'DET', 'NOUN', 'ADJ', 'ADP', 'VERB', 'DET', 'NOUN', 'ADP', 'VERB', 'ADP', 'DET', 'NOUN', 'PUNCT']), (['Le', '15', 'mars', ',', 'le', 'général', 'donne', \"l'\", 'ordre', 'de', 'mise', 'de', 'jugement', 'directe', 'des', 'de', 'les', '24', 'hommes', 'désignés', '.'], ['DET', 'NUM', 'NOUN', 'PUNCT', 'DET', 'NOUN', 'VERB', 'DET', 'NOUN', 'ADP', 'NOUN', 'ADP', 'NOUN', 'ADJ', '_', 'ADP', 'DET', 'NUM', 'NOUN', 'VERB', 'PUNCT']), (['Ils', 'étaient', 'tous', 'coupables', 'ou', 'aucun', 'ne', \"l'\", 'était', '.'], ['PRON', 'AUX', 'ADJ', 'ADJ', 'CCONJ', 'PRON', 'ADV', 'PRON', 'AUX', 'PUNCT']), (['Maupas', ',', 'marié', ',', 'avait', '2', 'enfants', ';'], ['PROPN', 'PUNCT', 'ADJ', 'PUNCT', 'VERB', 'NUM', 'NOUN', 'PUNCT']), (['Il', 'y', 'eut', 'de', 'nombreuses', 'signatures', 'de', 'motions', ',', 'des', 'protestations', 'devant', 'la', 'chambre', 'des', 'de', 'les', 'députés', ',', 'toutes', 'demandant', 'la', 'réhabilitation', 'des', 'de', 'les', 'caporaux', 'de', 'Souain', '.'], ['PRON', 'PRON', 'VERB', 'DET', 'ADJ', 'NOUN', 'ADP', 'NOUN', 'PUNCT', 'DET', 'NOUN', 'ADP', 'DET', 'NOUN', '_', 'ADP', 'DET', 'NOUN', 'PUNCT', 'PRON', 'VERB', 'DET', 'NOUN', '_', 'ADP', 'DET', 'NOUN', 'ADP', 'PROPN', 'PUNCT']), (['Les', 'épouses', 'des', 'de', 'les', 'fusillés', 'reçurent', 'le', 'franc', 'symbolique', 'au', 'à', 'le', 'titre', 'de', 'dommages', 'et', 'intérêts', ',', 'mais', \"l'\", 'essentiel', 'était', 'que', 'ces', '4', 'hommes', 'soient', 'réhabilités', 'dans', 'la', 'mémoire', 'des', 'de', 'les', 'Français', 'et', 'que', 'leurs', 'veuves', 'puissent', 'enfin', 'faire', 'valoir', 'leurs', 'droits', 'à', 'pension', '.'], ['DET', 'NOUN', '_', 'ADP', 'DET', 'NOUN', 'VERB', 'DET', 'NOUN', 'ADJ', '_', 'ADP', 'DET', 'NOUN', 'ADP', 'NOUN', 'CCONJ', 'NOUN', 'PUNCT', 'CCONJ', 'DET', 'NOUN', 'AUX', 'SCONJ', 'DET', 'NUM', 'NOUN', 'AUX', 'VERB', 'ADP', 'DET', 'NOUN', '_', 'ADP', 'DET', 'NOUN', 'CCONJ', 'SCONJ', 'DET', 'NOUN', 'VERB', 'ADV', 'AUX', 'VERB', 'DET', 'NOUN', 'ADP', 'NOUN', 'PUNCT']), ([\"L'\", 'école', 'de', 'Percy', 'porte', 'le', 'nom', 'de', '\"', 'Blanche', 'et', 'Théophile', 'Maupas', '\"', 'depuis', '1998', '.'], ['DET', 'NOUN', 'ADP', 'PROPN', 'VERB', 'DET', 'NOUN', 'ADP', 'PUNCT', 'PROPN', 'CCONJ', 'PROPN', 'PROPN', 'PUNCT', 'ADP', 'NUM', 'PUNCT']), (['Un', 'livre', ',', 'Pour', \"l'\", 'honneur', 'de', 'Théo', 'et', 'des', 'de', 'les', 'caporaux', 'de', 'Souain', ',', 'écrit', 'par', 'Jacqueline', 'Laisné', ',', \"l'\", 'institutrice', 'qui', 'prit', 'la', 'suite', 'de', 'Blanche', 'Maupas', 'dans', 'son', 'école', ',', 'raconte', 'également', 'cette', 'histoire', '.'], ['DET', 'NOUN', 'PUNCT', 'ADP', 'DET', 'NOUN', 'ADP', 'PROPN', 'CCONJ', '_', 'ADP', 'DET', 'NOUN', 'ADP', 'PROPN', 'PUNCT', 'VERB', 'ADP', 'PROPN', 'PROPN', 'PUNCT', 'DET', 'NOUN', 'PRON', 'VERB', 'DET', 'NOUN', 'ADP', 'PROPN', 'PROPN', 'ADP', 'DET', 'NOUN', 'PUNCT', 'VERB', 'ADV', 'DET', 'NOUN', 'PUNCT']), (['Bibliographie'], ['NOUN']), (['Affaire'], ['NOUN']), (['Le', 'journal', \"L'\", 'Évènement', 'du', 'de', 'le', 'jeudi', 'du', 'de', 'le', '28', 'décembre', '1989', 'a', 'même', 'titré', '\"', 'Dracula', 'était', 'communiste', '.', '\"'], ['DET', 'NOUN', 'DET', 'NOUN', '_', 'ADP', 'DET', 'NOUN', '_', 'ADP', 'DET', 'NUM', 'NOUN', 'NUM', 'AUX', 'ADV', 'VERB', 'PUNCT', 'PROPN', 'AUX', 'ADJ', 'PUNCT', 'PUNCT']), (['Désinformation', '.'], ['NOUN', 'PUNCT']), (['Médias', '.'], ['NOUN', 'PUNCT']), (['Ils', 'ont', 'vidé', 'les', 'supermarchés', 'de', 'nourriture', ',', 'les', 'pharmacies', 'de', 'médicaments', ',', 'les', 'usines', 'de', 'matériel', 'médical', ',', 'ils', 'ont', 'cambriolé', 'les', 'maisons', 'et', 'torturé', 'des', 'voisins', 'et', 'des', 'amis', '.'], ['PRON', 'AUX', 'VERB', 'DET', 'NOUN', 'ADP', 'NOUN', 'PUNCT', 'DET', 'NOUN', 'ADP', 'NOUN', 'PUNCT', 'DET', 'NOUN', 'ADP', 'NOUN', 'ADJ', 'PUNCT', 'PRON', 'AUX', 'VERB', 'DET', 'NOUN', 'CCONJ', 'VERB', 'DET', 'NOUN', 'CCONJ', 'DET', 'NOUN', 'PUNCT']), (['-', 'Propagande'], ['PUNCT', 'NOUN']), (['Références'], ['NOUN']), (['-', '(', 'en', ')', 'Maggie', \"O'Kane\", ',', 'This', 'time', 'I', \"'\", 'm', 'scared', ',', 'The', 'Guardian', ',', 'December', '5', ',', '2002', '.'], ['PUNCT', 'PUNCT', 'X', 'PUNCT', 'PROPN', 'PROPN', 'PUNCT', 'X', 'X', 'X', 'PUNCT', 'X', 'X', 'PUNCT', 'X', 'X', 'PUNCT', 'NOUN', 'NUM', 'PUNCT', 'NUM', 'PUNCT']), (['-', '(', 'en', ')', 'Ian', 'Urbina', ',', 'HBO', 'adds', 'disclaimer', 'to', 'Gulf', 'War', 'movie', ',', 'Asia', 'Times', ',', 'Nov', '13', ',', '2002', '.'], ['PUNCT', 'PUNCT', 'X', 'PUNCT', 'PROPN', 'PROPN', 'PUNCT', 'X', 'X', 'X', 'X', 'X', 'X', 'X', 'PUNCT', 'PROPN', 'PROPN', 'PUNCT', 'NOUN', 'NUM', 'PUNCT', 'NUM', 'PUNCT']), (['Une', 'partie', 'du', 'de', 'le', 'montant', 'de', 'leur', 'vente', 'est', 'rétrocédé', 'au', 'à', 'le', 'gouvernement', 'de', 'Bangui', 'pour', 'la', 'Croix-Rouge', 'de', 'Centrafrique', 'alors', 'que', 'le', 'reste', '(', '67 025', 'francs', ')', 'est', 'versé', 'à', 'des', 'oeuvres', 'caritatives', 'du', 'de', 'le', 'pays', '.'], ['DET', 'NOUN', '_', 'ADP', 'DET', 'NOUN', 'ADP', 'DET', 'NOUN', 'AUX', 'VERB', '_', 'ADP', 'DET', 'NOUN', 'ADP', 'PROPN', 'ADP', 'DET', 'PROPN', 'ADP', 'PROPN', 'ADV', 'SCONJ', 'DET', 'NOUN', 'PUNCT', 'DET', 'NOUN', 'PUNCT', 'AUX', 'VERB', 'ADP', 'DET', 'NOUN', 'ADJ', '_', 'ADP', 'DET', 'NOUN', 'PUNCT']), (['En', '1981', ',', 'cette', 'affaire', 'pourrait', 'être', 'une', 'des', 'de', 'les', 'causes', 'de', 'la', 'défaite', 'de', 'Valéry', 'Giscard', \"d'\", 'Estaing', 'face', 'au', 'à', 'le', 'candidat', 'du', 'de', 'le', 'parti', 'socialiste', 'François', 'Mitterrand', '.'], ['ADP', 'NUM', 'PUNCT', 'DET', 'NOUN', 'VERB', 'AUX', 'PRON', '_', 'ADP', 'DET', 'NOUN', 'ADP', 'DET', 'NOUN', 'ADP', 'PROPN', 'PROPN', 'ADP', 'PROPN', 'NOUN', '_', 'ADP', 'DET', 'NOUN', '_', 'ADP', 'DET', 'NOUN', 'ADJ', 'PROPN', 'PROPN', 'PUNCT']), (['Notes'], ['NOUN']), (['Le', 'premier', 'retour', 'de', 'familles', '(', 'adultes', ',', 'femmes', ',', 'enfants', ')', 'a', 'lieu', 'par', 'la', '\"', 'traversée', 'du', 'de', 'le', 'Beach', '\"', '(', 'navette', 'fluviale', 'qui', 'effectue', 'les', 'liaisons', 'Brazzaville-Kinshasa', ')', ',', 'et', 'comprend', 'environ', '1500', 'personnes', ',', 'sous', 'le', 'contrôle', 'du', 'de', 'le', 'HCR', '.'], ['DET', 'ADJ', 'NOUN', 'ADP', 'NOUN', 'PUNCT', 'NOUN', 'PUNCT', 'NOUN', 'PUNCT', 'NOUN', 'PUNCT', 'VERB', 'NOUN', 'ADP', 'DET', 'PUNCT', 'NOUN', '_', 'ADP', 'DET', 'PROPN', 'PUNCT', 'PUNCT', 'NOUN', 'ADJ', 'PRON', 'VERB', 'DET', 'NOUN', 'PROPN', 'PUNCT', 'PUNCT', 'CCONJ', 'VERB', 'ADV', 'NUM', 'NOUN', 'PUNCT', 'ADP', 'DET', 'NOUN', '_', 'ADP', 'DET', 'PROPN', 'PUNCT']), (['A', 'partir', 'de', 'ce', 'moment', ',', 'toutes', 'les', 'traces', 'seront', 'perdues', '.'], ['ADP', 'VERB', 'ADP', 'DET', 'NOUN', 'PUNCT', 'ADJ', 'DET', 'NOUN', 'AUX', 'VERB', 'PUNCT']), (['On', 'parle', 'entre', 'autre', \"d'\", 'un', 'métis', 'qui', 'dès', 'son', 'arrivée', 'à', 'Brazzaville', 'a', 'été', 'autorisé', 'à', 'sortir', 'de', 'la', 'file', \"d'\", 'attente', '.'], ['PRON', 'VERB', 'ADP', 'PRON', 'ADP', 'DET', 'NOUN', 'PRON', 'ADP', 'DET', 'NOUN', 'ADP', 'PROPN', 'AUX', 'AUX', 'VERB', 'ADP', 'VERB', 'ADP', 'DET', 'NOUN', 'ADP', 'NOUN', 'PUNCT']), (['En', 'France'], ['ADP', 'PROPN']), (['Wikipédia', ':', 'ébauche', 'histoire', '.'], ['PROPN', 'PUNCT', 'NOUN', 'NOUN', 'PUNCT']), (['Histoire', 'de', 'la', 'République', 'du', 'de', 'le', 'Congo'], ['NOUN', 'ADP', 'DET', 'PROPN', '_', 'ADP', 'DET', 'PROPN']), (['Histoire'], ['NOUN']), (['Ce', 'dernier', 'avait', 'publié', 'un', 'pamphlet', 'violent', 'contre', 'Richelieu', 'et', \"s'\", 'opposait', 'fermement', 'à', 'la', 'destruction', 'des', 'de', 'les', 'murailles', 'de', 'la', 'ville', '.'], ['DET', 'ADJ', 'AUX', 'VERB', 'DET', 'NOUN', 'ADJ', 'ADP', 'PROPN', 'CCONJ', 'PRON', 'VERB', 'ADV', 'ADP', 'DET', 'NOUN', '_', 'ADP', 'DET', 'NOUN', 'ADP', 'DET', 'NOUN', 'PUNCT']), (['Livres'], ['NOUN']), (['-', 'Satanisme'], ['PUNCT', 'NOUN']), ([\"L'\", 'affaire', 'des', 'de', 'les', 'emplois', 'fictifs', 'de', 'la', 'Mairie', 'de', 'Paris', ',', 'ou', '\"', 'affaire', 'des', 'de', 'les', 'emplois', 'fictifs', 'du', 'de', 'le', 'RPR', '\"', ',', 'instruite', 'par', 'le', 'juge', 'Patrick', 'Desmure', ',', 'concerne', 'sept', 'employés', 'permanents', 'du', 'de', 'le', 'RPR', ',', 'dont', 'le', 'salaire', 'a', 'été', 'payé', 'par', 'la', 'mairie', 'de', 'Paris', '.'], ['DET', 'NOUN', '_', 'ADP', 'DET', 'NOUN', 'ADJ', 'ADP', 'DET', 'NOUN', 'ADP', 'PROPN', 'PUNCT', 'CCONJ', 'PUNCT', 'NOUN', '_', 'ADP', 'DET', 'NOUN', 'ADJ', '_', 'ADP', 'DET', 'PROPN', 'PUNCT', 'PUNCT', 'VERB', 'ADP', 'DET', 'NOUN', 'PROPN', 'PROPN', 'PUNCT', 'VERB', 'NUM', 'NOUN', 'ADJ', '_', 'ADP', 'DET', 'PROPN', 'PUNCT', 'PRON', 'DET', 'NOUN', 'AUX', 'AUX', 'VERB', 'ADP', 'DET', 'NOUN', 'ADP', 'PROPN', 'PUNCT']), (['Les', 'poursuites', 'ne', 'font', 'pas', 'référence', 'à', 'son', 'rôle', 'comme', 'instigateur', 'ou', 'organisateur', '.'], ['DET', 'NOUN', 'ADV', 'VERB', 'ADV', 'NOUN', 'ADP', 'DET', 'NOUN', 'ADP', 'NOUN', 'CCONJ', 'NOUN', 'PUNCT']), (['Dans', 'une', 'ordonnance', 'rendue', 'en', 'avril', '1999', ',', 'le', 'Procureur', 'de', 'la', 'République', 'de', 'Nanterre', ',', 'Yves', 'Bot', ',', 'explique', 'que', 'cette', 'lettre', 'fait', 'peser', 'à', \"l'\", 'encontre', 'de', 'Jacques', 'Chirac', 'de', 'fortes', 'présomptions', 'sur', 'sa', 'participation', '\"', 'aux', 'à', 'les', 'faits', 'de', 'prise', 'illégale', \"d'\", 'intérêt', 'et', 'de', 'recel', \"d'\", 'abus', 'de', 'biens', 'sociaux', '\"', '.'], ['ADP', 'DET', 'NOUN', 'VERB', 'ADP', 'NOUN', 'NUM', 'PUNCT', 'DET', 'NOUN', 'ADP', 'DET', 'NOUN', 'ADP', 'PROPN', 'PUNCT', 'PROPN', 'PROPN', 'PUNCT', 'VERB', 'SCONJ', 'DET', 'NOUN', 'AUX', 'VERB', 'ADP', 'DET', 'NOUN', 'ADP', 'PROPN', 'PROPN', 'DET', 'ADJ', 'NOUN', 'ADP', 'DET', 'NOUN', 'PUNCT', '_', 'ADP', 'DET', 'NOUN', 'ADP', 'NOUN', 'ADJ', 'ADP', 'NOUN', 'CCONJ', 'ADP', 'NOUN', 'ADP', 'NOUN', 'ADP', 'NOUN', 'ADJ', 'PUNCT', 'PUNCT']), (['Le', 'procureur', 'général', 'à', 'la', 'Cour', 'de', 'cassation', 'Jean-François', 'Burgelin', ',', 'par', 'ailleurs', 'proche', 'du', 'de', 'le', 'Chef', 'de', \"l'\", 'État', ',', 'décide', 'fin', 'août', 'que', 'la', 'juridiction', 'ne', 'se', 'penchera', 'pas', 'sur', 'ce', 'dossier', 'délicat', '.'], ['DET', 'NOUN', 'ADJ', 'ADP', 'DET', 'NOUN', 'ADP', 'NOUN', 'PROPN', 'PROPN', 'PUNCT', 'ADP', 'ADV', 'ADJ', '_', 'ADP', 'DET', 'NOUN', 'ADP', 'DET', 'NOUN', 'PUNCT', 'VERB', 'NOUN', 'NOUN', 'SCONJ', 'DET', 'NOUN', 'ADV', 'PRON', 'VERB', 'ADV', 'ADP', 'DET', 'NOUN', 'ADJ', 'PUNCT']), (['..', '/', '..'], ['PUNCT', 'SYM', 'PUNCT']), (['-', 'Affaire', 'des', 'de', 'les', 'HLM', 'de', 'Paris'], ['PUNCT', 'NOUN', '_', 'ADP', 'DET', 'NOUN', 'ADP', 'PROPN']), (['Affaire', 'des', 'de', 'les', 'faux', 'chargés', 'de', 'mission'], ['NOUN', '_', 'ADP', 'DET', 'ADJ', 'NOUN', 'ADP', 'NOUN']), (['Paris', '.'], ['PROPN', 'PUNCT']), (['Une', 'décision', 'qui', 'est', 'confirmée', 'en', 'appel', 'puis', 'en', 'cassation', 'en', '2002', '.'], ['DET', 'NOUN', 'PRON', 'AUX', 'VERB', 'ADP', 'NOUN', 'CCONJ', 'ADP', 'NOUN', 'ADP', 'NUM', 'PUNCT']), (['Parmi', 'elles', 'figurent', 'notamment', \"l'\", 'ancien', 'maire', 'du', 'de', 'le', '3e', 'arrondissement', ',', 'Jacques', 'Dominati', ',', 'ses', 'deux', 'fils', ',', 'Laurent', 'et', 'Philippe', ',', 'ainsi', 'que', \"l'\", 'ancien', 'bras', 'droit', 'de', 'Jean', 'Tiberi', 'à', 'la', 'fédération', 'RPR', 'de', 'Paris', ',', 'Guy', 'Legris', ',', 'également', 'impliqué', 'dans', \"l'\", 'affaire', 'du', 'de', 'le', 'Crédit', 'municipal', 'de', 'Paris', '.'], ['ADP', 'PRON', 'VERB', 'ADV', 'DET', 'ADJ', 'NOUN', '_', 'ADP', 'DET', 'ADJ', 'NOUN', 'PUNCT', 'PROPN', 'PROPN', 'PUNCT', 'DET', 'NUM', 'NOUN', 'PUNCT', 'PROPN', 'CCONJ', 'PROPN', 'PUNCT', 'ADV', 'SCONJ', 'DET', 'ADJ', 'NOUN', 'ADJ', 'ADP', 'PROPN', 'PROPN', 'ADP', 'DET', 'NOUN', 'NOUN', 'ADP', 'PROPN', 'PUNCT', 'PROPN', 'PROPN', 'PUNCT', 'ADV', 'VERB', 'ADP', 'DET', 'NOUN', '_', 'ADP', 'DET', 'NOUN', 'ADJ', 'ADP', 'PROPN', 'PUNCT']), ([\"L'\", 'audience', 'devrait', 'durer', \"jusqu'\", 'au', 'à', 'le', '31', 'octobre', '2006', '.'], ['DET', 'NOUN', 'VERB', 'VERB', 'ADP', '_', 'ADP', 'DET', 'NUM', 'NOUN', 'NUM', 'PUNCT']), (['Le', '25', 'octobre', '2006', ',', 'le', 'parquet', 'de', 'Paris', 'a', 'requis', 'contre', 'Jacques', 'Dominati', 'une', 'peine', 'de', 'douze', 'mois', 'de', 'prison', 'avec', 'sursis', ',', '2 000', 'euros', \"d'\", 'amende', 'et', 'cinq', 'ans', \"d'\", 'inéligibilité', '.'], ['DET', 'NUM', 'NOUN', 'NUM', 'PUNCT', 'DET', 'NOUN', 'ADP', 'PROPN', 'AUX', 'VERB', 'ADP', 'PROPN', 'PROPN', 'DET', 'NOUN', 'ADP', 'NUM', 'NOUN', 'ADP', 'NOUN', 'ADP', 'NOUN', 'PUNCT', 'DET', 'NOUN', 'ADP', 'NOUN', 'CCONJ', 'NUM', 'NOUN', 'ADP', 'NOUN', 'PUNCT']), (['Affaire'], ['NOUN']), (['Dans', 'la', 'pratique', ',', 'la', 'direction', 'du', 'de', 'le', 'G.O.', '(', 'le', 'Conseil', 'de', \"l'\", 'Ordre', ')', 'fait', 'passer', 'une', 'circulaire', 'aux', 'à', 'les', 'vénérables', 'maîtres', '(', 'présidents', ')', 'de', 'chaque', 'loge', 'de', 'cette', 'obédience', 'pour', 'leur', 'demander', 'de', 'rassembler', 'à', 'leur', 'niveau', 'le', 'plus', \"d'\", 'informations', 'possibles', 'sur', 'les', 'officiers', 'des', 'de', 'les', 'garnisons', 'de', 'leurs', 'villes', 'ou', 'départements', '.'], ['ADP', 'DET', 'NOUN', 'PUNCT', 'DET', 'NOUN', '_', 'ADP', 'DET', 'PROPN', 'PUNCT', 'DET', 'NOUN', 'ADP', 'DET', 'NOUN', 'PUNCT', 'AUX', 'VERB', 'DET', 'NOUN', '_', 'ADP', 'DET', 'ADJ', 'NOUN', 'PUNCT', 'NOUN', 'PUNCT', 'ADP', 'DET', 'NOUN', 'ADP', 'DET', 'NOUN', 'ADP', 'PRON', 'VERB', 'ADP', 'VERB', 'ADP', 'DET', 'NOUN', 'DET', 'ADV', 'ADP', 'NOUN', 'ADJ', 'ADP', 'DET', 'NOUN', '_', 'ADP', 'DET', 'NOUN', 'ADP', 'DET', 'NOUN', 'CCONJ', 'NOUN', 'PUNCT']), (['Les', 'fonctionnaires', \"n'\", 'ayant', 'pas', 'à', \"l'\", 'époque', 'de', 'statut', 'protecteur', 'et', 'étant', 'considérés', 'comme', 'des', 'agents', 'du', 'de', 'le', 'gouvernement', \"d'\", 'une', 'part', ',', 'les', 'militaires', 'ayant', 'un', 'rôle', 'et', 'un', 'statut', 'très', 'particulier', 'sous', 'la', 'Troisième', 'République', \"d'\", 'autre', 'part', '(', 'ils', 'ne', 'votent', 'pas', 'et', \"n'\", 'ont', 'pas', 'le', 'droit', \"d'\", 'exprimer', 'publiquement', 'des', 'opinions', 'politiques', '-', 'du', 'de', 'le', 'moins', 'pas', 'au', 'à', 'le', 'sens', 'de', 'factions', '-', 'durant', 'leur', 'service', 'actif', ')', ',', 'le', 'général', 'André', 'avait', 'paradoxalement', 'le', 'droit', '-', 'du', 'de', 'le', 'moins', 'dans', \"l'\", 'idée', 'des', 'de', 'les', 'prérogatives', 'politiques', 'de', \"l'\", 'époque', '-', 'du', 'de', 'le', 'gouvernement', 'sur', 'ses', 'agents', ',', 'bien', \"qu'\", 'il', 'soit', 'ici', 'tout', 'de', 'même', 'aux', 'à', 'les', 'limites', 'de', 'la', 'légalité', 'de', 'faire', 'surveiller', 'ses', 'officiers', ',', 'y', 'compris', 'dans', 'leur', 'vie', 'privée', ',', 'au', 'à', 'le', 'nom', 'de', \"l'\", 'intérêt', 'supérieur', 'de', \"l'\", 'État', '.'], ['DET', 'NOUN', 'ADV', 'VERB', 'ADV', 'ADP', 'DET', 'NOUN', 'DET', 'NOUN', 'ADJ', 'CCONJ', 'AUX', 'VERB', 'ADP', 'DET', 'NOUN', '_', 'ADP', 'DET', 'NOUN', 'ADP', 'DET', 'NOUN', 'PUNCT', 'DET', 'NOUN', 'VERB', 'DET', 'NOUN', 'CCONJ', 'DET', 'NOUN', 'ADV', 'ADJ', 'ADP', 'DET', 'ADJ', 'NOUN', 'ADP', 'ADJ', 'NOUN', 'PUNCT', 'PRON', 'ADV', 'VERB', 'ADV', 'CCONJ', 'ADV', 'VERB', 'ADV', 'DET', 'NOUN', 'ADP', 'VERB', 'ADV', 'DET', 'NOUN', 'ADJ', 'PUNCT', '_', 'ADP', 'DET', 'ADV', 'ADV', '_', 'ADP', 'DET', 'NOUN', 'ADP', 'NOUN', 'PUNCT', 'ADP', 'DET', 'NOUN', 'ADJ', 'PUNCT', 'PUNCT', 'DET', 'NOUN', 'PROPN', 'VERB', 'ADV', 'DET', 'NOUN', 'PUNCT', '_', 'ADP', 'DET', 'ADV', 'ADP', 'DET', 'NOUN', '_', 'ADP', 'DET', 'NOUN', 'ADJ', 'ADP', 'DET', 'NOUN', 'PUNCT', '_', 'ADP', 'DET', 'NOUN', 'ADP', 'DET', 'NOUN', 'PUNCT', 'ADV', 'SCONJ', 'PRON', 'AUX', 'ADV', 'ADV', 'ADP', 'ADV', '_', 'ADP', 'DET', 'NOUN', 'ADP', 'DET', 'NOUN', 'ADP', 'AUX', 'VERB', 'DET', 'NOUN', 'PUNCT', 'PRON', 'ADJ', 'ADP', 'DET', 'NOUN', 'ADJ', 'PUNCT', '_', 'ADP', 'DET', 'NOUN', 'ADP', 'DET', 'NOUN', 'ADJ', 'ADP', 'DET', 'NOUN', 'PUNCT']), (['Par', 'contre', ',', \"l'\", 'affaire', 'provoque', 'la', 'chute', 'de', 'Combes', 'et', 'sa', 'fin', 'politique', ',', 'avec', 'en', 'prime', \"l'\", 'ironie', 'de', 'certains', 'radicaux', 'comme', 'Clémenceau', ',', 'et', 'la', 'colère', 'des', 'de', 'les', 'républicains', 'modérés', 'du', 'de', 'le', 'bloc', 'des', 'de', 'les', 'gauches', ',', 'comme', 'les', 'futurs', 'présidents', 'Raymond', 'Poincaré', ',', 'Paul', 'Deschanel', 'ou', 'Paul', 'Doumer', ',', 'qui', 'démissionnera', 'même', 'quelque', 'temps', 'du', 'de', 'le', 'Grand', 'Orient', '.'], ['ADP', 'ADP', 'PUNCT', 'DET', 'NOUN', 'VERB', 'DET', 'NOUN', 'ADP', 'PROPN', 'CCONJ', 'DET', 'NOUN', 'ADJ', 'PUNCT', 'ADP', 'ADP', 'NOUN', 'DET', 'NOUN', 'ADP', 'DET', 'NOUN', 'ADP', 'PROPN', 'PUNCT', 'CCONJ', 'DET', 'NOUN', '_', 'ADP', 'DET', 'NOUN', 'ADJ', '_', 'ADP', 'DET', 'NOUN', '_', 'ADP', 'DET', 'NOUN', 'PUNCT', 'ADP', 'DET', 'ADJ', 'NOUN', 'PROPN', 'PROPN', 'PUNCT', 'PROPN', 'PROPN', 'CCONJ', 'PROPN', 'PROPN', 'PUNCT', 'PRON', 'VERB', 'ADV', 'DET', 'NOUN', '_', 'ADP', 'DET', 'ADJ', 'PROPN', 'PUNCT']), (['Les', 'suites', 'morales', 'de', \"l'\", 'affaire'], ['DET', 'NOUN', 'ADJ', 'ADP', 'DET', 'NOUN']), (['Tentative', \"d'\", 'analyse', 'et', 'de', 'conclusion'], ['NOUN', 'ADP', 'NOUN', 'CCONJ', 'ADP', 'NOUN']), (['Références'], ['NOUN']), (['En', 'août', '1991', ',', 'le', 'contrat', 'des', 'de', 'les', 'frégates', 'de', 'Taïwan', '(', 'contrat', 'Bravo', ')', 'est', 'signé', 'pour', '2,8', 'milliards', 'de', 'dollars', 'US', '.'], ['ADP', 'NOUN', 'NUM', 'PUNCT', 'DET', 'NOUN', '_', 'ADP', 'DET', 'NOUN', 'ADP', 'PROPN', 'PUNCT', 'NOUN', 'PROPN', 'PUNCT', 'AUX', 'VERB', 'ADP', 'NUM', 'NOUN', 'ADP', 'NOUN', 'ADJ', 'PUNCT']), (['Réseau', 'C', '(', 'Alfred', 'Sirven', ')'], ['NOUN', 'NOUN', 'PUNCT', 'PROPN', 'PROPN', 'PUNCT']), (['\"', 'Mis', 'en', 'place', '(', '...', ')', 'par', 'mesure', \"d'\", 'assurance', '\"', 'et', '\"', 'dans', 'des', 'conditions', 'non', 'rigoureuses', '\"', ',', 'écrivait', 'Jean-François', 'Briand', ',', \"l'\", 'ancien', 'directeur', 'général', 'de', 'Thomson-CSF', ',', 'ce', 'réseau', 'suscitait', 'plus', 'de', 'doutes', 'que', 'de', 'certitudes', 'chez', 'les', 'dirigeants', \"d'\", 'Elf', '.'], ['PUNCT', 'VERB', 'ADP', 'NOUN', 'PUNCT', 'PUNCT', 'PUNCT', 'ADP', 'NOUN', 'ADP', 'NOUN', 'PUNCT', 'CCONJ', 'PUNCT', 'ADP', 'DET', 'NOUN', 'ADV', 'ADJ', 'PUNCT', 'PUNCT', 'VERB', 'PROPN', 'PROPN', 'PUNCT', 'DET', 'ADJ', 'NOUN', 'ADJ', 'ADP', 'PROPN', 'PUNCT', 'DET', 'NOUN', 'VERB', 'ADV', 'ADP', 'NOUN', 'SCONJ', 'DET', 'NOUN', 'ADP', 'DET', 'NOUN', 'ADP', 'PROPN', 'PUNCT']), (['Depuis', 'le', '4', 'juillet', '1991', ',', 'Alfred', 'Sirven', 'et', 'Christine', 'Deviers-Joncour', 'avaient', 'mis', 'en', 'place', 'un', 'dispositif', 'bancaire', 'destiné', 'à', 'accueillir', 'la', 'commission', 'espérée', '.'], ['ADP', 'DET', 'NUM', 'NOUN', 'NUM', 'PUNCT', 'PROPN', 'PROPN', 'CCONJ', 'PROPN', 'PROPN', 'AUX', 'VERB', 'ADP', 'NOUN', 'DET', 'NOUN', 'ADJ', 'VERB', 'ADP', 'VERB', 'DET', 'NOUN', 'VERB', 'PUNCT']), (['-', 'Ex-directeur', 'adjoint', 'chez', 'Thomson-CSF', ',', 'Alain', 'Fribourg', 'a', 'assuré', 'aux', 'à', 'les', 'juges', 'avoir', '\"', 'toujours', 'considéré', 'à', \"l'\", 'époque', 'que', \"c'\", 'était', 'le', 'parti', 'au', 'à', 'le', 'pouvoir', 'à', 'Taïwan', 'qui', 'bénéficiait', 'pour', 'une', 'bonne', 'partie', 'de', 'ce', 'que', \"l'on\", 'versait', 'à', 'M.', 'Wang', '\"', '.'], ['PUNCT', 'NOUN', 'ADJ', 'ADP', 'PROPN', 'PUNCT', 'PROPN', 'PROPN', 'AUX', 'VERB', '_', 'ADP', 'DET', 'NOUN', 'AUX', 'PUNCT', 'ADV', 'VERB', 'ADP', 'DET', 'NOUN', 'SCONJ', 'PRON', 'AUX', 'DET', 'NOUN', '_', 'ADP', 'DET', 'NOUN', 'ADP', 'PROPN', 'PRON', 'VERB', 'ADP', 'DET', 'ADJ', 'NOUN', 'ADP', 'PRON', 'PRON', 'PRON', 'VERB', 'ADP', 'NOUN', 'PROPN', 'PUNCT', 'PUNCT']), (['Il', 'est', 'probable', 'que', 'ce', 'blocage', 'a', 'eu', 'lieu', 'avant', 'la', 'dispersion', 'des', 'de', 'les', 'commissions', 'occultes', '.'], ['PRON', 'AUX', 'ADJ', 'SCONJ', 'DET', 'NOUN', 'AUX', 'VERB', 'NOUN', 'ADP', 'DET', 'NOUN', '_', 'ADP', 'DET', 'NOUN', 'ADJ', 'PUNCT']), (['-', 'Joël', 'Bucher', ',', 'ancien', 'directeur', 'adjoint', 'de', 'la', 'Société', 'générale', 'à', 'Taïwan', '(', 'Sogenal', ')', 'entre', '1987', 'et', '1990', ',', 'a', 'souligné', \"l'\", 'implication', 'de', 'plusieurs', 'banques', 'française', 'dans', 'le', 'système', 'de', 'commissions', 'installés', 'autour', 'des', 'de', 'les', 'ventes', \"d'\", 'armes', 'du', 'de', 'le', 'début', '1990', '(', 'frégates', 'La', 'Fayette', ',', 'Mirages', '2000', 'Dassault', ',', 'missiles', 'MICA', 'Matra', ')', '.'], ['PUNCT', 'PROPN', 'PROPN', 'PUNCT', 'ADJ', 'NOUN', 'ADJ', 'ADP', 'DET', 'PROPN', 'ADJ', 'ADP', 'PROPN', 'PUNCT', 'PROPN', 'PUNCT', 'ADP', 'NUM', 'CCONJ', 'NUM', 'PUNCT', 'AUX', 'VERB', 'DET', 'NOUN', 'ADP', 'DET', 'NOUN', 'ADJ', 'ADP', 'DET', 'NOUN', 'ADP', 'NOUN', 'VERB', 'ADV', '_', 'ADP', 'DET', 'NOUN', 'ADP', 'NOUN', '_', 'ADP', 'DET', 'NOUN', 'NUM', 'PUNCT', 'NOUN', 'DET', 'PROPN', 'PUNCT', 'NOUN', 'NUM', 'PROPN', 'PUNCT', 'NOUN', 'PROPN', 'PROPN', 'PUNCT', 'PUNCT']), (['-', 'Audition', 'de', 'M.', 'Joël', 'Bucher', ',', 'ancien', 'directeur', 'général', 'adjoint', 'de', 'la', 'Société', 'générale', 'à', 'Taiwan', ',', 'par', 'la', 'mission', 'parlementaire', 'sur', 'les', 'obstacles', 'au', 'à', 'le', 'contrôle', 'et', 'à', 'la', 'répression', 'de', 'la', 'délinquance', 'financière', 'et', 'du', 'de', 'le', 'blanchiment', 'des', 'de', 'les', 'capitaux', 'en', 'Europe', ',', 'le', '22', 'mars', '2001', '(', 'Volume', '5', '-', 'Le', 'Grand', 'Duché', 'du', 'de', 'le', 'Luxembourg', ')', '.'], ['PUNCT', 'NOUN', 'ADP', 'NOUN', 'PROPN', 'PROPN', 'PUNCT', 'ADJ', 'NOUN', 'ADJ', 'ADJ', 'ADP', 'DET', 'PROPN', 'ADJ', 'ADP', 'PROPN', 'PUNCT', 'ADP', 'DET', 'NOUN', 'ADJ', 'ADP', 'DET', 'NOUN', '_', 'ADP', 'DET', 'NOUN', 'CCONJ', 'ADP', 'DET', 'NOUN', 'ADP', 'DET', 'NOUN', 'ADJ', 'CCONJ', '_', 'ADP', 'DET', 'NOUN', '_', 'ADP', 'DET', 'NOUN', 'ADP', 'PROPN', 'PUNCT', 'DET', 'NUM', 'NOUN', 'NUM', 'PUNCT', 'NOUN', 'NUM', 'PUNCT', 'DET', 'ADJ', 'NOUN', '_', 'ADP', 'DET', 'PROPN', 'PUNCT', 'PUNCT']), (['-', 'Une', 'information', 'judiciaire', 'contre', 'X', 'a', 'été', 'ouverte', 'en', 'juin', '2001', 'pour', '\"', 'abus', 'de', 'biens', 'sociaux', 'et', 'recel', '\"', 'après', 'la', 'découverte', 'sur', 'un', 'compte', 'suisse', ',', 'et', 'la', 'mise', 'sous', 'séquestre', ',', 'de', 'plusieurs', 'dizaines', 'de', 'millions', \"d'\", 'euros', 'qui', 'pourrait', 'être', 'liée', 'à', 'cette', 'affaire', '.'], ['PUNCT', 'DET', 'NOUN', 'ADJ', 'ADP', 'NOUN', 'AUX', 'AUX', 'VERB', 'ADP', 'NOUN', 'NUM', 'ADP', 'PUNCT', 'NOUN', 'ADP', 'NOUN', 'ADJ', 'CCONJ', 'NOUN', 'PUNCT', 'ADP', 'DET', 'NOUN', 'ADP', 'DET', 'NOUN', 'ADJ', 'PUNCT', 'CCONJ', 'DET', 'NOUN', 'ADP', 'NOUN', 'PUNCT', 'ADP', 'DET', 'NOUN', 'ADP', 'NOUN', 'ADP', 'NOUN', 'PRON', 'VERB', 'AUX', 'VERB', 'ADP', 'DET', 'NOUN', 'PUNCT']), (['Secret', 'Défense'], ['NOUN', 'NOUN']), (['Le', '4', 'octobre', '2006', 'et', 'pour', 'la', 'quatrième', 'fois', 'depuis', '2001', ',', 'le', 'ministre', 'de', \"l'\", 'Economie', 'Thierry', 'Breton', 'a', 'une', 'nouvelle', 'fois', 'refusé', 'de', 'déclassifier', 'les', 'documents', 'des', 'de', 'les', 'douanes', 'dans', \"l'\", 'affaire', 'des', 'de', 'les', 'frégates', 'de', 'Taïwan', '.'], ['DET', 'NUM', 'NOUN', 'NUM', 'CCONJ', 'ADP', 'DET', 'ADJ', 'NOUN', 'ADP', 'NUM', 'PUNCT', 'DET', 'NOUN', 'ADP', 'DET', 'NOUN', 'PROPN', 'PROPN', 'AUX', 'DET', 'ADJ', 'NOUN', 'VERB', 'ADP', 'VERB', 'DET', 'NOUN', '_', 'ADP', 'DET', 'NOUN', 'ADP', 'DET', 'NOUN', '_', 'ADP', 'DET', 'NOUN', 'ADP', 'PROPN', 'PUNCT']), (['-', 'Le', '16', 'juin', '2006', ',', 'les', 'juges', 'Renaud', 'van', 'Ruymbeke', 'et', 'Xavière', 'Simeoni', '(', 'qui', 'remplace', 'Dominique', 'de', 'Talancé', ')', 'ont', 'adressé', 'une', 'nouvelle', 'demande', 'de', 'levée', 'du', 'de', 'le', 'secret', 'défense', 'au', 'à', 'le', 'ministère', 'de', \"l'\", 'Économie', 'et', 'des', 'de', 'les', 'Finances', ',', 'seul', 'habilité', 'à', 'saisir', 'la', 'commission', 'consultative', 'du', 'de', 'le', 'secret', 'de', 'la', 'défense', 'nationale', '(', 'CCSDN', ')', '.'], ['PUNCT', 'DET', 'NUM', 'NOUN', 'NUM', 'PUNCT', 'DET', 'NOUN', 'PROPN', 'PROPN', 'PROPN', 'CCONJ', 'PROPN', 'PROPN', 'PUNCT', 'PRON', 'VERB', 'PROPN', 'ADP', 'PROPN', 'PUNCT', 'AUX', 'VERB', 'DET', 'ADJ', 'NOUN', 'ADP', 'NOUN', '_', 'ADP', 'DET', 'NOUN', 'NOUN', '_', 'ADP', 'DET', 'NOUN', 'ADP', 'DET', 'NOUN', 'CCONJ', '_', 'ADP', 'DET', 'NOUN', 'PUNCT', 'ADJ', 'VERB', 'ADP', 'VERB', 'DET', 'NOUN', 'ADJ', '_', 'ADP', 'DET', 'NOUN', 'ADP', 'DET', 'NOUN', 'ADJ', 'PUNCT', 'PROPN', 'PUNCT', 'PUNCT']), (['-', 'En', '2001', ',', 'le', 'juge', 'genevois', 'Paul', 'Perraudin', 'a', 'bloqué', 'à', 'Zurich', '1,2', 'milliard', 'de', 'francs', 'suisses', 'appartenant', 'sur', 'les', 'comptes', 'suisses', 'de', \"l'\", 'intermédiaire', 'taiwanais', ',', 'Andrew', 'Wang', ',', '73', 'ans', '.'], ['PUNCT', 'ADP', 'NUM', 'PUNCT', 'DET', 'NOUN', 'ADJ', 'PROPN', 'PROPN', 'AUX', 'VERB', 'ADP', 'PROPN', 'NUM', 'NOUN', 'ADP', 'NOUN', 'ADJ', 'VERB', 'ADP', 'DET', 'NOUN', 'ADJ', 'ADP', 'DET', 'NOUN', 'ADJ', 'PUNCT', 'PROPN', 'PROPN', 'PUNCT', 'NUM', 'NOUN', 'PUNCT']), ([\"L'\", 'enquête', 'à', 'Taïwan'], ['DET', 'NOUN', 'ADP', 'PROPN']), (['-', \"L'\", 'actuelle', 'direction', 'de', 'Thales', ',', 'présidée', 'par', 'Denis', 'Ranque', ',', 'dit', \"n'\", 'être', 'pas', 'concernée', 'par', \"l'\", 'enquête', ',', 'et', \"s'\", 'est', 'désolidarisée', \"d'\", 'Alain', 'Gomez', ',', 'PDG', 'de', 'Thomson', 'CSF', 'au', 'à', 'le', 'moment', 'des', 'de', 'les', 'faits', '.'], ['PUNCT', 'DET', 'ADJ', 'NOUN', 'ADP', 'PROPN', 'PUNCT', 'VERB', 'ADP', 'PROPN', 'PROPN', 'PUNCT', 'VERB', 'ADV', 'AUX', 'ADV', 'VERB', 'ADP', 'DET', 'NOUN', 'PUNCT', 'CCONJ', 'PRON', 'AUX', 'VERB', 'ADP', 'PROPN', 'PROPN', 'PUNCT', 'NOUN', 'ADP', 'PROPN', 'PROPN', '_', 'ADP', 'DET', 'NOUN', '_', 'ADP', 'DET', 'NOUN', 'PUNCT']), (['-', 'Jacques', 'Morisson', ':', 'Capitaine', 'de', 'vaisseau', 'de', 'la', 'marine', 'française', ',', 'il', 'était', 'négociateur', 'du', 'de', 'le', 'volet', 'technique', 'de', 'la', 'vente', 'des', 'de', 'les', 'frégates', 'à', 'Taiwan', '.'], ['PUNCT', 'PROPN', 'PROPN', 'PUNCT', 'NOUN', 'ADP', 'NOUN', 'ADP', 'DET', 'NOUN', 'ADJ', 'PUNCT', 'PRON', 'AUX', 'NOUN', '_', 'ADP', 'DET', 'NOUN', 'ADJ', 'ADP', 'DET', 'NOUN', '_', 'ADP', 'DET', 'NOUN', 'ADP', 'PROPN', 'PUNCT']), (['Il', 'conçut', 'le', 'montage', 'financier', 'de', \"l'\", 'opération', 'Bravo', '.'], ['PRON', 'VERB', 'DET', 'NOUN', 'ADJ', 'ADP', 'DET', 'NOUN', 'PROPN', 'PUNCT']), (['Références'], ['NOUN']), (['-', 'Des', 'frégates', 'et', 'des', 'morts', ',', 'Swiss', 'Info', ',', '22', 'juin', '2002'], ['PUNCT', 'DET', 'NOUN', 'CCONJ', 'DET', 'NOUN', 'PUNCT', 'PROPN', 'PROPN', 'PUNCT', 'NUM', 'NOUN', 'NUM']), (['Épilogue'], ['NOUN']), (['Références'], ['NOUN']), (['ISBN', '2840985314'], ['NOUN', 'NUM']), (['-', 'Christine', 'Deviers-Joncour', ',', 'Opération', 'Bravo', ',', 'Pocket', '(', '2000', ')', '.'], ['PUNCT', 'PROPN', 'PROPN', 'PUNCT', 'NOUN', 'PROPN', 'PUNCT', 'PROPN', 'PUNCT', 'NUM', 'PUNCT', 'PUNCT']), (['République', 'de', 'Chine'], ['PROPN', 'ADP', 'PROPN']), (['Chronologie'], ['NOUN']), (['Il', \"s'\", 'étonne', 'également', 'des', 'de', 'les', 'tarifs', '-', '100 000', 'francs', 'la', 'page', '(', '15 000', ')', '-', 'demandés', 'aux', 'à', 'les', 'entreprises', 'qui', 'passent', 'des', 'publicités', 'dans', 'Le', 'Clichois', ',', 'modeste', 'journal', 'électoral', 'de', 'Didier', 'Schuller', '.'], ['PRON', 'PRON', 'VERB', 'ADV', '_', 'ADP', 'DET', 'NOUN', 'PUNCT', 'NUM', 'NOUN', 'DET', 'NOUN', 'PUNCT', 'NUM', 'PUNCT', 'PUNCT', 'VERB', '_', 'ADP', 'DET', 'NOUN', 'PRON', 'VERB', 'DET', 'NOUN', 'ADP', 'DET', 'PROPN', 'PUNCT', 'ADJ', 'NOUN', 'ADJ', 'ADP', 'PROPN', 'PROPN', 'PUNCT']), (['-', '21', 'décembre', '1994', ':', 'le', 'Dr', 'Jean-Pierre', 'Maréchal', ',', 'beau-père', 'du', 'de', 'le', 'juge', 'Eric', 'Halphen', ',', 'est', 'mis', 'en', 'examen', 'pour', 'trafic', \"d'\", 'influence', 'et', 'extorsion', 'de', 'fonds', '.'], ['PUNCT', 'NUM', 'NOUN', 'NUM', 'PUNCT', 'DET', 'NOUN', 'PROPN', 'PROPN', 'PUNCT', 'NOUN', '_', 'ADP', 'DET', 'NOUN', 'PROPN', 'PROPN', 'PUNCT', 'AUX', 'VERB', 'ADP', 'NOUN', 'ADP', 'NOUN', 'ADP', 'NOUN', 'CCONJ', 'NOUN', 'ADP', 'NOUN', 'PUNCT']), (['Les', 'enquêteurs', 'placent', 'sous', 'scellés', '170', 'cartons', 'de', 'documents', ',', 'essentiellement', 'relatifs', 'à', 'la', 'passation', 'des', 'de', 'les', 'marchés', 'publics', 'et', 'aux', 'à', 'les', 'appels', \"d'\", 'offre', 'de', \"l'\", 'organisme', '.'], ['DET', 'NOUN', 'VERB', 'ADP', 'NOUN', 'NUM', 'NOUN', 'ADP', 'NOUN', 'PUNCT', 'ADV', 'ADJ', 'ADP', 'DET', 'NOUN', '_', 'ADP', 'DET', 'NOUN', 'ADJ', 'CCONJ', '_', 'ADP', 'DET', 'NOUN', 'ADP', 'NOUN', 'ADP', 'DET', 'NOUN', 'PUNCT']), (['-', 'octobre', '1997', ':', 'Demande', \"d'\", 'extradition', 'de', 'Didier', 'Schuller', ',', 'localisé', 'aux', 'à', 'les', 'Bahamas', ',', 'puis', 'en', 'République', 'Dominicaine'], ['PUNCT', 'NOUN', 'NUM', 'PUNCT', 'NOUN', 'ADP', 'NOUN', 'ADP', 'PROPN', 'PROPN', 'PUNCT', 'VERB', '_', 'ADP', 'DET', 'PROPN', 'PUNCT', 'CCONJ', 'ADP', 'PROPN', 'ADJ']), (['-', 'février', '2005', ':', 'Didier', 'Schuller', 'et', 'Patrick', 'Balkany', 'sont', 'renvoyés', 'devant', 'le', 'tribunal', 'correctionnel', 'de', 'Créteil', 'aux', 'à', 'les', 'côtés', 'de', 'huit', 'autres', 'prévenus', '.'], ['PUNCT', 'NOUN', 'NUM', 'PUNCT', 'PROPN', 'PROPN', 'CCONJ', 'PROPN', 'PROPN', 'AUX', 'VERB', 'ADP', 'DET', 'NOUN', 'ADJ', 'ADP', 'PROPN', '_', 'ADP', 'DET', 'NOUN', 'ADP', 'NUM', 'ADJ', 'NOUN', 'PUNCT']), (['-', '18', 'octobre', '2005', ':', 'A', \"l'\", 'issue', 'du', 'de', 'le', 'procès', ',', 'Didier', 'Schuller', 'est', 'condamné', 'à', 'cinq', 'ans', 'de', 'prison', ',', 'dont', 'trois', 'avec', 'sursis', ',', 'ainsi', \"qu'\", 'à', 'une', 'amende', 'de', '150.000', 'euros', ',', 'pour', 'trafic', \"d'\", 'influence', ',', 'recel', 'et', 'complicité', \"d'\", 'abus', 'de', 'biens', 'sociaux', '.'], ['PUNCT', 'NUM', 'NOUN', 'NUM', 'PUNCT', 'ADP', 'DET', 'NOUN', '_', 'ADP', 'DET', 'NOUN', 'PUNCT', 'PROPN', 'PROPN', 'AUX', 'VERB', 'ADP', 'NUM', 'NOUN', 'ADP', 'NOUN', 'PUNCT', 'PRON', 'NUM', 'ADP', 'NOUN', 'PUNCT', 'ADV', 'SCONJ', 'ADP', 'DET', 'NOUN', 'ADP', 'NUM', 'NOUN', 'PUNCT', 'ADP', 'NOUN', 'ADP', 'NOUN', 'PUNCT', 'NOUN', 'CCONJ', 'NOUN', 'ADP', 'NOUN', 'ADP', 'NOUN', 'ADJ', 'PUNCT']), (['-', 'Financement', 'illégal', 'des', 'de', 'les', 'partis', 'politiques', 'français'], ['PUNCT', 'NOUN', 'ADJ', '_', 'ADP', 'DET', 'NOUN', 'ADJ', 'ADJ']), (['-', 'Hauts-de-Seine'], ['PUNCT', 'PROPN']), (['Nicolas', 'Sarkozy', 'est', 'alors', 'le', 'ministre', 'du', 'de', 'le', 'budget', 'du', 'de', 'le', 'gouvernement', 'Balladur', '.'], ['PROPN', 'PROPN', 'AUX', 'ADV', 'DET', 'NOUN', '_', 'ADP', 'DET', 'NOUN', '_', 'ADP', 'DET', 'NOUN', 'PROPN', 'PUNCT']), (['-', 'Été', '1994', ':', 'une', 'information', 'judiciaire', 'est', 'ouverte', ':', 'le', 'juge', 'Éric', 'Halphen', 'acquiert', 'vite', 'la', 'conviction', 'que', 'Jean-Claude', 'Méry', 'est', \"l'\", 'un', 'des', 'de', 'les', 'hommes', 'clefs', 'du', 'de', 'le', 'système', '.'], ['PUNCT', 'NOUN', 'NUM', 'PUNCT', 'DET', 'NOUN', 'ADJ', 'AUX', 'VERB', 'PUNCT', 'DET', 'NOUN', 'PROPN', 'PROPN', 'VERB', 'ADV', 'DET', 'NOUN', 'SCONJ', 'PROPN', 'PROPN', 'AUX', 'DET', 'PRON', '_', 'ADP', 'DET', 'NOUN', 'NOUN', '_', 'ADP', 'DET', 'NOUN', 'PUNCT']), (['Ses', 'confidences', ',', 'dûment', 'enregistrées', 'sur', 'procès-verbal', ',', 'vont', 'donner', 'à', \"l'\", 'affaire', 'une', 'dimension', 'politique', '.'], ['DET', 'NOUN', 'PUNCT', 'ADV', 'VERB', 'ADP', 'NOUN', 'PUNCT', 'VERB', 'VERB', 'ADP', 'DET', 'NOUN', 'DET', 'NOUN', 'ADJ', 'PUNCT']), (['En', 'ce', 'qui', 'concerne', 'Robert', 'Pandraud', ',', 'qui', 'avait', 'déjà', 'rencontré', 'à', 'plusieurs', 'reprises', 'Francis', 'Poullain', ',', 'les', 'fonds', 'lui', 'auraient', 'été', 'transmis', 'par', 'Rémy', 'Halbwax', ',', 'ancien', 'policier', 'révoqué', '.'], ['ADP', 'PRON', 'PRON', 'VERB', 'PROPN', 'PROPN', 'PUNCT', 'PRON', 'AUX', 'ADV', 'VERB', 'ADP', 'DET', 'NOUN', 'PROPN', 'PROPN', 'PUNCT', 'DET', 'NOUN', 'PRON', 'AUX', 'AUX', 'VERB', 'ADP', 'PROPN', 'PROPN', 'PUNCT', 'ADJ', 'NOUN', 'VERB', 'PUNCT']), (['RH', ':', '190 500', ';'], ['PROPN', 'PUNCT', 'NUM', 'PUNCT']), (['Jean-Claude', 'Méry', 'est', 'placé', 'sous', 'mandat', 'de', 'dépôt', '.'], ['PROPN', 'PROPN', 'AUX', 'VERB', 'ADP', 'NOUN', 'ADP', 'NOUN', 'PUNCT']), (['Selon', 'Le', 'Monde', 'du', 'de', 'le', '25', 'janvier', '2006', ',', 'on', 'lui', 'reproche', \"d'\", 'avoir', 'perçu', 'près', 'de', '40', 'millions', 'de', 'francs', 'en', 'trois', 'ans', ',', 'en', 'échange', \"d'\", 'informations', 'livrées', 'aux', 'à', 'les', 'entreprises', 'sur', 'les', 'marchés', 'de', \"l'\", 'OPAC', '.'], ['ADP', 'DET', 'PROPN', '_', 'ADP', 'DET', 'NUM', 'NOUN', 'NUM', 'PUNCT', 'PRON', 'PRON', 'VERB', 'ADP', 'AUX', 'VERB', 'ADV', 'ADP', 'NUM', 'NOUN', 'ADP', 'NOUN', 'ADP', 'NUM', 'NOUN', 'PUNCT', 'ADP', 'NOUN', 'ADP', 'NOUN', 'VERB', '_', 'ADP', 'DET', 'NOUN', 'ADP', 'DET', 'NOUN', 'ADP', 'DET', 'PROPN', 'PUNCT']), (['-', '8', 'novembre', '1994', ':', 'Rémy', 'Halbwax', 'est', 'mis', 'en', 'examen', '.'], ['PUNCT', 'NUM', 'NOUN', 'NUM', 'PUNCT', 'PROPN', 'PROPN', 'AUX', 'VERB', 'ADP', 'NOUN', 'PUNCT']), (['-', '14', 'novembre', '1994', ':', 'Michel', 'Roussin', ',', 'ancien', 'directeur', 'de', 'cabinet', 'de', 'Jacques', 'Chirac', ',', 'est', 'mis', 'en', 'examen', '.'], ['PUNCT', 'NUM', 'NOUN', 'NUM', 'PUNCT', 'PROPN', 'PROPN', 'PUNCT', 'ADJ', 'NOUN', 'ADP', 'NOUN', 'ADP', 'PROPN', 'PROPN', 'PUNCT', 'AUX', 'VERB', 'ADP', 'NOUN', 'PUNCT']), ([\"C'\", 'est', 'le', 'début', 'de', \"l'\", 'affaire', 'Schuller-Maréchal', '.'], ['PRON', 'AUX', 'DET', 'NOUN', 'ADP', 'DET', 'NOUN', 'PROPN', 'PUNCT']), (['Le', 'Dr', 'Maréchal', 'lui', 'aurait', 'proposé', 'le', '11', 'octobre', '1994', ',', 'de', 'faire', 'pression', 'sur', 'son', 'gendre', 'pour', \"qu'\", 'il', 'freine', 'son', 'instruction', 'en', 'direction', 'des', 'de', 'les', 'Hauts-de-Seine', '.'], ['DET', 'NOUN', 'PROPN', 'PRON', 'AUX', 'VERB', 'DET', 'NUM', 'NOUN', 'NUM', 'PUNCT', 'ADP', 'VERB', 'NOUN', 'ADP', 'DET', 'NOUN', 'ADP', 'SCONJ', 'PRON', 'VERB', 'DET', 'NOUN', 'ADP', 'NOUN', '_', 'ADP', 'DET', 'PROPN', 'PUNCT']), (['Son', 'correspondant', 'lui', 'indique', \"qu'\", 'une', 'transaction', 'doit', 'se', 'dérouler', 'à', \"l'\", 'heure', 'du', 'de', 'le', 'déjeuner', 'à', \"l'\", 'hôtel', 'Mercure', 'de', 'Nogent-sur-Marne', ':', 'une', 'femme', 'doit', 'remettre', '50 000', 'francs', 'à', 'un', 'homme', 'aux', 'à', 'les', 'cheveux', 'bruns', 'qui', 'arrivera', 'en', '4X4', '.'], ['DET', 'NOUN', 'PRON', 'VERB', 'SCONJ', 'DET', 'NOUN', 'VERB', 'PRON', 'VERB', 'ADP', 'DET', 'NOUN', '_', 'ADP', 'DET', 'NOUN', 'ADP', 'DET', 'NOUN', 'PROPN', 'ADP', 'PROPN', 'PUNCT', 'DET', 'NOUN', 'VERB', 'VERB', 'DET', 'NOUN', 'ADP', 'DET', 'NOUN', '_', 'ADP', 'DET', 'NOUN', 'ADJ', 'PRON', 'VERB', 'ADP', 'NOUN', 'PUNCT']), (['-', '17', 'mars', '1995', ':', 'mise', 'en', 'examen', 'de', 'Robert', 'Pandraud', ',', 'membre', 'RPR', 'du', 'de', 'le', 'conseil', 'régional', \"d'\", 'Ile-de-France', '.'], ['PUNCT', 'NUM', 'NOUN', 'NUM', 'PUNCT', 'NOUN', 'ADP', 'NOUN', 'ADP', 'PROPN', 'PROPN', 'PUNCT', 'NOUN', 'PROPN', '_', 'ADP', 'DET', 'NOUN', 'ADJ', 'ADP', 'PROPN', 'PUNCT']), (['Elle', 'sera', 'annulée', 'en', 'octobre', '2000', '.'], ['PRON', 'AUX', 'VERB', 'ADP', 'NOUN', 'NUM', 'PUNCT']), (['Le', 'ministre', 'de', 'la', 'justice', 'Jacques', 'Toubon', 'envoie', 'un', 'hélicoptère', 'dans', \"l'\", 'Himalaya', 'pour', 'ramener', 'en', 'urgence', 'le', 'procureur', 'de', 'la', 'République', 'de', \"l'\", 'Essonne', 'chargé', \"d'\", 'éviter', 'des', 'ennuis', 'à', 'Xavière', 'Tiberi', '.'], ['DET', 'NOUN', 'ADP', 'DET', 'NOUN', 'PROPN', 'PROPN', 'VERB', 'DET', 'NOUN', 'ADP', 'DET', 'PROPN', 'ADP', 'VERB', 'ADP', 'NOUN', 'DET', 'NOUN', 'ADP', 'DET', 'NOUN', 'ADP', 'DET', 'PROPN', 'VERB', 'ADP', 'VERB', 'DET', 'NOUN', 'ADP', 'PROPN', 'PROPN', 'PUNCT']), (['Selon', \"l'\", 'accusation', ':', '\"', \"L'\", 'instruction', \"n'\", 'est', 'pas', 'parvenue', 'à', 'établir', 'formellement', \"l'\", 'implication', 'personnelle', 'des', 'de', 'les', 'responsables', 'au', 'à', 'le', 'sein', 'de', \"l'\", 'appareil', 'politique', 'du', 'de', 'le', 'RPR', '.', '\"'], ['ADP', 'DET', 'NOUN', 'PUNCT', 'PUNCT', 'DET', 'NOUN', 'ADV', 'AUX', 'ADV', 'VERB', 'ADP', 'VERB', 'ADV', 'DET', 'NOUN', 'ADJ', '_', 'ADP', 'DET', 'NOUN', '_', 'ADP', 'DET', 'NOUN', 'ADP', 'DET', 'NOUN', 'ADJ', '_', 'ADP', 'DET', 'NOUN', 'PUNCT', 'PUNCT']), (['-', 'En', \"l'\", 'absence', 'de', 'tout', 'responsable', 'politique', ',', \"c'\", 'est', \"l'\", 'ancien', 'directeur', 'général', 'de', \"l'\", 'Office', 'public', 'HLM', 'de', 'Paris', 'et', 'élu', 'corrézien', ',', 'Georges', 'Pérol', ',', 'qui', 'fait', 'figure', 'de', 'clé', 'de', 'voûte', 'de', 'ce', 'vaste', 'système', 'de', 'versements', 'de', 'commissions', 'par', 'les', 'entreprises', 'et', 'de', 'détournement', 'de', 'procédures', 'dans', \"l'\", 'attribution', 'de', 'marchés', 'publics', '.'], ['PUNCT', 'ADP', 'DET', 'NOUN', 'ADP', 'DET', 'NOUN', 'ADJ', 'PUNCT', 'PRON', 'AUX', 'DET', 'ADJ', 'NOUN', 'ADJ', 'ADP', 'DET', 'NOUN', 'ADJ', 'NOUN', 'ADP', 'PROPN', 'CCONJ', 'NOUN', 'ADJ', 'PUNCT', 'PROPN', 'PROPN', 'PUNCT', 'PRON', 'VERB', 'NOUN', 'ADP', 'NOUN', 'ADP', 'NOUN', 'ADP', 'DET', 'ADJ', 'NOUN', 'ADP', 'NOUN', 'ADP', 'NOUN', 'ADP', 'DET', 'NOUN', 'CCONJ', 'ADP', 'NOUN', 'ADP', 'NOUN', 'ADP', 'DET', 'NOUN', 'ADP', 'NOUN', 'ADJ', 'PUNCT']), (['-', 'Le', 'contrat', 'de', 'maintenance', 'et', 'de', 'rénovation', 'des', 'de', 'les', '3 092', 'cabines', \"d'\", 'ascenseurs', 'des', 'de', 'les', 'immeubles', \"d'\", 'HLM', 'parisiens', 'est', 'attribué', 'en', '1992', '.'], ['PUNCT', 'DET', 'NOUN', 'ADP', 'NOUN', 'CCONJ', 'ADP', 'NOUN', '_', 'ADP', 'DET', 'NUM', 'NOUN', 'ADP', 'NOUN', '_', 'ADP', 'DET', 'NOUN', 'ADP', 'NOUN', 'ADJ', 'AUX', 'VERB', 'ADP', 'NUM', 'PUNCT']), (['Comme', 'dans', \"d'\", 'autres', 'affaires', 'politico-financières', 'françaises', 'des', 'de', 'les', 'années', '1990', ',', 'plusieurs', 'protagonistes', 'de', 'cette', 'affaire', 'appartiennent', 'à', 'des', 'loges', 'maçonniques', ':', 'Jean-Claude', 'Méry', ',', 'Jacky', 'Chaisaz', ',', 'Didier', 'Schuller', '(', 'loge', 'Silence', 'de', 'la', 'GLNF', ')', '.'], ['ADP', 'ADP', 'DET', 'ADJ', 'NOUN', 'ADJ', 'ADJ', '_', 'ADP', 'DET', 'NOUN', 'NUM', 'PUNCT', 'DET', 'NOUN', 'ADP', 'DET', 'NOUN', 'VERB', 'ADP', 'DET', 'NOUN', 'ADJ', 'PUNCT', 'PROPN', 'PROPN', 'PUNCT', 'PROPN', 'PROPN', 'PUNCT', 'PROPN', 'PROPN', 'PUNCT', 'NOUN', 'PROPN', 'ADP', 'DET', 'PROPN', 'PUNCT', 'PUNCT']), (['-', 'Le', 'Monde', 'du', 'de', 'le', '22', 'septembre', '2000'], ['PUNCT', 'DET', 'PROPN', '_', 'ADP', 'DET', 'NUM', 'NOUN', 'NUM']), (['Affaire', 'des', 'de', 'les', 'marchés', 'publics', \"d'\", 'Île-de-France'], ['NOUN', '_', 'ADP', 'DET', 'NOUN', 'ADJ', 'ADP', 'PROPN']), ([\"L'\", 'affaire', 'des', 'de', 'les', 'marchés', 'publics', \"d'\", 'Île-de-France', 'ou', 'Affaire', 'des', 'de', 'les', 'marchés', 'truqués', 'des', 'de', 'les', 'lycées', \"d'\", 'Île-de-France', 'est', 'un', 'dossier', 'emblématique', 'des', 'de', 'les', 'dérives', 'du', 'de', 'le', 'financement', 'des', 'de', 'les', 'partis', 'politiques', 'dans', 'les', 'années', '1990', '.'], ['DET', 'NOUN', '_', 'ADP', 'DET', 'NOUN', 'ADJ', 'ADP', 'PROPN', 'CCONJ', 'NOUN', '_', 'ADP', 'DET', 'NOUN', 'VERB', '_', 'ADP', 'DET', 'NOUN', 'ADP', 'PROPN', 'AUX', 'DET', 'NOUN', 'ADJ', '_', 'ADP', 'DET', 'NOUN', '_', 'ADP', 'DET', 'NOUN', '_', 'ADP', 'DET', 'NOUN', 'ADJ', 'ADP', 'DET', 'NOUN', 'NUM', 'PUNCT']), (['Chargé', 'des', 'de', 'les', 'lycées', 'depuis', 'les', 'premières', 'lois', 'de', 'décentralisation', ',', 'le', 'conseil', 'régional', 'dirigé', 'par', 'le', 'RPR', 'et', 'dont', 'le', 'président', 'était', 'Michel', 'Giraud', 'a', 'engagé', ',', 'entre', '1988', 'et', '1997', ',', '24', 'milliards', 'de', 'francs', 'de', 'travaux', 'de', 'rénovation', ',', 'extension', 'et', 'construction', 'dans', '471', 'établissements', ',', 'il', 'a', 'été', 'prélevé', '2', '%', 'de', '\"', 'commissions', 'occultes', '\"', 'que', 'se', 'sont', 'partagés', 'ces', 'grands', 'partis', ',', 'au', 'à', 'le', 'prorata', 'de', 'leur', 'représentation', 'à', \"l'\", 'assemblée', 'régionale', '(', '0,8', '%', 'pour', 'la', 'gauche', 'et', '1,2', '%', 'pour', 'la', 'droite', ')', '.'], ['VERB', '_', 'ADP', 'DET', 'NOUN', 'ADP', 'DET', 'ADJ', 'NOUN', 'ADP', 'NOUN', 'PUNCT', 'DET', 'NOUN', 'ADJ', 'VERB', 'ADP', 'DET', 'PROPN', 'CCONJ', 'PRON', 'DET', 'NOUN', 'AUX', 'PROPN', 'PROPN', 'AUX', 'VERB', 'PUNCT', 'ADP', 'NUM', 'CCONJ', 'NUM', 'PUNCT', 'NUM', 'NOUN', 'ADP', 'NOUN', 'ADP', 'NOUN', 'ADP', 'NOUN', 'PUNCT', 'NOUN', 'CCONJ', 'NOUN', 'ADP', 'NUM', 'NOUN', 'PUNCT', 'PRON', 'AUX', 'AUX', 'VERB', 'NUM', 'NOUN', 'ADP', 'PUNCT', 'NOUN', 'ADJ', 'PUNCT', 'PRON', 'PRON', 'AUX', 'VERB', 'DET', 'ADJ', 'NOUN', 'PUNCT', '_', 'ADP', 'DET', 'NOUN', 'ADP', 'DET', 'NOUN', 'ADP', 'DET', 'NOUN', 'ADJ', 'PUNCT', 'NUM', 'NOUN', 'ADP', 'DET', 'NOUN', 'CCONJ', 'NUM', 'NOUN', 'ADP', 'DET', 'NOUN', 'PUNCT', 'PUNCT']), (['La', 'plus', 'grosse', 'part', '(', '1,2', '%', ')', 'du', 'de', 'le', '\"', 'racket', '\"', 'revint', 'au', 'à', 'le', 'RPR', ',', 'alors', 'dirigé', 'par', 'Jacques', 'Chirac', ',', 'secondé', 'par', 'Michel', 'Roussin', '.'], ['DET', 'ADV', 'ADJ', 'NOUN', 'PUNCT', 'NUM', 'NOUN', 'PUNCT', '_', 'ADP', 'DET', 'PUNCT', 'NOUN', 'PUNCT', 'VERB', '_', 'ADP', 'DET', 'PROPN', 'PUNCT', 'ADV', 'VERB', 'ADP', 'PROPN', 'PROPN', 'PUNCT', 'VERB', 'ADP', 'PROPN', 'PROPN', 'PUNCT']), (['Soit', ',', 'au', 'à', 'le', 'total', ',', 'un', 'peu', 'plus', 'de', '150', 'millions', 'de', 'francs', 'ont', 'été', 'versés', 'par', 'les', 'grands', 'groupes', ':', 'Bouygues', ',', 'Eiffage', ',', 'Spie-Batignolles', ',', 'Suez', 'et', 'Générale', 'des', 'de', 'les', 'eaux', '.'], ['ADV', 'PUNCT', '_', 'ADP', 'DET', 'NOUN', 'PUNCT', 'DET', 'ADV', 'ADV', 'ADP', 'NUM', 'NOUN', 'ADP', 'NOUN', 'AUX', 'AUX', 'VERB', 'ADP', 'DET', 'ADJ', 'NOUN', 'PUNCT', 'PROPN', 'PUNCT', 'PROPN', 'PUNCT', 'PROPN', 'PUNCT', 'PROPN', 'CCONJ', 'PROPN', '_', 'ADP', 'DET', 'NOUN', 'PUNCT']), (['Protagonistes'], ['NOUN']), (['-', 'Michel', 'Roussin', ',', 'ex-bras', 'droit', 'de', 'Jacques', 'Chirac', 'à', 'la', 'mairie', 'de', 'Paris', '.'], ['PUNCT', 'PROPN', 'PROPN', 'PUNCT', 'NOUN', 'ADJ', 'ADP', 'PROPN', 'PROPN', 'ADP', 'DET', 'NOUN', 'ADP', 'PROPN', 'PUNCT']), (['Il', 'y', 'racontait', 'notamment', 'avoir', 'remis', 'peronnellement', 'des', 'fonds', 'en', 'espèces', 'en', '1986', 'à', 'Jacques', 'Chirac', 'en', 'présence', 'de', 'Michel', 'Roussin', '.'], ['PRON', 'PRON', 'VERB', 'ADV', 'AUX', 'VERB', 'ADV', 'DET', 'NOUN', 'ADP', 'NOUN', 'ADP', 'NUM', 'ADP', 'PROPN', 'PROPN', 'ADP', 'NOUN', 'ADP', 'PROPN', 'PROPN', 'PUNCT']), (['-', 'Gérard', 'Longuet'], ['PUNCT', 'PROPN', 'PROPN']), (['Cependant', ',', 'par', 'un', 'jugement', 'de', 'la', 'Cour', 'de', 'cassation', ',', 'les', 'tribunaux', 'ne', 'peuvent', 'examiner', 'les', 'investigations', 'menées', 'sur', 'les', 'voyages', 'payés', 'en', 'espèces', 'par', 'Jacques', 'Chirac', 'pour', 'plusieurs', 'millions', 'de', 'francs', ',', 'qui', 'avaient', 'motivé', 'en', '2001', \"l'\", 'interrogatoire', 'par', 'les', 'juges', \"d'\", 'instruction', 'de', 'plusieurs', 'proches', 'du', 'de', 'le', 'chef', 'de', \"l'\", 'État', ',', 'dont', 'sa', 'fille', 'Claude', 'Chirac', '.'], ['ADV', 'PUNCT', 'ADP', 'DET', 'NOUN', 'ADP', 'DET', 'NOUN', 'ADP', 'NOUN', 'PUNCT', 'DET', 'NOUN', 'ADV', 'VERB', 'VERB', 'DET', 'NOUN', 'VERB', 'ADP', 'DET', 'NOUN', 'VERB', 'ADP', 'NOUN', 'ADP', 'PROPN', 'PROPN', 'ADP', 'DET', 'NOUN', 'ADP', 'NOUN', 'PUNCT', 'PRON', 'AUX', 'VERB', 'ADP', 'NUM', 'DET', 'NOUN', 'ADP', 'DET', 'NOUN', 'ADP', 'NOUN', 'ADP', 'DET', 'NOUN', '_', 'ADP', 'DET', 'NOUN', 'ADP', 'DET', 'NOUN', 'PUNCT', 'PRON', 'DET', 'NOUN', 'PROPN', 'PROPN', 'PUNCT']), (['Procès', 'en', 'correctionnelle'], ['NOUN', 'ADP', 'NOUN']), (['Le', 'procès', 'en', 'première', 'instance', \"s'\", 'est', 'terminé', 'le', 'mercredi', '26', 'octobre', '2005', '.'], ['DET', 'NOUN', 'ADP', 'ADJ', 'NOUN', 'PRON', 'AUX', 'VERB', 'DET', 'NOUN', 'NUM', 'NOUN', 'NUM', 'PUNCT']), (['-', 'Jean-François', 'Donzel', ',', 'élu', 'écologiste', 'dissident', 'de', 'Génération', 'écologie', ',', 'a', 'été', 'condamné', 'à', 'un', 'an', 'de', 'prison', 'ferme', '(', 'trois', 'ans', 'de', 'prison', 'dont', 'deux', 'avec', 'sursis', ')', '.'], ['PUNCT', 'PROPN', 'PROPN', 'PUNCT', 'NOUN', 'ADJ', 'ADJ', 'ADP', 'PROPN', 'NOUN', 'PUNCT', 'AUX', 'AUX', 'VERB', 'ADP', 'DET', 'NOUN', 'ADP', 'NOUN', 'ADJ', 'PUNCT', 'NUM', 'NOUN', 'ADP', 'NOUN', 'PRON', 'NUM', 'ADP', 'NOUN', 'PUNCT', 'PUNCT']), (['Procès', 'en', 'appel'], ['NOUN', 'ADP', 'NOUN']), (['Le', 'procès', 'doit', \"s'\", 'étaler', 'sur', 'cinq', 'semaines', ',', \"jusqu'\", 'au', 'à', 'le', '22', 'novembre', '2006', ',', 'à', 'raison', 'de', 'deux', 'jours', \"d'\", 'audience', 'par', 'semaine', 'en', 'moyenne', '.'], ['DET', 'NOUN', 'VERB', 'PRON', 'VERB', 'ADP', 'NUM', 'NOUN', 'PUNCT', 'ADP', '_', 'ADP', 'DET', 'NUM', 'NOUN', 'NUM', 'PUNCT', 'ADP', 'NOUN', 'ADP', 'NUM', 'NOUN', 'ADP', 'NOUN', 'ADP', 'NOUN', 'ADP', 'NOUN', 'PUNCT']), (['Références'], ['NOUN']), (['-', 'Gérard', 'Longuet'], ['PUNCT', 'PROPN', 'PROPN']), (['Plusieurs', 'clubs', 'sont', 'accusés', \"d'\", 'avoir', 'influencé', 'la', 'désignation', 'des', 'de', 'les', 'arbitres', 'pour', 'leurs', 'matches', '.'], ['DET', 'NOUN', 'AUX', 'VERB', 'ADP', 'AUX', 'VERB', 'DET', 'NOUN', '_', 'ADP', 'DET', 'NOUN', 'ADP', 'DET', 'NOUN', 'PUNCT']), (['Lors', 'de', 'ces', 'échanges', ',', 'Moggi', 'donnait', 'ses', 'instructions', 'pour', 'la', 'désignation', 'des', 'de', 'les', 'arbitres', 'dans', 'le', 'matches', 'de', 'son', 'équipe', '.'], ['ADV', 'ADP', 'DET', 'NOUN', 'PUNCT', 'PROPN', 'VERB', 'DET', 'NOUN', 'ADP', 'DET', 'NOUN', '_', 'ADP', 'DET', 'NOUN', 'ADP', 'DET', 'NOUN', 'ADP', 'DET', 'NOUN', 'PUNCT']), (['Les', 'douze', 'membres', 'du', 'de', 'le', 'Conseil', \"d'\", 'administration', 'de', 'la', 'Juve', ',', 'dont', 'faisait', 'partie', 'Moggi', ',', 'démissionnent', 'le', '11', 'mai', '2006', '[', '2', ']', '.'], ['DET', 'NUM', 'NOUN', '_', 'ADP', 'DET', 'NOUN', 'ADP', 'NOUN', 'ADP', 'DET', 'PROPN', 'PUNCT', 'PRON', 'VERB', 'NOUN', 'PROPN', 'PUNCT', 'VERB', 'DET', 'NUM', 'NOUN', 'NUM', 'PUNCT', 'NUM', 'PUNCT', 'PUNCT']), (['Elle', 'est', 'rétrogradée', 'en', 'série', 'B', '(', '2e', 'division', ')', 'avec', '30', 'points', 'de', 'pénalité', 'où', 'elle', 'retrouvera', 'la', 'Fiorentina', 'et', 'la', 'Lazio', 'Rome', 'reléguées', 'avec', 'respectivement', '12', ',', 'et', '7', 'points', 'de', 'pénalité', '.'], ['PRON', 'AUX', 'VERB', 'ADP', 'NOUN', 'NOUN', 'PUNCT', 'ADJ', 'NOUN', 'PUNCT', 'ADP', 'NUM', 'NOUN', 'ADP', 'NOUN', 'PRON', 'PRON', 'VERB', 'DET', 'PROPN', 'CCONJ', 'DET', 'PROPN', 'PROPN', 'VERB', 'ADP', 'ADV', 'NUM', 'PUNCT', 'CCONJ', 'NUM', 'NOUN', 'ADP', 'NOUN', 'PUNCT']), (['Liens', 'externes'], ['NOUN', 'ADJ']), (['Histoire', 'du', 'de', 'le', 'football', '.'], ['NOUN', '_', 'ADP', 'DET', 'NOUN', 'PUNCT']), (['Philippe', 'Rochot', ',', 'Georges', 'Hansen', ',', 'Aurel', 'Cornéa', 'et', 'Jean-Louis', 'Normandin', '.'], ['PROPN', 'PROPN', 'PUNCT', 'PROPN', 'PROPN', 'PUNCT', 'PROPN', 'PROPN', 'CCONJ', 'PROPN', 'PROPN', 'PUNCT']), (['Dernier', 'élément', 'non', 'négligeable', 'et', 'pourtant', 'souvent', '\"', 'oublié', 'par', 'la', 'presse', '\"', '.'], ['ADJ', 'NOUN', 'ADV', 'ADJ', 'CCONJ', 'ADV', 'ADV', 'PUNCT', 'VERB', 'ADP', 'DET', 'NOUN', 'PUNCT', 'PUNCT']), (['Catégorie', ':', 'Affaire', 'politico-financière', 'française'], ['NOUN', 'PUNCT', 'NOUN', 'ADJ', 'ADJ']), (['Le', '19', 'avril', '1999', 'un', 'incendie', 'ravage', 'la', 'paillote', 'Chez', 'Francis', 'construite', 'dans', \"l'\", 'illégalité', 'en', 'bord', 'de', 'mer', ',', 'sur', 'le', 'domaine', 'public', 'maritime', ',', 'plage', 'de', 'Cala', \"d'\", 'Orzo', 'au', 'à', 'le', 'sud', 'du', 'de', 'le', 'golfe', \"d'\", 'Ajaccio', 'en', 'Corse', '(', 'France', ')', '.'], ['DET', 'NUM', 'NOUN', 'NUM', 'DET', 'NOUN', 'VERB', 'DET', 'NOUN', 'ADP', 'PROPN', 'VERB', 'ADP', 'DET', 'NOUN', 'ADP', 'NOUN', 'ADP', 'NOUN', 'PUNCT', 'ADP', 'DET', 'NOUN', 'ADJ', 'ADJ', 'PUNCT', 'NOUN', 'ADP', 'PROPN', 'ADP', 'PROPN', '_', 'ADP', 'DET', 'NOUN', '_', 'ADP', 'DET', 'NOUN', 'ADP', 'PROPN', 'ADP', 'PROPN', 'PUNCT', 'PROPN', 'PUNCT', 'PUNCT']), (['-', 'Henri', 'Mazères', ',', 'colonel', 'de', 'gendarmerie', ':', '30', 'mois', 'dont', '6', 'mois', 'fermes'], ['PUNCT', 'PROPN', 'PROPN', 'PUNCT', 'NOUN', 'ADP', 'NOUN', 'PUNCT', 'NUM', 'NOUN', 'PRON', 'NUM', 'NOUN', 'ADJ']), (['Wikipédia', ':', 'ébauche', 'Corse-du-Sud', '.'], ['PROPN', 'PUNCT', 'NOUN', 'PROPN', 'PUNCT']), (['Wikipédia', ':', 'ébauche', 'droit', '.'], ['PROPN', 'PUNCT', 'NOUN', 'NOUN', 'PUNCT']), (['Les', 'photos', 'incriminées'], ['DET', 'NOUN', 'VERB']), ([\"D'\", 'après', 'les', 'commentaires', 'les', 'accompagnant', 'dans', 'leur', 'publication', 'par', 'Reuters', ',', 'il', 'y', 'a', 'notamment', 'deux', 'clichés', 'du', 'de', 'le', 'même', 'immeuble', ',', 'datés', 'respectivement', 'du', 'de', 'le', '24', 'juillet', 'et', 'du', 'de', 'le', '5', 'août', '2006', ',', 'qui', 'sont', 'censés', 'représenter', 'chacun', 'un', '\"', 'immeuble', 'de', 'Beyrouth', 'détruit', 'la', 'nuit', 'précédente', 'par', 'un', 'raid', 'israélien', '\"', '[', '3', ']', '.'], ['ADP', 'ADP', 'DET', 'NOUN', 'PRON', 'VERB', 'ADP', 'DET', 'NOUN', 'ADP', 'PROPN', 'PUNCT', 'PRON', 'PRON', 'VERB', 'ADV', 'NUM', 'NOUN', '_', 'ADP', 'DET', 'ADJ', 'NOUN', 'PUNCT', 'VERB', 'ADV', '_', 'ADP', 'DET', 'NUM', 'NOUN', 'CCONJ', '_', 'ADP', 'DET', 'NUM', 'NOUN', 'NUM', 'PUNCT', 'PRON', 'AUX', 'ADJ', 'VERB', 'PRON', 'DET', 'PUNCT', 'NOUN', 'ADP', 'PROPN', 'VERB', 'DET', 'NOUN', 'ADJ', 'ADP', 'DET', 'NOUN', 'ADJ', 'PUNCT', 'PUNCT', 'NUM', 'PUNCT', 'PUNCT']), (['Sur', 'la', 'première', ',', 'des', 'fumées', 'ont', 'été', 'rajoutées', 'par', 'ordinateur', 'sur', 'une', 'photo', 'représentant', 'un', 'quartier', 'de', 'Beyrouth', 'ayant', 'subi', 'une', 'attaque', 'aérienne', '.'], ['ADP', 'DET', 'ADJ', 'PUNCT', 'DET', 'NOUN', 'AUX', 'AUX', 'VERB', 'ADP', 'NOUN', 'ADP', 'DET', 'NOUN', 'VERB', 'DET', 'NOUN', 'ADP', 'PROPN', 'AUX', 'VERB', 'DET', 'NOUN', 'ADJ', 'PUNCT']), (['Réaction', 'de', 'Reuters'], ['NOUN', 'ADP', 'PROPN']), (['Références'], ['NOUN']), (['Drinking', 'From', 'Home', '.'], ['X', 'X', 'X', 'PUNCT']), (['-', '^', '\"', 'Reuters', 'admits', 'to', 'more', 'image', 'manipulation', '\"', '.', 'Ynetnews', '.'], ['PUNCT', 'PUNCT', 'PUNCT', 'X', 'X', 'X', 'X', 'X', 'X', 'PUNCT', 'PUNCT', 'PROPN', 'PUNCT']), (['-', '^', '\"', 'Reuters', 'withdraws', 'all', 'photos', 'by', 'Lebanese', 'freelance', '\"', ',', 'Reuters', ',', 'August', '7', ',', '2006', '.'], ['PUNCT', 'PUNCT', 'PUNCT', 'X', 'X', 'X', 'X', 'X', 'X', 'X', 'PUNCT', 'PUNCT', 'PROPN', 'PUNCT', 'NOUN', 'NUM', 'PUNCT', 'NUM', 'PUNCT']), (['Page', 'accédé', 'le', '2006-08-07', '.'], ['NOUN', 'VERB', 'DET', 'NOUN', 'PUNCT']), (['-', '(', 'fr', ')', '\"', 'La', 'guerre', 'des', 'de', 'les', 'images', '\"', '(', 'avec', 'une', 'explication', 'des', 'de', 'les', 'modifications', ')', 'par', 'Alain', 'Korkos', ',', 'La', 'Boite', 'à', 'Images', ',', '8', 'septembre', '2006'], ['PUNCT', 'PUNCT', 'NOUN', 'PUNCT', 'PUNCT', 'DET', 'NOUN', '_', 'ADP', 'DET', 'NOUN', 'PUNCT', 'PUNCT', 'ADP', 'DET', 'NOUN', '_', 'ADP', 'DET', 'NOUN', 'PUNCT', 'ADP', 'PROPN', 'PROPN', 'PUNCT', 'DET', 'PROPN', 'ADP', 'NOUN', 'PUNCT', 'NUM', 'NOUN', 'NUM']), (['Après', 'avoir', 'contribué', 'à', 'diminuer', 'le', 'soutien', 'à', 'la', 'guerre', ',', 'il', 'tourna', 'court', 'avec', 'la', 'perte', 'de', \"l'\", 'Indochine', 'et', 'le', 'climat', 'politique', 'et', 'social', 'qui', \"s'\", 'ensuivit', ',', 'peu', 'propice', 'aux', 'à', 'les', 'débats', 'sur', 'la', 'période', 'coloniale', ';', 'il', \"n'\", 'eut', 'pas', 'de', 'suites', 'judiciaires', 'en', 'France', '.'], ['ADP', 'AUX', 'VERB', 'ADP', 'VERB', 'DET', 'NOUN', 'ADP', 'DET', 'NOUN', 'PUNCT', 'PRON', 'VERB', 'ADJ', 'ADP', 'DET', 'NOUN', 'ADP', 'DET', 'PROPN', 'CCONJ', 'DET', 'NOUN', 'ADJ', 'CCONJ', 'ADJ', 'PRON', 'PRON', 'VERB', 'PUNCT', 'ADV', 'ADJ', '_', 'ADP', 'DET', 'NOUN', 'ADP', 'DET', 'NOUN', 'ADJ', 'PUNCT', 'PRON', 'ADV', 'VERB', 'ADV', 'DET', 'NOUN', 'ADJ', 'ADP', 'PROPN', 'PUNCT']), (['Le', 'trafic', '(', '1948-1953', ')'], ['DET', 'NOUN', 'PUNCT', 'NOUN', 'PUNCT']), (['Son', 'cours', 'était', 'administrativement', 'lié', 'au', 'à', 'le', 'franc', ',', 'à', 'la', 'façon', 'du', 'de', 'le', 'franc', 'CFP', 'ou', 'du', 'de', 'le', 'franc', 'CFA', ',', 'afin', ',', 'théoriquement', ',', 'de', 'décourager', 'la', 'spéculation', 'monétaire', 'et', \"d'\", 'affirmer', 'la', 'domination', 'française', 'dans', 'la', 'région', '.'], ['DET', 'NOUN', 'AUX', 'ADV', 'VERB', '_', 'ADP', 'DET', 'NOUN', 'PUNCT', 'ADP', 'DET', 'NOUN', '_', 'ADP', 'DET', 'NOUN', 'PROPN', 'CCONJ', '_', 'ADP', 'DET', 'NOUN', 'PROPN', 'PUNCT', 'ADV', 'PUNCT', 'ADV', 'PUNCT', 'ADP', 'VERB', 'DET', 'NOUN', 'ADJ', 'CCONJ', 'ADP', 'VERB', 'DET', 'NOUN', 'ADJ', 'ADP', 'DET', 'NOUN', 'PUNCT']), (['Selon', 'Bernard', 'B.', 'Fall', ',', 'ce', 'trafic', 'fut', \"l'\", 'une', 'des', 'de', 'les', 'sources', 'de', 'profit', 'dans', 'le', 'cadre', \"d'\", 'une', 'colonisation', 'dont', 'le', 'bilan', 'général', \"s'\", 'avéra', 'très', 'négatif', 'pour', 'le', 'budget', 'national', '.'], ['ADP', 'PROPN', 'PROPN', 'PROPN', 'PUNCT', 'DET', 'NOUN', 'AUX', 'DET', 'PRON', '_', 'ADP', 'DET', 'NOUN', 'ADP', 'NOUN', 'ADP', 'DET', 'NOUN', 'ADP', 'DET', 'NOUN', 'PRON', 'DET', 'NOUN', 'ADJ', 'PRON', 'VERB', 'ADV', 'ADJ', 'ADP', 'DET', 'NOUN', 'ADJ', 'PUNCT']), (['Voir', 'aussi'], ['VERB', 'ADV']), (['-', 'Yves', 'Gras', ',', '\"', 'Histoire', 'de', 'la', 'Guerre', \"d'\", 'Indochine', '\"', ',', 'Plon', ',', 'Paris', ',', '1979', '.'], ['PUNCT', 'PROPN', 'PROPN', 'PUNCT', 'PUNCT', 'NOUN', 'ADP', 'DET', 'NOUN', 'ADP', 'PROPN', 'PUNCT', 'PUNCT', 'PROPN', 'PUNCT', 'PROPN', 'PUNCT', 'NUM', 'PUNCT']), (['Liens', 'internes'], ['NOUN', 'ADJ']), (['-', 'Colloque', 'sur', 'les', 'fraudes'], ['PUNCT', 'NOUN', 'ADP', 'DET', 'NOUN']), (['Quatrième', 'République', '.'], ['ADJ', 'NOUN', 'PUNCT'])]\n"
          ]
        }
      ]
    },
    {
      "cell_type": "code",
      "source": [
        "from collections import Counter"
      ],
      "metadata": {
        "id": "fTYm05PA4fZU"
      },
      "execution_count": 7,
      "outputs": []
    },
    {
      "cell_type": "code",
      "source": [
        "upos_tags = []\n",
        "\n",
        "# Iterate over each sentence in the corpus and collect UPOS tags\n",
        "for sentence in corpus:\n",
        "  tokens, tags = sentence  # sentence is a tuple of (tokens, UPOS tags)\n",
        "\n",
        "  # Collect all UPOS tags from the second part of the tuple\n",
        "  upos_tags.extend(tags)\n",
        "\n",
        "# Get the distribution of UPOS tags\n",
        "upos_distribution = Counter(upos_tags)\n",
        "\n",
        "for tag, count in upos_distribution.items():\n",
        "  print(f\"{tag}: {count}\")"
      ],
      "metadata": {
        "colab": {
          "base_uri": "https://localhost:8080/"
        },
        "id": "iuPgIxZw4mKN",
        "outputId": "01c7fcbb-ece7-4e7e-b6a5-e0df4f71fbb9"
      },
      "execution_count": 8,
      "outputs": [
        {
          "output_type": "stream",
          "name": "stdout",
          "text": [
            "PRON: 410\n",
            "VERB: 781\n",
            "SCONJ: 106\n",
            "DET: 1492\n",
            "NOUN: 2161\n",
            "ADJ: 638\n",
            "PUNCT: 1084\n",
            "ADV: 411\n",
            "NUM: 243\n",
            "ADP: 1634\n",
            "PROPN: 478\n",
            "CCONJ: 221\n",
            "AUX: 345\n",
            "_: 310\n",
            "X: 36\n",
            "SYM: 4\n"
          ]
        }
      ]
    },
    {
      "cell_type": "code",
      "source": [
        "def remove_spaces(corpus):\n",
        "  for sentence, _ in corpus:\n",
        "    for idx, word in enumerate(sentence):\n",
        "      sentence[idx] = word.replace(' ', '')  # Merge token by removing spaces\n",
        "  return corpus"
      ],
      "metadata": {
        "id": "8k6xlBt64lym"
      },
      "execution_count": 9,
      "outputs": []
    },
    {
      "cell_type": "code",
      "source": [
        "def new_label_mwt(ud_tokens, ud_labels):\n",
        "  new_tokens = []\n",
        "  new_labels = []\n",
        "\n",
        "  i = 0\n",
        "  while i < len(ud_labels):\n",
        "    cur_label = ud_labels[i]\n",
        "    cur_token = ud_tokens[i]\n",
        "    new_tokens.append(cur_token)\n",
        "\n",
        "    if cur_label == '_':\n",
        "      # if mwt, concatenate next two tags\n",
        "      new_labels.append('+'.join(ud_labels[i+1:i+3]))\n",
        "      i += 3\n",
        "\n",
        "    else:\n",
        "      new_labels.append(cur_label)\n",
        "      i += 1\n",
        "\n",
        "  return new_tokens, new_labels"
      ],
      "metadata": {
        "id": "Gef8oJsJ5P8k"
      },
      "execution_count": 10,
      "outputs": []
    },
    {
      "cell_type": "code",
      "source": [
        "def tokenize_and_align_labels(tokenizer, tokens, labels):\n",
        "  tokenized = tokenizer(\n",
        "      tokens,\n",
        "      is_split_into_words=True,\n",
        "      return_offsets_mapping=True,\n",
        "      padding=True,\n",
        "      truncation=True\n",
        "  )\n",
        "\n",
        "  aligned_labels = []\n",
        "\n",
        "  # align labels\n",
        "  for i, offset_mapping in enumerate(tokenized.offset_mapping):\n",
        "    sentence_labels = labels[i]\n",
        "    aligned_sentence_labels = []\n",
        "    label_index = 0\n",
        "\n",
        "    for start, end in offset_mapping:\n",
        "      if start == 0 and end != 0:\n",
        "        aligned_sentence_labels.append(sentence_labels[label_index])\n",
        "        label_index += 1\n",
        "      else:\n",
        "        aligned_sentence_labels.append('<pad>')\n",
        "\n",
        "    aligned_labels.append(aligned_sentence_labels)\n",
        "\n",
        "  return {\n",
        "      'input_ids': tokenized.input_ids,\n",
        "      'attention_mask': tokenized.attention_mask,\n",
        "      'labels': aligned_labels\n",
        "  }\n"
      ],
      "metadata": {
        "id": "dgNn1hfpCGK0"
      },
      "execution_count": 11,
      "outputs": []
    },
    {
      "cell_type": "code",
      "source": [
        "def create_label_mapping(labels):\n",
        "  # special tags\n",
        "  label2id = {'<unk>': 0, '<pad>': -100}\n",
        "  id2label = {0: '<unk>', -100: '<pad>'}\n",
        "\n",
        "  for label in labels:\n",
        "    if label not in label2id:  # Avoid duplicates\n",
        "      cur_id = len(label2id)\n",
        "      label2id[label] = cur_id\n",
        "      id2label[cur_id] = label\n",
        "\n",
        "  return label2id, id2label\n"
      ],
      "metadata": {
        "id": "J5j3dipZChoI"
      },
      "execution_count": 12,
      "outputs": []
    },
    {
      "cell_type": "code",
      "source": [
        "from datasets import Dataset\n",
        "from transformers import AutoTokenizer\n",
        "\n",
        "def prepare_dataset(ud_input, label2id, split='test'):\n",
        "  remove_spaces(ud_input)\n",
        "\n",
        "  new_data = [new_label_mwt(tokens, labels) for tokens, labels in ud_input]\n",
        "  new_tokens = [item[0] for item in new_data]\n",
        "  new_labels = [item[1] for item in new_data]\n",
        "\n",
        "  tokenizer = AutoTokenizer.from_pretrained(\"bert-base-multilingual-cased\")\n",
        "  tokenized_data = tokenize_and_align_labels(\n",
        "    tokenizer,\n",
        "    new_tokens,\n",
        "    new_labels\n",
        "  )\n",
        "\n",
        "  mapped_labels = [\n",
        "    [label2id.get(label, label2id['<unk>']) for label in sentence_labels]\n",
        "    for sentence_labels in tokenized_data['labels']\n",
        "  ]\n",
        "\n",
        "  data = [\n",
        "    {\n",
        "        'input_ids': tokenized_data['input_ids'][i],\n",
        "        'attention_mask': tokenized_data['attention_mask'][i],\n",
        "        'labels': mapped_labels[i]\n",
        "    }\n",
        "    for i in range(len(mapped_labels))\n",
        "  ]\n",
        "\n",
        "  dataset = Dataset.from_list(data)\n",
        "  print(f\"Loaded {split} dataset with {len(dataset)} samples.\")\n",
        "  return dataset\n"
      ],
      "metadata": {
        "id": "ssFfWPNuEav1"
      },
      "execution_count": 13,
      "outputs": []
    },
    {
      "cell_type": "code",
      "source": [
        "import collections"
      ],
      "metadata": {
        "id": "YecGnSOr5DTC"
      },
      "execution_count": 15,
      "outputs": []
    },
    {
      "cell_type": "code",
      "source": [
        "train_corpus = list(load_conllu(\"/content/drive/MyDrive/fr_sequoia-ud-train.conllu\"))\n",
        "test_corpus = list(load_conllu(\"/content/drive/MyDrive/fr_sequoia-ud-test.conllu\"))\n",
        "dev_corpus = list(load_conllu(\"/content/drive/MyDrive/fr_sequoia-ud-dev.conllu\"))\n",
        "\n",
        "train_counter_list = [collections.Counter(tree[1]) for tree in train_corpus]\n",
        "train_labels = sum(train_counter_list, collections.Counter())\n",
        "\n",
        "label2id, id2label = create_label_mapping(train_labels)\n",
        "\n",
        "train_data = prepare_dataset(train_corpus, label2id, split='train')\n",
        "test_data = prepare_dataset(test_corpus, label2id, split='test')\n",
        "dev_data = prepare_dataset(dev_corpus, label2id, split='dev')"
      ],
      "metadata": {
        "colab": {
          "base_uri": "https://localhost:8080/",
          "height": 318,
          "referenced_widgets": [
            "029b22407a2e452198e9994b6dad4191",
            "7d466fd04f894bf1ac1d798142c18a5f",
            "837d7d665a984f7a80e81934f34c9df0",
            "b02f0dd9d4174c0a93e6b0d5f786fdf1",
            "379e6b1b2343408ca8951b66d5b3c51b",
            "a1a0ce06f51348e3b16193c3eb168ea5",
            "e4de4ed88fe94c2485afe3984bf9f230",
            "d5101a2d958c4c60b939178bb629142c",
            "04e2b65474b04f38b8d470a5300b4501",
            "0b1d7228fb504eb2809cda5a5f6a137c",
            "ee67736917594d26a0882cba55f6e900",
            "ebb32fbcda8e4261b80b9ae9c0641021",
            "73ed8ee922414b889f789356c6e1dfab",
            "53cd97efdf6146219fbc5ebe103089d4",
            "ed578e394d264ad28e6b24a5b8c1ee1d",
            "4aaea284fe344215bc4a922c15dcf104",
            "5d278f68b8b946b090277a0c82cda271",
            "69e97d1a029d4c759a744230e5020ef2",
            "85d72605f23d42f491d1285138e717c9",
            "85c394483da341a18f64505a8de3c48a",
            "823def0cf74e4eadb7067903049cb410",
            "3f6f6e77003142a68f38dc1b995791ce",
            "a63cdd6215354417b6d2f0ac63637ea1",
            "b868f03406b349b5bdba630d95aca3b5",
            "b0df0b7d08c145ec89f563540eb0ffea",
            "08fd81fb851943d2822ca62776318ef5",
            "47b57c206898402d8d0743988edb0eb7",
            "23a47279cdbe461189887d490e672830",
            "25a4ee7c1b384da69b03a98be08b6a22",
            "43f00e77e8304485980450e6a01aa949",
            "3883c7915d92406fa067d93adc961564",
            "75556e7b2c20460b86a645fe87935135",
            "2df2e34d76c842df94947bfd9198f687",
            "5cf5b2a45f0d413aaadc9660365f766c",
            "41e9025a866c4a41a21497e3a0ef5320",
            "0d47c00b566d454bb24fc3de3a4d9134",
            "6ffe008fc7ba4654baffdf546b3272ac",
            "aa89e5c965fe49eeadddacf0a6432731",
            "7071f57ab0b743fa92f44e8607615c3b",
            "74c579cee8f3438ca86b025efbe9c442",
            "698b8304976448f983f848d5c49499dd",
            "ca6e74be8487478abc09bb348ed5b67f",
            "ddd01789e7b84e4ab6aa1976859205b1",
            "999c72a375a4498f93358c681fc754d9"
          ]
        },
        "id": "1a4pfuAMFP_X",
        "outputId": "e6379b86-db59-46ac-b97f-bf4c607f333f"
      },
      "execution_count": 16,
      "outputs": [
        {
          "output_type": "stream",
          "name": "stderr",
          "text": [
            "/usr/local/lib/python3.10/dist-packages/huggingface_hub/utils/_auth.py:94: UserWarning: \n",
            "The secret `HF_TOKEN` does not exist in your Colab secrets.\n",
            "To authenticate with the Hugging Face Hub, create a token in your settings tab (https://huggingface.co/settings/tokens), set it as secret in your Google Colab and restart your session.\n",
            "You will be able to reuse this secret in all of your notebooks.\n",
            "Please note that authentication is recommended but still optional to access public models or datasets.\n",
            "  warnings.warn(\n"
          ]
        },
        {
          "output_type": "display_data",
          "data": {
            "text/plain": [
              "tokenizer_config.json:   0%|          | 0.00/49.0 [00:00<?, ?B/s]"
            ],
            "application/vnd.jupyter.widget-view+json": {
              "version_major": 2,
              "version_minor": 0,
              "model_id": "029b22407a2e452198e9994b6dad4191"
            }
          },
          "metadata": {}
        },
        {
          "output_type": "display_data",
          "data": {
            "text/plain": [
              "config.json:   0%|          | 0.00/625 [00:00<?, ?B/s]"
            ],
            "application/vnd.jupyter.widget-view+json": {
              "version_major": 2,
              "version_minor": 0,
              "model_id": "ebb32fbcda8e4261b80b9ae9c0641021"
            }
          },
          "metadata": {}
        },
        {
          "output_type": "display_data",
          "data": {
            "text/plain": [
              "vocab.txt:   0%|          | 0.00/996k [00:00<?, ?B/s]"
            ],
            "application/vnd.jupyter.widget-view+json": {
              "version_major": 2,
              "version_minor": 0,
              "model_id": "a63cdd6215354417b6d2f0ac63637ea1"
            }
          },
          "metadata": {}
        },
        {
          "output_type": "display_data",
          "data": {
            "text/plain": [
              "tokenizer.json:   0%|          | 0.00/1.96M [00:00<?, ?B/s]"
            ],
            "application/vnd.jupyter.widget-view+json": {
              "version_major": 2,
              "version_minor": 0,
              "model_id": "5cf5b2a45f0d413aaadc9660365f766c"
            }
          },
          "metadata": {}
        },
        {
          "output_type": "stream",
          "name": "stdout",
          "text": [
            "Loaded train dataset with 2231 samples.\n",
            "Loaded test dataset with 456 samples.\n",
            "Loaded dev dataset with 412 samples.\n"
          ]
        }
      ]
    },
    {
      "cell_type": "code",
      "source": [
        "from transformers import AutoModelForTokenClassification, TrainingArguments, Trainer\n",
        "import numpy as np\n",
        "import evaluate\n",
        "\n",
        "# Define a function to compute accuracy\n",
        "def compute_metrics(predictions_and_labels):\n",
        "  accuracy_metric = evaluate.load(\"accuracy\")\n",
        "  logits, labels = predictions_and_labels\n",
        "  predictions = np.argmax(logits, axis=-1)\n",
        "\n",
        "  valid_predictions = predictions[labels != -100]\n",
        "  valid_labels = labels[labels != -100]\n",
        "\n",
        "  return accuracy_metric.compute(predictions=valid_predictions, references=valid_labels)"
      ],
      "metadata": {
        "id": "KkizXJNAEY1F"
      },
      "execution_count": 18,
      "outputs": []
    },
    {
      "cell_type": "code",
      "source": [
        "import os"
      ],
      "metadata": {
        "id": "AiaSIbUc6XtB"
      },
      "execution_count": 19,
      "outputs": []
    },
    {
      "cell_type": "code",
      "source": [
        "# Define the batch size\n",
        "batch_size = 16\n",
        "\n",
        "# Load the model\n",
        "model_checkpoint = \"bert-base-multilingual-cased\"\n",
        "model = AutoModelForTokenClassification.from_pretrained(model_checkpoint, num_labels=len(label2id))\n",
        "\n",
        "# Define the output directory\n",
        "output_dir = \"/content/drive/MyDrive/mBERT_outputs\"\n",
        "\n",
        "# Define the logging directory\n",
        "logging_dir = os.path.join(output_dir, \"logs\")\n",
        "\n",
        "# Define training arguments\n",
        "training_args = TrainingArguments(\n",
        "    output_dir=output_dir,\n",
        "    evaluation_strategy=\"epoch\",  # Evaluate at the end of each epoch\n",
        "    learning_rate=2e-5,\n",
        "    per_device_train_batch_size=batch_size,\n",
        "    per_device_eval_batch_size=batch_size,\n",
        "    num_train_epochs=3,\n",
        "    weight_decay=0.01,\n",
        "    logging_dir = logging_dir,  # Save logs in the same parent directory\n",
        "    logging_steps=10,\n",
        ")\n",
        "\n",
        "# Define the Trainer\n",
        "trainer = Trainer(\n",
        "    model=model,\n",
        "    args=training_args,\n",
        "    train_dataset=train_data,  # Use the train dataset\n",
        "    eval_dataset=dev_data,  # Use the dev dataset\n",
        "    compute_metrics=compute_metrics  # Compute accuracy during training\n",
        ")\n"
      ],
      "metadata": {
        "colab": {
          "base_uri": "https://localhost:8080/"
        },
        "id": "sjPxtmlr7QXg",
        "outputId": "f112b14c-4482-4303-89eb-490885b42afa"
      },
      "execution_count": 29,
      "outputs": [
        {
          "output_type": "stream",
          "name": "stderr",
          "text": [
            "Some weights of BertForTokenClassification were not initialized from the model checkpoint at bert-base-multilingual-cased and are newly initialized: ['classifier.bias', 'classifier.weight']\n",
            "You should probably TRAIN this model on a down-stream task to be able to use it for predictions and inference.\n",
            "/usr/local/lib/python3.10/dist-packages/transformers/training_args.py:1575: FutureWarning: `evaluation_strategy` is deprecated and will be removed in version 4.46 of 🤗 Transformers. Use `eval_strategy` instead\n",
            "  warnings.warn(\n"
          ]
        }
      ]
    },
    {
      "cell_type": "code",
      "source": [
        "trainer.train()"
      ],
      "metadata": {
        "colab": {
          "base_uri": "https://localhost:8080/",
          "height": 202
        },
        "id": "mOnfQ8Ws76mu",
        "outputId": "4de9e383-325d-48ba-c589-bb680815ae65"
      },
      "execution_count": 30,
      "outputs": [
        {
          "output_type": "display_data",
          "data": {
            "text/plain": [
              "<IPython.core.display.HTML object>"
            ],
            "text/html": [
              "\n",
              "    <div>\n",
              "      \n",
              "      <progress value='420' max='420' style='width:300px; height:20px; vertical-align: middle;'></progress>\n",
              "      [420/420 04:30, Epoch 3/3]\n",
              "    </div>\n",
              "    <table border=\"1\" class=\"dataframe\">\n",
              "  <thead>\n",
              " <tr style=\"text-align: left;\">\n",
              "      <th>Epoch</th>\n",
              "      <th>Training Loss</th>\n",
              "      <th>Validation Loss</th>\n",
              "      <th>Accuracy</th>\n",
              "    </tr>\n",
              "  </thead>\n",
              "  <tbody>\n",
              "    <tr>\n",
              "      <td>1</td>\n",
              "      <td>0.131200</td>\n",
              "      <td>0.099121</td>\n",
              "      <td>0.975095</td>\n",
              "    </tr>\n",
              "    <tr>\n",
              "      <td>2</td>\n",
              "      <td>0.064200</td>\n",
              "      <td>0.070518</td>\n",
              "      <td>0.984151</td>\n",
              "    </tr>\n",
              "    <tr>\n",
              "      <td>3</td>\n",
              "      <td>0.045900</td>\n",
              "      <td>0.066853</td>\n",
              "      <td>0.985181</td>\n",
              "    </tr>\n",
              "  </tbody>\n",
              "</table><p>"
            ]
          },
          "metadata": {}
        },
        {
          "output_type": "execute_result",
          "data": {
            "text/plain": [
              "TrainOutput(global_step=420, training_loss=0.23477502373002823, metrics={'train_runtime': 271.4842, 'train_samples_per_second': 24.653, 'train_steps_per_second': 1.547, 'total_flos': 710583244079904.0, 'train_loss': 0.23477502373002823, 'epoch': 3.0})"
            ]
          },
          "metadata": {},
          "execution_count": 30
        }
      ]
    },
    {
      "cell_type": "code",
      "source": [
        "en_test = list(load_conllu(\"/content/drive/MyDrive/en_ewt-ud-test.conllu\"))\n",
        "ru_test = list(load_conllu(\"/content/drive/MyDrive/ru_gsd-ud-test.conllu\"))\n",
        "id_test = list(load_conllu(\"/content/drive/MyDrive/id_gsd-ud-test.conllu\"))\n",
        "it_test = list(load_conllu(\"/content/drive/MyDrive/it_isdt-ud-test.conllu\"))\n",
        "de_test = list(load_conllu(\"/content/drive/MyDrive/de_gsd-ud-test.conllu\"))"
      ],
      "metadata": {
        "id": "VhRjjDmGVOF8"
      },
      "execution_count": 31,
      "outputs": []
    },
    {
      "cell_type": "code",
      "source": [
        "print(en_test[5])\n",
        "print(ru_test[5])\n",
        "print(id_test[5])\n",
        "print(it_test[5])\n",
        "print(de_test[5])"
      ],
      "metadata": {
        "colab": {
          "base_uri": "https://localhost:8080/"
        },
        "id": "S4Y-u04TV13n",
        "outputId": "bb06bd73-2b6e-4c29-ff38-9ee94b943957"
      },
      "execution_count": 33,
      "outputs": [
        {
          "output_type": "stream",
          "name": "stdout",
          "text": [
            "(['Google', 'is', 'a', 'nice', 'search', 'engine', '.'], ['PROPN', 'AUX', 'DET', 'ADJ', 'NOUN', 'NOUN', 'PUNCT'])\n",
            "(['Когда', 'Мэлоуну', 'исполнилось', 'три', 'года', ',', 'его', 'отец', ',', 'Шедрик', 'Хэй', ',', 'ушел', 'из', 'семьи', 'и', 'женился', 'на', 'другой', 'женщине', ',', 'а', 'позже', 'покончил', 'жизнь', 'самоубийством', '.'], ['SCONJ', 'PROPN', 'VERB', 'NUM', 'NOUN', 'PUNCT', 'DET', 'NOUN', 'PUNCT', 'PROPN', 'PROPN', 'PUNCT', 'VERB', 'ADP', 'NOUN', 'CCONJ', 'VERB', 'ADP', 'ADJ', 'NOUN', 'PUNCT', 'CCONJ', 'ADV', 'VERB', 'NOUN', 'NOUN', 'PUNCT'])\n",
            "(['Laut', 'Sulawesi', 'merupakan', 'tempat', 'bagi', 'banyak', 'spesies', 'ikan', 'dan', 'makhluk', 'bawah', 'air', '.'], ['PROPN', 'PROPN', 'VERB', 'NOUN', 'ADP', 'DET', 'NOUN', 'NOUN', 'CCONJ', 'NOUN', 'NOUN', 'NOUN', 'PUNCT'])\n",
            "(['Fanno', 'fatica', 'ad', 'ammettere', 'che', 'una', 'mescolanza', 'misteriosa', 'di', 'fattori', 'genetici', ',', 'di', 'educazione', 'e', 'di', 'stimoli', 'ambientali', ',', 'possa', 'produrre', 'individui', 'che', 'sanno', 'fare', 'cose', 'che', 'essi', 'non', 'potranno', 'mai', 'nemmeno', 'immaginare', '.'], ['VERB', 'NOUN', 'ADP', 'VERB', 'SCONJ', 'DET', 'NOUN', 'ADJ', 'ADP', 'NOUN', 'ADJ', 'PUNCT', 'ADP', 'NOUN', 'CCONJ', 'ADP', 'NOUN', 'ADJ', 'PUNCT', 'AUX', 'VERB', 'NOUN', 'PRON', 'VERB', 'VERB', 'NOUN', 'PRON', 'PRON', 'ADV', 'AUX', 'ADV', 'ADV', 'VERB', 'PUNCT'])\n",
            "(['(', 'Bei', 'den', 'Damen', 'und', 'Herren', 'des', 'besagten', 'Mobilfunkanbieters', 'bin', 'ich', 'im', 'in', 'dem', 'Gegensatz', 'dazu', 'bisher', 'ausschließlich', 'auf', 'arrogante', 'Unkenntnis', 'gestossen', ')', '.'], ['PUNCT', 'ADP', 'DET', 'NOUN', 'CCONJ', 'NOUN', 'DET', 'ADJ', 'NOUN', 'AUX', 'PRON', '_', 'ADP', 'DET', 'NOUN', 'ADV', 'ADV', 'ADV', 'ADP', 'ADJ', 'NOUN', 'VERB', 'PUNCT', 'PUNCT'])\n"
          ]
        }
      ]
    },
    {
      "cell_type": "code",
      "source": [
        "l_test = [en_test, ru_test, id_test, it_test, de_test]\n",
        "for corpus in l_test:\n",
        "  print(len(corpus))"
      ],
      "metadata": {
        "colab": {
          "base_uri": "https://localhost:8080/"
        },
        "id": "_61caOzfW-jk",
        "outputId": "0187e17a-19e9-4da5-f016-768f34575397"
      },
      "execution_count": 34,
      "outputs": [
        {
          "output_type": "stream",
          "name": "stdout",
          "text": [
            "2077\n",
            "601\n",
            "557\n",
            "482\n",
            "977\n"
          ]
        }
      ]
    },
    {
      "cell_type": "code",
      "source": [
        "# storage for results\n",
        "languages = [\"English\", \"Russian\", \"Indonesian\", \"Italian\", \"German\"]\n",
        "accuracies = []\n",
        "\n",
        "l_test = [en_test[:400], ru_test[:400], id_test[:400], it_test[:400], de_test[:400]]\n",
        "for i, corpus in enumerate(l_test):\n",
        "  # Count the label distribution (optional, useful for debugging)\n",
        "  cur_counter_list = [collections.Counter(tree[1]) for tree in corpus]\n",
        "  cur_labels = sum(cur_counter_list, collections.Counter())\n",
        "\n",
        "  # Prepare the dataset\n",
        "  cur_test = prepare_dataset(corpus, label2id, split=f'test_{i}')\n",
        "\n",
        "  # Evaluate using the trainer\n",
        "  acc = trainer.evaluate(cur_test)\n",
        "\n",
        "  accuracies.append(acc[\"eval_accuracy\"])\n",
        "\n",
        "  # Print evaluation results\n",
        "  print(f\"Accuracy for test set {i + 1}:\")\n",
        "  print(acc)\n"
      ],
      "metadata": {
        "colab": {
          "base_uri": "https://localhost:8080/",
          "height": 312
        },
        "id": "nsGWIapjZAk1",
        "outputId": "c098c9b0-0034-499e-944d-11161dd5557a"
      },
      "execution_count": 38,
      "outputs": [
        {
          "output_type": "stream",
          "name": "stdout",
          "text": [
            "Loaded test_0 dataset with 400 samples.\n"
          ]
        },
        {
          "output_type": "display_data",
          "data": {
            "text/plain": [
              "<IPython.core.display.HTML object>"
            ],
            "text/html": [
              "\n",
              "    <div>\n",
              "      \n",
              "      <progress value='325' max='25' style='width:300px; height:20px; vertical-align: middle;'></progress>\n",
              "      [25/25 06:43]\n",
              "    </div>\n",
              "    "
            ]
          },
          "metadata": {}
        },
        {
          "output_type": "stream",
          "name": "stdout",
          "text": [
            "Accuracy for test set 1:\n",
            "{'eval_loss': 0.805186927318573, 'eval_accuracy': 0.816382362407467, 'eval_runtime': 2.8653, 'eval_samples_per_second': 139.6, 'eval_steps_per_second': 8.725, 'epoch': 3.0}\n",
            "Loaded test_1 dataset with 400 samples.\n",
            "Accuracy for test set 2:\n",
            "{'eval_loss': 0.6824653744697571, 'eval_accuracy': 0.8440200724839699, 'eval_runtime': 4.2046, 'eval_samples_per_second': 95.134, 'eval_steps_per_second': 5.946, 'epoch': 3.0}\n",
            "Loaded test_2 dataset with 400 samples.\n",
            "Accuracy for test set 3:\n",
            "{'eval_loss': 0.914439857006073, 'eval_accuracy': 0.7834118522191916, 'eval_runtime': 3.4704, 'eval_samples_per_second': 115.26, 'eval_steps_per_second': 7.204, 'epoch': 3.0}\n",
            "Loaded test_3 dataset with 400 samples.\n",
            "Accuracy for test set 4:\n",
            "{'eval_loss': 0.3001086115837097, 'eval_accuracy': 0.9322185345928006, 'eval_runtime': 2.8215, 'eval_samples_per_second': 141.77, 'eval_steps_per_second': 8.861, 'epoch': 3.0}\n",
            "Loaded test_4 dataset with 400 samples.\n",
            "Accuracy for test set 5:\n",
            "{'eval_loss': 0.6076931953430176, 'eval_accuracy': 0.866039571845605, 'eval_runtime': 1.96, 'eval_samples_per_second': 204.079, 'eval_steps_per_second': 12.755, 'epoch': 3.0}\n"
          ]
        }
      ]
    },
    {
      "cell_type": "code",
      "source": [
        "import matplotlib.pyplot as plt\n",
        "\n",
        "# Create the bar chart\n",
        "plt.figure(figsize=(10, 6))\n",
        "bars = plt.bar(languages, accuracies, color=\"skyblue\")  # Assign the result to 'bars'\n",
        "\n",
        "# Add precision to bar labels\n",
        "for bar, accuracy in zip(bars, accuracies):\n",
        "  plt.text(bar.get_x() + bar.get_width() / 2, bar.get_height() - 0.02,\n",
        "          f\"{accuracy:.2f}\", ha='center', va='bottom', fontsize=10)\n",
        "\n",
        "# Add chart labels and title\n",
        "plt.xlabel(\"Languages\")\n",
        "plt.ylabel(\"Accuracy\")\n",
        "plt.title(\"Evaluation Accuracy\")\n",
        "plt.ylim(0, 1.0)\n",
        "plt.show()"
      ],
      "metadata": {
        "colab": {
          "base_uri": "https://localhost:8080/",
          "height": 564
        },
        "id": "CVpgjmqwBwvA",
        "outputId": "17e44614-ba0d-4c75-ac81-1543c00599f2"
      },
      "execution_count": 42,
      "outputs": [
        {
          "output_type": "display_data",
          "data": {
            "text/plain": [
              "<Figure size 1000x600 with 1 Axes>"
            ],
            "image/png": "[encoded data removed]"
          },
          "metadata": {}
        }
      ]
    }
  ]
}